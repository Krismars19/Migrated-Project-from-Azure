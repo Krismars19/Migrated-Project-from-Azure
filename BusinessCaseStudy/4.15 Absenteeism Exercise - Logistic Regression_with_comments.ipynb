{
  "cells": [
    {
      "metadata": {},
      "cell_type": "markdown",
      "source": "# Creating a logistic regression to predict absenteeism"
    },
    {
      "metadata": {},
      "cell_type": "markdown",
      "source": "## Import the relevant libraries"
    },
    {
      "metadata": {
        "trusted": true
      },
      "cell_type": "code",
      "source": "# import the relevant libraries\nimport pandas as pd\nimport numpy as np",
      "execution_count": 1,
      "outputs": []
    },
    {
      "metadata": {},
      "cell_type": "markdown",
      "source": "## Load the data"
    },
    {
      "metadata": {
        "trusted": true
      },
      "cell_type": "code",
      "source": "# load the preprocessed CSV data\ndata_preprocessed = pd.read_csv('Absenteeism_preprocessed.csv')",
      "execution_count": 2,
      "outputs": []
    },
    {
      "metadata": {
        "trusted": true
      },
      "cell_type": "code",
      "source": "# eyeball the data\ndata_preprocessed.head()",
      "execution_count": 3,
      "outputs": [
        {
          "output_type": "execute_result",
          "execution_count": 3,
          "data": {
            "text/html": "<div>\n<table border=\"1\" class=\"dataframe\">\n  <thead>\n    <tr style=\"text-align: right;\">\n      <th></th>\n      <th>Reason_1</th>\n      <th>Reason_2</th>\n      <th>Reason_3</th>\n      <th>Reason_4</th>\n      <th>Month Value</th>\n      <th>Day of the Week</th>\n      <th>Transportation Expense</th>\n      <th>Distance to Work</th>\n      <th>Age</th>\n      <th>Daily Work Load Average</th>\n      <th>Body Mass Index</th>\n      <th>Education</th>\n      <th>Children</th>\n      <th>Pets</th>\n      <th>Absenteeism Time in Hours</th>\n    </tr>\n  </thead>\n  <tbody>\n    <tr>\n      <th>0</th>\n      <td>0</td>\n      <td>0</td>\n      <td>0</td>\n      <td>1</td>\n      <td>7</td>\n      <td>1</td>\n      <td>289</td>\n      <td>36</td>\n      <td>33</td>\n      <td>239.554</td>\n      <td>30</td>\n      <td>0</td>\n      <td>2</td>\n      <td>1</td>\n      <td>4</td>\n    </tr>\n    <tr>\n      <th>1</th>\n      <td>0</td>\n      <td>0</td>\n      <td>0</td>\n      <td>0</td>\n      <td>7</td>\n      <td>1</td>\n      <td>118</td>\n      <td>13</td>\n      <td>50</td>\n      <td>239.554</td>\n      <td>31</td>\n      <td>0</td>\n      <td>1</td>\n      <td>0</td>\n      <td>0</td>\n    </tr>\n    <tr>\n      <th>2</th>\n      <td>0</td>\n      <td>0</td>\n      <td>0</td>\n      <td>1</td>\n      <td>7</td>\n      <td>2</td>\n      <td>179</td>\n      <td>51</td>\n      <td>38</td>\n      <td>239.554</td>\n      <td>31</td>\n      <td>0</td>\n      <td>0</td>\n      <td>0</td>\n      <td>2</td>\n    </tr>\n    <tr>\n      <th>3</th>\n      <td>1</td>\n      <td>0</td>\n      <td>0</td>\n      <td>0</td>\n      <td>7</td>\n      <td>3</td>\n      <td>279</td>\n      <td>5</td>\n      <td>39</td>\n      <td>239.554</td>\n      <td>24</td>\n      <td>0</td>\n      <td>2</td>\n      <td>0</td>\n      <td>4</td>\n    </tr>\n    <tr>\n      <th>4</th>\n      <td>0</td>\n      <td>0</td>\n      <td>0</td>\n      <td>1</td>\n      <td>7</td>\n      <td>3</td>\n      <td>289</td>\n      <td>36</td>\n      <td>33</td>\n      <td>239.554</td>\n      <td>30</td>\n      <td>0</td>\n      <td>2</td>\n      <td>1</td>\n      <td>2</td>\n    </tr>\n  </tbody>\n</table>\n</div>",
            "text/plain": "   Reason_1  Reason_2  Reason_3  Reason_4  Month Value  Day of the Week  \\\n0         0         0         0         1            7                1   \n1         0         0         0         0            7                1   \n2         0         0         0         1            7                2   \n3         1         0         0         0            7                3   \n4         0         0         0         1            7                3   \n\n   Transportation Expense  Distance to Work  Age  Daily Work Load Average  \\\n0                     289                36   33                  239.554   \n1                     118                13   50                  239.554   \n2                     179                51   38                  239.554   \n3                     279                 5   39                  239.554   \n4                     289                36   33                  239.554   \n\n   Body Mass Index  Education  Children  Pets  Absenteeism Time in Hours  \n0               30          0         2     1                          4  \n1               31          0         1     0                          0  \n2               31          0         0     0                          2  \n3               24          0         2     0                          4  \n4               30          0         2     1                          2  "
          },
          "metadata": {}
        }
      ]
    },
    {
      "metadata": {},
      "cell_type": "markdown",
      "source": "## Create the targets"
    },
    {
      "metadata": {
        "trusted": true
      },
      "cell_type": "code",
      "source": "# find the median of 'Absenteeism Time in Hours'\ndata_preprocessed['Absenteeism Time in Hours'].median()",
      "execution_count": 4,
      "outputs": [
        {
          "output_type": "execute_result",
          "execution_count": 4,
          "data": {
            "text/plain": "3.0"
          },
          "metadata": {}
        }
      ]
    },
    {
      "metadata": {
        "trusted": true
      },
      "cell_type": "code",
      "source": "# create targets for our logistic regression\n# they have to be categories and we must find a way to say if someone is 'being absent too much' or not\n# what we've decided to do is to take the median of the dataset as a cut-off line\n# in this way the dataset will be balanced (there will be roughly equal number of 0s and 1s for the logistic regression)\n# as balancing is a great problem for ML, this will work great for us\n# alternatively, if we had more data, we could have found other ways to deal with the issue \n# for instance, we could have assigned some arbitrary value as a cut-off line, instead of the median\n\n# note that what line does is to assign 1 to anyone who has been absent 4 hours or more (more than 3 hours)\n# that is the equivalent of taking half a day off\n\n# initial code from the lecture\n# targets = np.where(data_preprocessed['Absenteeism Time in Hours'] > 3, 1, 0)\n\n# parameterized code\ntargets = np.where(data_preprocessed['Absenteeism Time in Hours'] > \n                   data_preprocessed['Absenteeism Time in Hours'].median(), 1, 0)",
      "execution_count": 5,
      "outputs": []
    },
    {
      "metadata": {
        "scrolled": true,
        "trusted": true
      },
      "cell_type": "code",
      "source": "# eyeball the targets\ntargets",
      "execution_count": 6,
      "outputs": [
        {
          "output_type": "execute_result",
          "execution_count": 6,
          "data": {
            "text/plain": "array([1, 0, 0, 1, 0, 0, 1, 1, 1, 1, 1, 1, 1, 0, 1, 1, 0, 1, 1, 0, 1, 0,\n       1, 1, 1, 1, 0, 1, 1, 0, 1, 1, 1, 1, 0, 0, 1, 1, 1, 1, 0, 1, 1, 1,\n       0, 0, 0, 1, 1, 1, 0, 0, 0, 0, 0, 0, 0, 0, 0, 0, 0, 1, 0, 0, 0, 0,\n       0, 0, 0, 0, 0, 1, 1, 0, 1, 1, 0, 1, 0, 0, 0, 0, 1, 1, 1, 1, 1, 1,\n       0, 1, 0, 1, 0, 1, 0, 0, 1, 0, 0, 1, 0, 1, 0, 1, 1, 1, 0, 0, 0, 1,\n       0, 1, 0, 0, 0, 0, 1, 0, 0, 0, 0, 0, 0, 0, 0, 0, 0, 0, 0, 1, 1, 0,\n       0, 0, 0, 0, 0, 0, 1, 1, 0, 1, 0, 1, 1, 1, 0, 0, 0, 1, 0, 1, 0, 0,\n       1, 0, 1, 0, 1, 1, 1, 1, 0, 1, 1, 1, 1, 1, 1, 1, 1, 0, 1, 1, 0, 1,\n       0, 1, 1, 0, 1, 0, 0, 0, 0, 0, 0, 1, 0, 0, 1, 1, 0, 0, 1, 0, 1, 1,\n       1, 1, 1, 1, 0, 0, 1, 0, 0, 1, 1, 1, 0, 0, 1, 0, 0, 0, 0, 0, 1, 1,\n       1, 1, 1, 1, 1, 1, 1, 1, 1, 1, 0, 1, 1, 0, 0, 0, 1, 1, 1, 1, 1, 1,\n       0, 1, 1, 0, 1, 1, 1, 1, 1, 0, 1, 0, 0, 1, 0, 0, 1, 1, 0, 1, 0, 0,\n       0, 0, 0, 1, 1, 1, 1, 0, 1, 0, 1, 0, 0, 0, 1, 1, 0, 1, 1, 1, 0, 0,\n       0, 1, 1, 1, 1, 1, 1, 0, 0, 1, 0, 1, 0, 1, 0, 1, 0, 0, 0, 0, 0, 1,\n       1, 0, 1, 0, 0, 0, 1, 1, 0, 1, 0, 1, 0, 0, 1, 1, 1, 0, 0, 0, 0, 0,\n       1, 1, 1, 0, 1, 1, 0, 0, 0, 0, 0, 0, 0, 0, 1, 1, 0, 0, 0, 1, 0, 0,\n       1, 1, 1, 0, 0, 1, 1, 1, 0, 0, 1, 1, 1, 1, 1, 0, 0, 0, 0, 0, 0, 0,\n       0, 0, 0, 1, 1, 0, 1, 0, 0, 0, 1, 0, 0, 1, 0, 0, 1, 1, 0, 1, 0, 1,\n       1, 1, 1, 1, 0, 1, 0, 0, 1, 0, 0, 0, 1, 1, 1, 0, 1, 0, 1, 1, 1, 1,\n       1, 0, 1, 1, 1, 1, 0, 1, 0, 1, 0, 1, 0, 0, 0, 0, 1, 0, 1, 0, 0, 1,\n       0, 0, 0, 0, 1, 1, 0, 1, 1, 0, 1, 1, 0, 0, 0, 1, 0, 0, 0, 1, 0, 1,\n       1, 1, 1, 1, 1, 1, 1, 0, 0, 1, 0, 0, 1, 1, 1, 0, 0, 0, 1, 0, 1, 1,\n       1, 1, 1, 1, 1, 1, 1, 0, 1, 0, 0, 0, 0, 0, 0, 0, 1, 0, 1, 0, 0, 1,\n       1, 0, 0, 1, 0, 0, 0, 0, 0, 0, 1, 0, 1, 1, 0, 0, 0, 1, 0, 1, 0, 1,\n       1, 1, 0, 0, 0, 0, 1, 0, 1, 1, 1, 1, 1, 0, 0, 0, 0, 1, 1, 0, 0, 0,\n       1, 0, 0, 1, 0, 1, 0, 0, 0, 0, 0, 1, 0, 1, 1, 1, 0, 0, 0, 1, 1, 1,\n       0, 0, 0, 0, 1, 0, 0, 1, 0, 0, 1, 0, 0, 1, 0, 1, 0, 0, 0, 0, 0, 0,\n       0, 0, 1, 0, 0, 0, 0, 0, 0, 0, 0, 0, 1, 0, 1, 0, 0, 0, 0, 0, 0, 0,\n       0, 0, 0, 0, 0, 0, 1, 0, 0, 0, 0, 0, 0, 1, 1, 0, 0, 0, 1, 0, 0, 1,\n       0, 1, 0, 0, 0, 0, 0, 0, 0, 1, 1, 0, 0, 0, 1, 1, 1, 1, 1, 1, 1, 0,\n       1, 0, 0, 0, 0, 1, 0, 1, 0, 0, 1, 1, 0, 0, 1, 0, 0, 0, 1, 0, 0, 1,\n       1, 1, 0, 0, 0, 0, 0, 0, 0, 0, 1, 1, 1, 1, 0, 1, 0, 0])"
          },
          "metadata": {}
        }
      ]
    },
    {
      "metadata": {
        "trusted": true
      },
      "cell_type": "code",
      "source": "# create a Series in the original data frame that will contain the targets for the regression\ndata_preprocessed['Excessive Absenteeism'] = targets",
      "execution_count": 7,
      "outputs": []
    },
    {
      "metadata": {
        "trusted": true
      },
      "cell_type": "code",
      "source": "# check what happened\n# maybe manually see how the targets were created\ndata_preprocessed.head()",
      "execution_count": 8,
      "outputs": [
        {
          "output_type": "execute_result",
          "execution_count": 8,
          "data": {
            "text/html": "<div>\n<table border=\"1\" class=\"dataframe\">\n  <thead>\n    <tr style=\"text-align: right;\">\n      <th></th>\n      <th>Reason_1</th>\n      <th>Reason_2</th>\n      <th>Reason_3</th>\n      <th>Reason_4</th>\n      <th>Month Value</th>\n      <th>Day of the Week</th>\n      <th>Transportation Expense</th>\n      <th>Distance to Work</th>\n      <th>Age</th>\n      <th>Daily Work Load Average</th>\n      <th>Body Mass Index</th>\n      <th>Education</th>\n      <th>Children</th>\n      <th>Pets</th>\n      <th>Absenteeism Time in Hours</th>\n      <th>Excessive Absenteeism</th>\n    </tr>\n  </thead>\n  <tbody>\n    <tr>\n      <th>0</th>\n      <td>0</td>\n      <td>0</td>\n      <td>0</td>\n      <td>1</td>\n      <td>7</td>\n      <td>1</td>\n      <td>289</td>\n      <td>36</td>\n      <td>33</td>\n      <td>239.554</td>\n      <td>30</td>\n      <td>0</td>\n      <td>2</td>\n      <td>1</td>\n      <td>4</td>\n      <td>1</td>\n    </tr>\n    <tr>\n      <th>1</th>\n      <td>0</td>\n      <td>0</td>\n      <td>0</td>\n      <td>0</td>\n      <td>7</td>\n      <td>1</td>\n      <td>118</td>\n      <td>13</td>\n      <td>50</td>\n      <td>239.554</td>\n      <td>31</td>\n      <td>0</td>\n      <td>1</td>\n      <td>0</td>\n      <td>0</td>\n      <td>0</td>\n    </tr>\n    <tr>\n      <th>2</th>\n      <td>0</td>\n      <td>0</td>\n      <td>0</td>\n      <td>1</td>\n      <td>7</td>\n      <td>2</td>\n      <td>179</td>\n      <td>51</td>\n      <td>38</td>\n      <td>239.554</td>\n      <td>31</td>\n      <td>0</td>\n      <td>0</td>\n      <td>0</td>\n      <td>2</td>\n      <td>0</td>\n    </tr>\n    <tr>\n      <th>3</th>\n      <td>1</td>\n      <td>0</td>\n      <td>0</td>\n      <td>0</td>\n      <td>7</td>\n      <td>3</td>\n      <td>279</td>\n      <td>5</td>\n      <td>39</td>\n      <td>239.554</td>\n      <td>24</td>\n      <td>0</td>\n      <td>2</td>\n      <td>0</td>\n      <td>4</td>\n      <td>1</td>\n    </tr>\n    <tr>\n      <th>4</th>\n      <td>0</td>\n      <td>0</td>\n      <td>0</td>\n      <td>1</td>\n      <td>7</td>\n      <td>3</td>\n      <td>289</td>\n      <td>36</td>\n      <td>33</td>\n      <td>239.554</td>\n      <td>30</td>\n      <td>0</td>\n      <td>2</td>\n      <td>1</td>\n      <td>2</td>\n      <td>0</td>\n    </tr>\n  </tbody>\n</table>\n</div>",
            "text/plain": "   Reason_1  Reason_2  Reason_3  Reason_4  Month Value  Day of the Week  \\\n0         0         0         0         1            7                1   \n1         0         0         0         0            7                1   \n2         0         0         0         1            7                2   \n3         1         0         0         0            7                3   \n4         0         0         0         1            7                3   \n\n   Transportation Expense  Distance to Work  Age  Daily Work Load Average  \\\n0                     289                36   33                  239.554   \n1                     118                13   50                  239.554   \n2                     179                51   38                  239.554   \n3                     279                 5   39                  239.554   \n4                     289                36   33                  239.554   \n\n   Body Mass Index  Education  Children  Pets  Absenteeism Time in Hours  \\\n0               30          0         2     1                          4   \n1               31          0         1     0                          0   \n2               31          0         0     0                          2   \n3               24          0         2     0                          4   \n4               30          0         2     1                          2   \n\n   Excessive Absenteeism  \n0                      1  \n1                      0  \n2                      0  \n3                      1  \n4                      0  "
          },
          "metadata": {}
        }
      ]
    },
    {
      "metadata": {},
      "cell_type": "markdown",
      "source": "## A comment on the targets"
    },
    {
      "metadata": {
        "trusted": true
      },
      "cell_type": "code",
      "source": "# check if dataset is balanced (what % of targets are 1s)\n# targets.sum() will give us the number of 1s that there are\n# the shape[0] will give us the length of the targets array\ntargets.sum() / targets.shape[0]",
      "execution_count": 9,
      "outputs": [
        {
          "output_type": "execute_result",
          "execution_count": 9,
          "data": {
            "text/plain": "0.45571428571428574"
          },
          "metadata": {}
        }
      ]
    },
    {
      "metadata": {
        "trusted": true
      },
      "cell_type": "code",
      "source": "# create a checkpoint by dropping the unnecessary variables\n# also drop the variables we 'eliminated' after exploring the weights\ndata_with_targets = data_preprocessed.drop(['Absenteeism Time in Hours','Day of the Week',\n                                            'Daily Work Load Average','Distance to Work'],axis=1)",
      "execution_count": 10,
      "outputs": []
    },
    {
      "metadata": {
        "trusted": true
      },
      "cell_type": "code",
      "source": "# check if the line above is a checkpoint :)\n\n# if data_with_targets is data_preprocessed = True, then the two are pointing to the same object\n# if it is False, then the two variables are completely different and this is in fact a checkpoint\ndata_with_targets is data_preprocessed",
      "execution_count": 11,
      "outputs": [
        {
          "output_type": "execute_result",
          "execution_count": 11,
          "data": {
            "text/plain": "False"
          },
          "metadata": {}
        }
      ]
    },
    {
      "metadata": {
        "trusted": true
      },
      "cell_type": "code",
      "source": "# check what's inside\ndata_with_targets.head()",
      "execution_count": 12,
      "outputs": [
        {
          "output_type": "execute_result",
          "execution_count": 12,
          "data": {
            "text/html": "<div>\n<table border=\"1\" class=\"dataframe\">\n  <thead>\n    <tr style=\"text-align: right;\">\n      <th></th>\n      <th>Reason_1</th>\n      <th>Reason_2</th>\n      <th>Reason_3</th>\n      <th>Reason_4</th>\n      <th>Month Value</th>\n      <th>Transportation Expense</th>\n      <th>Age</th>\n      <th>Body Mass Index</th>\n      <th>Education</th>\n      <th>Children</th>\n      <th>Pets</th>\n      <th>Excessive Absenteeism</th>\n    </tr>\n  </thead>\n  <tbody>\n    <tr>\n      <th>0</th>\n      <td>0</td>\n      <td>0</td>\n      <td>0</td>\n      <td>1</td>\n      <td>7</td>\n      <td>289</td>\n      <td>33</td>\n      <td>30</td>\n      <td>0</td>\n      <td>2</td>\n      <td>1</td>\n      <td>1</td>\n    </tr>\n    <tr>\n      <th>1</th>\n      <td>0</td>\n      <td>0</td>\n      <td>0</td>\n      <td>0</td>\n      <td>7</td>\n      <td>118</td>\n      <td>50</td>\n      <td>31</td>\n      <td>0</td>\n      <td>1</td>\n      <td>0</td>\n      <td>0</td>\n    </tr>\n    <tr>\n      <th>2</th>\n      <td>0</td>\n      <td>0</td>\n      <td>0</td>\n      <td>1</td>\n      <td>7</td>\n      <td>179</td>\n      <td>38</td>\n      <td>31</td>\n      <td>0</td>\n      <td>0</td>\n      <td>0</td>\n      <td>0</td>\n    </tr>\n    <tr>\n      <th>3</th>\n      <td>1</td>\n      <td>0</td>\n      <td>0</td>\n      <td>0</td>\n      <td>7</td>\n      <td>279</td>\n      <td>39</td>\n      <td>24</td>\n      <td>0</td>\n      <td>2</td>\n      <td>0</td>\n      <td>1</td>\n    </tr>\n    <tr>\n      <th>4</th>\n      <td>0</td>\n      <td>0</td>\n      <td>0</td>\n      <td>1</td>\n      <td>7</td>\n      <td>289</td>\n      <td>33</td>\n      <td>30</td>\n      <td>0</td>\n      <td>2</td>\n      <td>1</td>\n      <td>0</td>\n    </tr>\n  </tbody>\n</table>\n</div>",
            "text/plain": "   Reason_1  Reason_2  Reason_3  Reason_4  Month Value  \\\n0         0         0         0         1            7   \n1         0         0         0         0            7   \n2         0         0         0         1            7   \n3         1         0         0         0            7   \n4         0         0         0         1            7   \n\n   Transportation Expense  Age  Body Mass Index  Education  Children  Pets  \\\n0                     289   33               30          0         2     1   \n1                     118   50               31          0         1     0   \n2                     179   38               31          0         0     0   \n3                     279   39               24          0         2     0   \n4                     289   33               30          0         2     1   \n\n   Excessive Absenteeism  \n0                      1  \n1                      0  \n2                      0  \n3                      1  \n4                      0  "
          },
          "metadata": {}
        }
      ]
    },
    {
      "metadata": {},
      "cell_type": "markdown",
      "source": "## Select the inputs for the regression"
    },
    {
      "metadata": {
        "trusted": true
      },
      "cell_type": "code",
      "source": "data_with_targets.shape",
      "execution_count": 13,
      "outputs": [
        {
          "output_type": "execute_result",
          "execution_count": 13,
          "data": {
            "text/plain": "(700, 12)"
          },
          "metadata": {}
        }
      ]
    },
    {
      "metadata": {
        "scrolled": true,
        "trusted": true
      },
      "cell_type": "code",
      "source": "# Selects all rows and all columns until 14 (excluding)\ndata_with_targets.iloc[:,:14]",
      "execution_count": 14,
      "outputs": [
        {
          "output_type": "execute_result",
          "execution_count": 14,
          "data": {
            "text/html": "<div>\n<table border=\"1\" class=\"dataframe\">\n  <thead>\n    <tr style=\"text-align: right;\">\n      <th></th>\n      <th>Reason_1</th>\n      <th>Reason_2</th>\n      <th>Reason_3</th>\n      <th>Reason_4</th>\n      <th>Month Value</th>\n      <th>Transportation Expense</th>\n      <th>Age</th>\n      <th>Body Mass Index</th>\n      <th>Education</th>\n      <th>Children</th>\n      <th>Pets</th>\n      <th>Excessive Absenteeism</th>\n    </tr>\n  </thead>\n  <tbody>\n    <tr>\n      <th>0</th>\n      <td>0</td>\n      <td>0</td>\n      <td>0</td>\n      <td>1</td>\n      <td>7</td>\n      <td>289</td>\n      <td>33</td>\n      <td>30</td>\n      <td>0</td>\n      <td>2</td>\n      <td>1</td>\n      <td>1</td>\n    </tr>\n    <tr>\n      <th>1</th>\n      <td>0</td>\n      <td>0</td>\n      <td>0</td>\n      <td>0</td>\n      <td>7</td>\n      <td>118</td>\n      <td>50</td>\n      <td>31</td>\n      <td>0</td>\n      <td>1</td>\n      <td>0</td>\n      <td>0</td>\n    </tr>\n    <tr>\n      <th>2</th>\n      <td>0</td>\n      <td>0</td>\n      <td>0</td>\n      <td>1</td>\n      <td>7</td>\n      <td>179</td>\n      <td>38</td>\n      <td>31</td>\n      <td>0</td>\n      <td>0</td>\n      <td>0</td>\n      <td>0</td>\n    </tr>\n    <tr>\n      <th>3</th>\n      <td>1</td>\n      <td>0</td>\n      <td>0</td>\n      <td>0</td>\n      <td>7</td>\n      <td>279</td>\n      <td>39</td>\n      <td>24</td>\n      <td>0</td>\n      <td>2</td>\n      <td>0</td>\n      <td>1</td>\n    </tr>\n    <tr>\n      <th>4</th>\n      <td>0</td>\n      <td>0</td>\n      <td>0</td>\n      <td>1</td>\n      <td>7</td>\n      <td>289</td>\n      <td>33</td>\n      <td>30</td>\n      <td>0</td>\n      <td>2</td>\n      <td>1</td>\n      <td>0</td>\n    </tr>\n    <tr>\n      <th>5</th>\n      <td>0</td>\n      <td>0</td>\n      <td>0</td>\n      <td>1</td>\n      <td>7</td>\n      <td>179</td>\n      <td>38</td>\n      <td>31</td>\n      <td>0</td>\n      <td>0</td>\n      <td>0</td>\n      <td>0</td>\n    </tr>\n    <tr>\n      <th>6</th>\n      <td>0</td>\n      <td>0</td>\n      <td>0</td>\n      <td>1</td>\n      <td>7</td>\n      <td>361</td>\n      <td>28</td>\n      <td>27</td>\n      <td>0</td>\n      <td>1</td>\n      <td>4</td>\n      <td>1</td>\n    </tr>\n    <tr>\n      <th>7</th>\n      <td>0</td>\n      <td>0</td>\n      <td>0</td>\n      <td>1</td>\n      <td>7</td>\n      <td>260</td>\n      <td>36</td>\n      <td>23</td>\n      <td>0</td>\n      <td>4</td>\n      <td>0</td>\n      <td>1</td>\n    </tr>\n    <tr>\n      <th>8</th>\n      <td>0</td>\n      <td>0</td>\n      <td>1</td>\n      <td>0</td>\n      <td>7</td>\n      <td>155</td>\n      <td>34</td>\n      <td>25</td>\n      <td>0</td>\n      <td>2</td>\n      <td>0</td>\n      <td>1</td>\n    </tr>\n    <tr>\n      <th>9</th>\n      <td>0</td>\n      <td>0</td>\n      <td>0</td>\n      <td>1</td>\n      <td>7</td>\n      <td>235</td>\n      <td>37</td>\n      <td>29</td>\n      <td>1</td>\n      <td>1</td>\n      <td>1</td>\n      <td>1</td>\n    </tr>\n    <tr>\n      <th>10</th>\n      <td>1</td>\n      <td>0</td>\n      <td>0</td>\n      <td>0</td>\n      <td>7</td>\n      <td>260</td>\n      <td>36</td>\n      <td>23</td>\n      <td>0</td>\n      <td>4</td>\n      <td>0</td>\n      <td>1</td>\n    </tr>\n    <tr>\n      <th>11</th>\n      <td>1</td>\n      <td>0</td>\n      <td>0</td>\n      <td>0</td>\n      <td>7</td>\n      <td>260</td>\n      <td>36</td>\n      <td>23</td>\n      <td>0</td>\n      <td>4</td>\n      <td>0</td>\n      <td>1</td>\n    </tr>\n    <tr>\n      <th>12</th>\n      <td>1</td>\n      <td>0</td>\n      <td>0</td>\n      <td>0</td>\n      <td>7</td>\n      <td>260</td>\n      <td>36</td>\n      <td>23</td>\n      <td>0</td>\n      <td>4</td>\n      <td>0</td>\n      <td>1</td>\n    </tr>\n    <tr>\n      <th>13</th>\n      <td>1</td>\n      <td>0</td>\n      <td>0</td>\n      <td>0</td>\n      <td>7</td>\n      <td>179</td>\n      <td>38</td>\n      <td>31</td>\n      <td>0</td>\n      <td>0</td>\n      <td>0</td>\n      <td>0</td>\n    </tr>\n    <tr>\n      <th>14</th>\n      <td>0</td>\n      <td>0</td>\n      <td>0</td>\n      <td>1</td>\n      <td>7</td>\n      <td>179</td>\n      <td>38</td>\n      <td>31</td>\n      <td>0</td>\n      <td>0</td>\n      <td>0</td>\n      <td>1</td>\n    </tr>\n    <tr>\n      <th>15</th>\n      <td>1</td>\n      <td>0</td>\n      <td>0</td>\n      <td>0</td>\n      <td>7</td>\n      <td>246</td>\n      <td>41</td>\n      <td>23</td>\n      <td>0</td>\n      <td>0</td>\n      <td>0</td>\n      <td>1</td>\n    </tr>\n    <tr>\n      <th>16</th>\n      <td>0</td>\n      <td>0</td>\n      <td>0</td>\n      <td>1</td>\n      <td>7</td>\n      <td>179</td>\n      <td>38</td>\n      <td>31</td>\n      <td>0</td>\n      <td>0</td>\n      <td>0</td>\n      <td>0</td>\n    </tr>\n    <tr>\n      <th>17</th>\n      <td>0</td>\n      <td>0</td>\n      <td>1</td>\n      <td>0</td>\n      <td>7</td>\n      <td>179</td>\n      <td>38</td>\n      <td>31</td>\n      <td>0</td>\n      <td>0</td>\n      <td>0</td>\n      <td>1</td>\n    </tr>\n    <tr>\n      <th>18</th>\n      <td>1</td>\n      <td>0</td>\n      <td>0</td>\n      <td>0</td>\n      <td>7</td>\n      <td>189</td>\n      <td>33</td>\n      <td>25</td>\n      <td>0</td>\n      <td>2</td>\n      <td>2</td>\n      <td>1</td>\n    </tr>\n    <tr>\n      <th>19</th>\n      <td>0</td>\n      <td>0</td>\n      <td>0</td>\n      <td>1</td>\n      <td>8</td>\n      <td>248</td>\n      <td>47</td>\n      <td>32</td>\n      <td>0</td>\n      <td>2</td>\n      <td>1</td>\n      <td>0</td>\n    </tr>\n    <tr>\n      <th>20</th>\n      <td>1</td>\n      <td>0</td>\n      <td>0</td>\n      <td>0</td>\n      <td>8</td>\n      <td>330</td>\n      <td>28</td>\n      <td>25</td>\n      <td>1</td>\n      <td>0</td>\n      <td>0</td>\n      <td>1</td>\n    </tr>\n    <tr>\n      <th>21</th>\n      <td>1</td>\n      <td>0</td>\n      <td>0</td>\n      <td>0</td>\n      <td>8</td>\n      <td>179</td>\n      <td>38</td>\n      <td>31</td>\n      <td>0</td>\n      <td>0</td>\n      <td>0</td>\n      <td>0</td>\n    </tr>\n    <tr>\n      <th>22</th>\n      <td>1</td>\n      <td>0</td>\n      <td>0</td>\n      <td>0</td>\n      <td>8</td>\n      <td>361</td>\n      <td>28</td>\n      <td>27</td>\n      <td>0</td>\n      <td>1</td>\n      <td>4</td>\n      <td>1</td>\n    </tr>\n    <tr>\n      <th>23</th>\n      <td>0</td>\n      <td>0</td>\n      <td>0</td>\n      <td>1</td>\n      <td>8</td>\n      <td>260</td>\n      <td>36</td>\n      <td>23</td>\n      <td>0</td>\n      <td>4</td>\n      <td>0</td>\n      <td>1</td>\n    </tr>\n    <tr>\n      <th>24</th>\n      <td>0</td>\n      <td>0</td>\n      <td>1</td>\n      <td>0</td>\n      <td>8</td>\n      <td>289</td>\n      <td>33</td>\n      <td>30</td>\n      <td>0</td>\n      <td>2</td>\n      <td>1</td>\n      <td>1</td>\n    </tr>\n    <tr>\n      <th>25</th>\n      <td>0</td>\n      <td>0</td>\n      <td>0</td>\n      <td>1</td>\n      <td>8</td>\n      <td>361</td>\n      <td>28</td>\n      <td>27</td>\n      <td>0</td>\n      <td>1</td>\n      <td>4</td>\n      <td>1</td>\n    </tr>\n    <tr>\n      <th>26</th>\n      <td>0</td>\n      <td>0</td>\n      <td>0</td>\n      <td>1</td>\n      <td>8</td>\n      <td>289</td>\n      <td>33</td>\n      <td>30</td>\n      <td>0</td>\n      <td>2</td>\n      <td>1</td>\n      <td>0</td>\n    </tr>\n    <tr>\n      <th>27</th>\n      <td>0</td>\n      <td>0</td>\n      <td>0</td>\n      <td>1</td>\n      <td>8</td>\n      <td>157</td>\n      <td>29</td>\n      <td>22</td>\n      <td>0</td>\n      <td>0</td>\n      <td>0</td>\n      <td>1</td>\n    </tr>\n    <tr>\n      <th>28</th>\n      <td>0</td>\n      <td>0</td>\n      <td>1</td>\n      <td>0</td>\n      <td>8</td>\n      <td>289</td>\n      <td>33</td>\n      <td>30</td>\n      <td>0</td>\n      <td>2</td>\n      <td>1</td>\n      <td>1</td>\n    </tr>\n    <tr>\n      <th>29</th>\n      <td>0</td>\n      <td>0</td>\n      <td>0</td>\n      <td>1</td>\n      <td>8</td>\n      <td>179</td>\n      <td>38</td>\n      <td>31</td>\n      <td>0</td>\n      <td>0</td>\n      <td>0</td>\n      <td>0</td>\n    </tr>\n    <tr>\n      <th>...</th>\n      <td>...</td>\n      <td>...</td>\n      <td>...</td>\n      <td>...</td>\n      <td>...</td>\n      <td>...</td>\n      <td>...</td>\n      <td>...</td>\n      <td>...</td>\n      <td>...</td>\n      <td>...</td>\n      <td>...</td>\n    </tr>\n    <tr>\n      <th>670</th>\n      <td>0</td>\n      <td>0</td>\n      <td>0</td>\n      <td>1</td>\n      <td>4</td>\n      <td>155</td>\n      <td>34</td>\n      <td>25</td>\n      <td>0</td>\n      <td>2</td>\n      <td>0</td>\n      <td>1</td>\n    </tr>\n    <tr>\n      <th>671</th>\n      <td>0</td>\n      <td>0</td>\n      <td>1</td>\n      <td>0</td>\n      <td>4</td>\n      <td>225</td>\n      <td>28</td>\n      <td>24</td>\n      <td>0</td>\n      <td>1</td>\n      <td>2</td>\n      <td>1</td>\n    </tr>\n    <tr>\n      <th>672</th>\n      <td>1</td>\n      <td>0</td>\n      <td>0</td>\n      <td>0</td>\n      <td>4</td>\n      <td>118</td>\n      <td>50</td>\n      <td>31</td>\n      <td>0</td>\n      <td>1</td>\n      <td>0</td>\n      <td>0</td>\n    </tr>\n    <tr>\n      <th>673</th>\n      <td>0</td>\n      <td>0</td>\n      <td>0</td>\n      <td>1</td>\n      <td>4</td>\n      <td>179</td>\n      <td>30</td>\n      <td>19</td>\n      <td>1</td>\n      <td>0</td>\n      <td>0</td>\n      <td>0</td>\n    </tr>\n    <tr>\n      <th>674</th>\n      <td>0</td>\n      <td>0</td>\n      <td>0</td>\n      <td>1</td>\n      <td>5</td>\n      <td>235</td>\n      <td>37</td>\n      <td>29</td>\n      <td>1</td>\n      <td>1</td>\n      <td>1</td>\n      <td>1</td>\n    </tr>\n    <tr>\n      <th>675</th>\n      <td>0</td>\n      <td>0</td>\n      <td>1</td>\n      <td>0</td>\n      <td>5</td>\n      <td>225</td>\n      <td>41</td>\n      <td>28</td>\n      <td>1</td>\n      <td>2</td>\n      <td>2</td>\n      <td>0</td>\n    </tr>\n    <tr>\n      <th>676</th>\n      <td>0</td>\n      <td>0</td>\n      <td>0</td>\n      <td>1</td>\n      <td>5</td>\n      <td>235</td>\n      <td>32</td>\n      <td>25</td>\n      <td>1</td>\n      <td>0</td>\n      <td>0</td>\n      <td>0</td>\n    </tr>\n    <tr>\n      <th>677</th>\n      <td>1</td>\n      <td>0</td>\n      <td>0</td>\n      <td>0</td>\n      <td>5</td>\n      <td>118</td>\n      <td>37</td>\n      <td>28</td>\n      <td>0</td>\n      <td>0</td>\n      <td>0</td>\n      <td>0</td>\n    </tr>\n    <tr>\n      <th>678</th>\n      <td>0</td>\n      <td>0</td>\n      <td>0</td>\n      <td>1</td>\n      <td>5</td>\n      <td>235</td>\n      <td>43</td>\n      <td>38</td>\n      <td>0</td>\n      <td>1</td>\n      <td>0</td>\n      <td>1</td>\n    </tr>\n    <tr>\n      <th>679</th>\n      <td>1</td>\n      <td>0</td>\n      <td>0</td>\n      <td>0</td>\n      <td>5</td>\n      <td>179</td>\n      <td>30</td>\n      <td>19</td>\n      <td>1</td>\n      <td>0</td>\n      <td>0</td>\n      <td>0</td>\n    </tr>\n    <tr>\n      <th>680</th>\n      <td>0</td>\n      <td>0</td>\n      <td>0</td>\n      <td>1</td>\n      <td>5</td>\n      <td>291</td>\n      <td>40</td>\n      <td>25</td>\n      <td>0</td>\n      <td>1</td>\n      <td>1</td>\n      <td>0</td>\n    </tr>\n    <tr>\n      <th>681</th>\n      <td>1</td>\n      <td>0</td>\n      <td>0</td>\n      <td>0</td>\n      <td>5</td>\n      <td>225</td>\n      <td>41</td>\n      <td>28</td>\n      <td>1</td>\n      <td>2</td>\n      <td>2</td>\n      <td>1</td>\n    </tr>\n    <tr>\n      <th>682</th>\n      <td>0</td>\n      <td>0</td>\n      <td>1</td>\n      <td>0</td>\n      <td>5</td>\n      <td>300</td>\n      <td>43</td>\n      <td>25</td>\n      <td>0</td>\n      <td>2</td>\n      <td>1</td>\n      <td>1</td>\n    </tr>\n    <tr>\n      <th>683</th>\n      <td>0</td>\n      <td>0</td>\n      <td>0</td>\n      <td>1</td>\n      <td>5</td>\n      <td>225</td>\n      <td>41</td>\n      <td>28</td>\n      <td>1</td>\n      <td>2</td>\n      <td>2</td>\n      <td>1</td>\n    </tr>\n    <tr>\n      <th>684</th>\n      <td>0</td>\n      <td>0</td>\n      <td>0</td>\n      <td>1</td>\n      <td>5</td>\n      <td>179</td>\n      <td>30</td>\n      <td>19</td>\n      <td>1</td>\n      <td>0</td>\n      <td>0</td>\n      <td>0</td>\n    </tr>\n    <tr>\n      <th>685</th>\n      <td>0</td>\n      <td>0</td>\n      <td>0</td>\n      <td>1</td>\n      <td>5</td>\n      <td>118</td>\n      <td>50</td>\n      <td>31</td>\n      <td>0</td>\n      <td>1</td>\n      <td>0</td>\n      <td>0</td>\n    </tr>\n    <tr>\n      <th>686</th>\n      <td>1</td>\n      <td>0</td>\n      <td>0</td>\n      <td>0</td>\n      <td>5</td>\n      <td>118</td>\n      <td>50</td>\n      <td>31</td>\n      <td>0</td>\n      <td>1</td>\n      <td>0</td>\n      <td>0</td>\n    </tr>\n    <tr>\n      <th>687</th>\n      <td>0</td>\n      <td>0</td>\n      <td>0</td>\n      <td>1</td>\n      <td>5</td>\n      <td>118</td>\n      <td>37</td>\n      <td>28</td>\n      <td>0</td>\n      <td>0</td>\n      <td>0</td>\n      <td>0</td>\n    </tr>\n    <tr>\n      <th>688</th>\n      <td>0</td>\n      <td>0</td>\n      <td>0</td>\n      <td>0</td>\n      <td>5</td>\n      <td>118</td>\n      <td>50</td>\n      <td>31</td>\n      <td>0</td>\n      <td>1</td>\n      <td>0</td>\n      <td>0</td>\n    </tr>\n    <tr>\n      <th>689</th>\n      <td>0</td>\n      <td>0</td>\n      <td>0</td>\n      <td>1</td>\n      <td>5</td>\n      <td>179</td>\n      <td>30</td>\n      <td>19</td>\n      <td>1</td>\n      <td>0</td>\n      <td>0</td>\n      <td>0</td>\n    </tr>\n    <tr>\n      <th>690</th>\n      <td>0</td>\n      <td>0</td>\n      <td>0</td>\n      <td>0</td>\n      <td>5</td>\n      <td>378</td>\n      <td>36</td>\n      <td>21</td>\n      <td>0</td>\n      <td>2</td>\n      <td>4</td>\n      <td>0</td>\n    </tr>\n    <tr>\n      <th>691</th>\n      <td>0</td>\n      <td>1</td>\n      <td>0</td>\n      <td>0</td>\n      <td>5</td>\n      <td>179</td>\n      <td>40</td>\n      <td>22</td>\n      <td>1</td>\n      <td>2</td>\n      <td>0</td>\n      <td>0</td>\n    </tr>\n    <tr>\n      <th>692</th>\n      <td>1</td>\n      <td>0</td>\n      <td>0</td>\n      <td>0</td>\n      <td>5</td>\n      <td>155</td>\n      <td>34</td>\n      <td>25</td>\n      <td>0</td>\n      <td>2</td>\n      <td>0</td>\n      <td>1</td>\n    </tr>\n    <tr>\n      <th>693</th>\n      <td>1</td>\n      <td>0</td>\n      <td>0</td>\n      <td>0</td>\n      <td>5</td>\n      <td>235</td>\n      <td>32</td>\n      <td>25</td>\n      <td>1</td>\n      <td>0</td>\n      <td>0</td>\n      <td>1</td>\n    </tr>\n    <tr>\n      <th>694</th>\n      <td>0</td>\n      <td>0</td>\n      <td>0</td>\n      <td>1</td>\n      <td>5</td>\n      <td>291</td>\n      <td>40</td>\n      <td>25</td>\n      <td>0</td>\n      <td>1</td>\n      <td>1</td>\n      <td>1</td>\n    </tr>\n    <tr>\n      <th>695</th>\n      <td>1</td>\n      <td>0</td>\n      <td>0</td>\n      <td>0</td>\n      <td>5</td>\n      <td>179</td>\n      <td>40</td>\n      <td>22</td>\n      <td>1</td>\n      <td>2</td>\n      <td>0</td>\n      <td>1</td>\n    </tr>\n    <tr>\n      <th>696</th>\n      <td>1</td>\n      <td>0</td>\n      <td>0</td>\n      <td>0</td>\n      <td>5</td>\n      <td>225</td>\n      <td>28</td>\n      <td>24</td>\n      <td>0</td>\n      <td>1</td>\n      <td>2</td>\n      <td>0</td>\n    </tr>\n    <tr>\n      <th>697</th>\n      <td>1</td>\n      <td>0</td>\n      <td>0</td>\n      <td>0</td>\n      <td>5</td>\n      <td>330</td>\n      <td>28</td>\n      <td>25</td>\n      <td>1</td>\n      <td>0</td>\n      <td>0</td>\n      <td>1</td>\n    </tr>\n    <tr>\n      <th>698</th>\n      <td>0</td>\n      <td>0</td>\n      <td>0</td>\n      <td>1</td>\n      <td>5</td>\n      <td>235</td>\n      <td>32</td>\n      <td>25</td>\n      <td>1</td>\n      <td>0</td>\n      <td>0</td>\n      <td>0</td>\n    </tr>\n    <tr>\n      <th>699</th>\n      <td>0</td>\n      <td>0</td>\n      <td>0</td>\n      <td>1</td>\n      <td>5</td>\n      <td>291</td>\n      <td>40</td>\n      <td>25</td>\n      <td>0</td>\n      <td>1</td>\n      <td>1</td>\n      <td>0</td>\n    </tr>\n  </tbody>\n</table>\n<p>700 rows × 12 columns</p>\n</div>",
            "text/plain": "     Reason_1  Reason_2  Reason_3  Reason_4  Month Value  \\\n0           0         0         0         1            7   \n1           0         0         0         0            7   \n2           0         0         0         1            7   \n3           1         0         0         0            7   \n4           0         0         0         1            7   \n5           0         0         0         1            7   \n6           0         0         0         1            7   \n7           0         0         0         1            7   \n8           0         0         1         0            7   \n9           0         0         0         1            7   \n10          1         0         0         0            7   \n11          1         0         0         0            7   \n12          1         0         0         0            7   \n13          1         0         0         0            7   \n14          0         0         0         1            7   \n15          1         0         0         0            7   \n16          0         0         0         1            7   \n17          0         0         1         0            7   \n18          1         0         0         0            7   \n19          0         0         0         1            8   \n20          1         0         0         0            8   \n21          1         0         0         0            8   \n22          1         0         0         0            8   \n23          0         0         0         1            8   \n24          0         0         1         0            8   \n25          0         0         0         1            8   \n26          0         0         0         1            8   \n27          0         0         0         1            8   \n28          0         0         1         0            8   \n29          0         0         0         1            8   \n..        ...       ...       ...       ...          ...   \n670         0         0         0         1            4   \n671         0         0         1         0            4   \n672         1         0         0         0            4   \n673         0         0         0         1            4   \n674         0         0         0         1            5   \n675         0         0         1         0            5   \n676         0         0         0         1            5   \n677         1         0         0         0            5   \n678         0         0         0         1            5   \n679         1         0         0         0            5   \n680         0         0         0         1            5   \n681         1         0         0         0            5   \n682         0         0         1         0            5   \n683         0         0         0         1            5   \n684         0         0         0         1            5   \n685         0         0         0         1            5   \n686         1         0         0         0            5   \n687         0         0         0         1            5   \n688         0         0         0         0            5   \n689         0         0         0         1            5   \n690         0         0         0         0            5   \n691         0         1         0         0            5   \n692         1         0         0         0            5   \n693         1         0         0         0            5   \n694         0         0         0         1            5   \n695         1         0         0         0            5   \n696         1         0         0         0            5   \n697         1         0         0         0            5   \n698         0         0         0         1            5   \n699         0         0         0         1            5   \n\n     Transportation Expense  Age  Body Mass Index  Education  Children  Pets  \\\n0                       289   33               30          0         2     1   \n1                       118   50               31          0         1     0   \n2                       179   38               31          0         0     0   \n3                       279   39               24          0         2     0   \n4                       289   33               30          0         2     1   \n5                       179   38               31          0         0     0   \n6                       361   28               27          0         1     4   \n7                       260   36               23          0         4     0   \n8                       155   34               25          0         2     0   \n9                       235   37               29          1         1     1   \n10                      260   36               23          0         4     0   \n11                      260   36               23          0         4     0   \n12                      260   36               23          0         4     0   \n13                      179   38               31          0         0     0   \n14                      179   38               31          0         0     0   \n15                      246   41               23          0         0     0   \n16                      179   38               31          0         0     0   \n17                      179   38               31          0         0     0   \n18                      189   33               25          0         2     2   \n19                      248   47               32          0         2     1   \n20                      330   28               25          1         0     0   \n21                      179   38               31          0         0     0   \n22                      361   28               27          0         1     4   \n23                      260   36               23          0         4     0   \n24                      289   33               30          0         2     1   \n25                      361   28               27          0         1     4   \n26                      289   33               30          0         2     1   \n27                      157   29               22          0         0     0   \n28                      289   33               30          0         2     1   \n29                      179   38               31          0         0     0   \n..                      ...  ...              ...        ...       ...   ...   \n670                     155   34               25          0         2     0   \n671                     225   28               24          0         1     2   \n672                     118   50               31          0         1     0   \n673                     179   30               19          1         0     0   \n674                     235   37               29          1         1     1   \n675                     225   41               28          1         2     2   \n676                     235   32               25          1         0     0   \n677                     118   37               28          0         0     0   \n678                     235   43               38          0         1     0   \n679                     179   30               19          1         0     0   \n680                     291   40               25          0         1     1   \n681                     225   41               28          1         2     2   \n682                     300   43               25          0         2     1   \n683                     225   41               28          1         2     2   \n684                     179   30               19          1         0     0   \n685                     118   50               31          0         1     0   \n686                     118   50               31          0         1     0   \n687                     118   37               28          0         0     0   \n688                     118   50               31          0         1     0   \n689                     179   30               19          1         0     0   \n690                     378   36               21          0         2     4   \n691                     179   40               22          1         2     0   \n692                     155   34               25          0         2     0   \n693                     235   32               25          1         0     0   \n694                     291   40               25          0         1     1   \n695                     179   40               22          1         2     0   \n696                     225   28               24          0         1     2   \n697                     330   28               25          1         0     0   \n698                     235   32               25          1         0     0   \n699                     291   40               25          0         1     1   \n\n     Excessive Absenteeism  \n0                        1  \n1                        0  \n2                        0  \n3                        1  \n4                        0  \n5                        0  \n6                        1  \n7                        1  \n8                        1  \n9                        1  \n10                       1  \n11                       1  \n12                       1  \n13                       0  \n14                       1  \n15                       1  \n16                       0  \n17                       1  \n18                       1  \n19                       0  \n20                       1  \n21                       0  \n22                       1  \n23                       1  \n24                       1  \n25                       1  \n26                       0  \n27                       1  \n28                       1  \n29                       0  \n..                     ...  \n670                      1  \n671                      1  \n672                      0  \n673                      0  \n674                      1  \n675                      0  \n676                      0  \n677                      0  \n678                      1  \n679                      0  \n680                      0  \n681                      1  \n682                      1  \n683                      1  \n684                      0  \n685                      0  \n686                      0  \n687                      0  \n688                      0  \n689                      0  \n690                      0  \n691                      0  \n692                      1  \n693                      1  \n694                      1  \n695                      1  \n696                      0  \n697                      1  \n698                      0  \n699                      0  \n\n[700 rows x 12 columns]"
          },
          "metadata": {}
        }
      ]
    },
    {
      "metadata": {
        "scrolled": true,
        "trusted": true
      },
      "cell_type": "code",
      "source": "# Selects all rows and all columns but the last one (basically the same operation)\ndata_with_targets.iloc[:,:-1]",
      "execution_count": 15,
      "outputs": [
        {
          "output_type": "execute_result",
          "execution_count": 15,
          "data": {
            "text/html": "<div>\n<table border=\"1\" class=\"dataframe\">\n  <thead>\n    <tr style=\"text-align: right;\">\n      <th></th>\n      <th>Reason_1</th>\n      <th>Reason_2</th>\n      <th>Reason_3</th>\n      <th>Reason_4</th>\n      <th>Month Value</th>\n      <th>Transportation Expense</th>\n      <th>Age</th>\n      <th>Body Mass Index</th>\n      <th>Education</th>\n      <th>Children</th>\n      <th>Pets</th>\n    </tr>\n  </thead>\n  <tbody>\n    <tr>\n      <th>0</th>\n      <td>0</td>\n      <td>0</td>\n      <td>0</td>\n      <td>1</td>\n      <td>7</td>\n      <td>289</td>\n      <td>33</td>\n      <td>30</td>\n      <td>0</td>\n      <td>2</td>\n      <td>1</td>\n    </tr>\n    <tr>\n      <th>1</th>\n      <td>0</td>\n      <td>0</td>\n      <td>0</td>\n      <td>0</td>\n      <td>7</td>\n      <td>118</td>\n      <td>50</td>\n      <td>31</td>\n      <td>0</td>\n      <td>1</td>\n      <td>0</td>\n    </tr>\n    <tr>\n      <th>2</th>\n      <td>0</td>\n      <td>0</td>\n      <td>0</td>\n      <td>1</td>\n      <td>7</td>\n      <td>179</td>\n      <td>38</td>\n      <td>31</td>\n      <td>0</td>\n      <td>0</td>\n      <td>0</td>\n    </tr>\n    <tr>\n      <th>3</th>\n      <td>1</td>\n      <td>0</td>\n      <td>0</td>\n      <td>0</td>\n      <td>7</td>\n      <td>279</td>\n      <td>39</td>\n      <td>24</td>\n      <td>0</td>\n      <td>2</td>\n      <td>0</td>\n    </tr>\n    <tr>\n      <th>4</th>\n      <td>0</td>\n      <td>0</td>\n      <td>0</td>\n      <td>1</td>\n      <td>7</td>\n      <td>289</td>\n      <td>33</td>\n      <td>30</td>\n      <td>0</td>\n      <td>2</td>\n      <td>1</td>\n    </tr>\n    <tr>\n      <th>5</th>\n      <td>0</td>\n      <td>0</td>\n      <td>0</td>\n      <td>1</td>\n      <td>7</td>\n      <td>179</td>\n      <td>38</td>\n      <td>31</td>\n      <td>0</td>\n      <td>0</td>\n      <td>0</td>\n    </tr>\n    <tr>\n      <th>6</th>\n      <td>0</td>\n      <td>0</td>\n      <td>0</td>\n      <td>1</td>\n      <td>7</td>\n      <td>361</td>\n      <td>28</td>\n      <td>27</td>\n      <td>0</td>\n      <td>1</td>\n      <td>4</td>\n    </tr>\n    <tr>\n      <th>7</th>\n      <td>0</td>\n      <td>0</td>\n      <td>0</td>\n      <td>1</td>\n      <td>7</td>\n      <td>260</td>\n      <td>36</td>\n      <td>23</td>\n      <td>0</td>\n      <td>4</td>\n      <td>0</td>\n    </tr>\n    <tr>\n      <th>8</th>\n      <td>0</td>\n      <td>0</td>\n      <td>1</td>\n      <td>0</td>\n      <td>7</td>\n      <td>155</td>\n      <td>34</td>\n      <td>25</td>\n      <td>0</td>\n      <td>2</td>\n      <td>0</td>\n    </tr>\n    <tr>\n      <th>9</th>\n      <td>0</td>\n      <td>0</td>\n      <td>0</td>\n      <td>1</td>\n      <td>7</td>\n      <td>235</td>\n      <td>37</td>\n      <td>29</td>\n      <td>1</td>\n      <td>1</td>\n      <td>1</td>\n    </tr>\n    <tr>\n      <th>10</th>\n      <td>1</td>\n      <td>0</td>\n      <td>0</td>\n      <td>0</td>\n      <td>7</td>\n      <td>260</td>\n      <td>36</td>\n      <td>23</td>\n      <td>0</td>\n      <td>4</td>\n      <td>0</td>\n    </tr>\n    <tr>\n      <th>11</th>\n      <td>1</td>\n      <td>0</td>\n      <td>0</td>\n      <td>0</td>\n      <td>7</td>\n      <td>260</td>\n      <td>36</td>\n      <td>23</td>\n      <td>0</td>\n      <td>4</td>\n      <td>0</td>\n    </tr>\n    <tr>\n      <th>12</th>\n      <td>1</td>\n      <td>0</td>\n      <td>0</td>\n      <td>0</td>\n      <td>7</td>\n      <td>260</td>\n      <td>36</td>\n      <td>23</td>\n      <td>0</td>\n      <td>4</td>\n      <td>0</td>\n    </tr>\n    <tr>\n      <th>13</th>\n      <td>1</td>\n      <td>0</td>\n      <td>0</td>\n      <td>0</td>\n      <td>7</td>\n      <td>179</td>\n      <td>38</td>\n      <td>31</td>\n      <td>0</td>\n      <td>0</td>\n      <td>0</td>\n    </tr>\n    <tr>\n      <th>14</th>\n      <td>0</td>\n      <td>0</td>\n      <td>0</td>\n      <td>1</td>\n      <td>7</td>\n      <td>179</td>\n      <td>38</td>\n      <td>31</td>\n      <td>0</td>\n      <td>0</td>\n      <td>0</td>\n    </tr>\n    <tr>\n      <th>15</th>\n      <td>1</td>\n      <td>0</td>\n      <td>0</td>\n      <td>0</td>\n      <td>7</td>\n      <td>246</td>\n      <td>41</td>\n      <td>23</td>\n      <td>0</td>\n      <td>0</td>\n      <td>0</td>\n    </tr>\n    <tr>\n      <th>16</th>\n      <td>0</td>\n      <td>0</td>\n      <td>0</td>\n      <td>1</td>\n      <td>7</td>\n      <td>179</td>\n      <td>38</td>\n      <td>31</td>\n      <td>0</td>\n      <td>0</td>\n      <td>0</td>\n    </tr>\n    <tr>\n      <th>17</th>\n      <td>0</td>\n      <td>0</td>\n      <td>1</td>\n      <td>0</td>\n      <td>7</td>\n      <td>179</td>\n      <td>38</td>\n      <td>31</td>\n      <td>0</td>\n      <td>0</td>\n      <td>0</td>\n    </tr>\n    <tr>\n      <th>18</th>\n      <td>1</td>\n      <td>0</td>\n      <td>0</td>\n      <td>0</td>\n      <td>7</td>\n      <td>189</td>\n      <td>33</td>\n      <td>25</td>\n      <td>0</td>\n      <td>2</td>\n      <td>2</td>\n    </tr>\n    <tr>\n      <th>19</th>\n      <td>0</td>\n      <td>0</td>\n      <td>0</td>\n      <td>1</td>\n      <td>8</td>\n      <td>248</td>\n      <td>47</td>\n      <td>32</td>\n      <td>0</td>\n      <td>2</td>\n      <td>1</td>\n    </tr>\n    <tr>\n      <th>20</th>\n      <td>1</td>\n      <td>0</td>\n      <td>0</td>\n      <td>0</td>\n      <td>8</td>\n      <td>330</td>\n      <td>28</td>\n      <td>25</td>\n      <td>1</td>\n      <td>0</td>\n      <td>0</td>\n    </tr>\n    <tr>\n      <th>21</th>\n      <td>1</td>\n      <td>0</td>\n      <td>0</td>\n      <td>0</td>\n      <td>8</td>\n      <td>179</td>\n      <td>38</td>\n      <td>31</td>\n      <td>0</td>\n      <td>0</td>\n      <td>0</td>\n    </tr>\n    <tr>\n      <th>22</th>\n      <td>1</td>\n      <td>0</td>\n      <td>0</td>\n      <td>0</td>\n      <td>8</td>\n      <td>361</td>\n      <td>28</td>\n      <td>27</td>\n      <td>0</td>\n      <td>1</td>\n      <td>4</td>\n    </tr>\n    <tr>\n      <th>23</th>\n      <td>0</td>\n      <td>0</td>\n      <td>0</td>\n      <td>1</td>\n      <td>8</td>\n      <td>260</td>\n      <td>36</td>\n      <td>23</td>\n      <td>0</td>\n      <td>4</td>\n      <td>0</td>\n    </tr>\n    <tr>\n      <th>24</th>\n      <td>0</td>\n      <td>0</td>\n      <td>1</td>\n      <td>0</td>\n      <td>8</td>\n      <td>289</td>\n      <td>33</td>\n      <td>30</td>\n      <td>0</td>\n      <td>2</td>\n      <td>1</td>\n    </tr>\n    <tr>\n      <th>25</th>\n      <td>0</td>\n      <td>0</td>\n      <td>0</td>\n      <td>1</td>\n      <td>8</td>\n      <td>361</td>\n      <td>28</td>\n      <td>27</td>\n      <td>0</td>\n      <td>1</td>\n      <td>4</td>\n    </tr>\n    <tr>\n      <th>26</th>\n      <td>0</td>\n      <td>0</td>\n      <td>0</td>\n      <td>1</td>\n      <td>8</td>\n      <td>289</td>\n      <td>33</td>\n      <td>30</td>\n      <td>0</td>\n      <td>2</td>\n      <td>1</td>\n    </tr>\n    <tr>\n      <th>27</th>\n      <td>0</td>\n      <td>0</td>\n      <td>0</td>\n      <td>1</td>\n      <td>8</td>\n      <td>157</td>\n      <td>29</td>\n      <td>22</td>\n      <td>0</td>\n      <td>0</td>\n      <td>0</td>\n    </tr>\n    <tr>\n      <th>28</th>\n      <td>0</td>\n      <td>0</td>\n      <td>1</td>\n      <td>0</td>\n      <td>8</td>\n      <td>289</td>\n      <td>33</td>\n      <td>30</td>\n      <td>0</td>\n      <td>2</td>\n      <td>1</td>\n    </tr>\n    <tr>\n      <th>29</th>\n      <td>0</td>\n      <td>0</td>\n      <td>0</td>\n      <td>1</td>\n      <td>8</td>\n      <td>179</td>\n      <td>38</td>\n      <td>31</td>\n      <td>0</td>\n      <td>0</td>\n      <td>0</td>\n    </tr>\n    <tr>\n      <th>...</th>\n      <td>...</td>\n      <td>...</td>\n      <td>...</td>\n      <td>...</td>\n      <td>...</td>\n      <td>...</td>\n      <td>...</td>\n      <td>...</td>\n      <td>...</td>\n      <td>...</td>\n      <td>...</td>\n    </tr>\n    <tr>\n      <th>670</th>\n      <td>0</td>\n      <td>0</td>\n      <td>0</td>\n      <td>1</td>\n      <td>4</td>\n      <td>155</td>\n      <td>34</td>\n      <td>25</td>\n      <td>0</td>\n      <td>2</td>\n      <td>0</td>\n    </tr>\n    <tr>\n      <th>671</th>\n      <td>0</td>\n      <td>0</td>\n      <td>1</td>\n      <td>0</td>\n      <td>4</td>\n      <td>225</td>\n      <td>28</td>\n      <td>24</td>\n      <td>0</td>\n      <td>1</td>\n      <td>2</td>\n    </tr>\n    <tr>\n      <th>672</th>\n      <td>1</td>\n      <td>0</td>\n      <td>0</td>\n      <td>0</td>\n      <td>4</td>\n      <td>118</td>\n      <td>50</td>\n      <td>31</td>\n      <td>0</td>\n      <td>1</td>\n      <td>0</td>\n    </tr>\n    <tr>\n      <th>673</th>\n      <td>0</td>\n      <td>0</td>\n      <td>0</td>\n      <td>1</td>\n      <td>4</td>\n      <td>179</td>\n      <td>30</td>\n      <td>19</td>\n      <td>1</td>\n      <td>0</td>\n      <td>0</td>\n    </tr>\n    <tr>\n      <th>674</th>\n      <td>0</td>\n      <td>0</td>\n      <td>0</td>\n      <td>1</td>\n      <td>5</td>\n      <td>235</td>\n      <td>37</td>\n      <td>29</td>\n      <td>1</td>\n      <td>1</td>\n      <td>1</td>\n    </tr>\n    <tr>\n      <th>675</th>\n      <td>0</td>\n      <td>0</td>\n      <td>1</td>\n      <td>0</td>\n      <td>5</td>\n      <td>225</td>\n      <td>41</td>\n      <td>28</td>\n      <td>1</td>\n      <td>2</td>\n      <td>2</td>\n    </tr>\n    <tr>\n      <th>676</th>\n      <td>0</td>\n      <td>0</td>\n      <td>0</td>\n      <td>1</td>\n      <td>5</td>\n      <td>235</td>\n      <td>32</td>\n      <td>25</td>\n      <td>1</td>\n      <td>0</td>\n      <td>0</td>\n    </tr>\n    <tr>\n      <th>677</th>\n      <td>1</td>\n      <td>0</td>\n      <td>0</td>\n      <td>0</td>\n      <td>5</td>\n      <td>118</td>\n      <td>37</td>\n      <td>28</td>\n      <td>0</td>\n      <td>0</td>\n      <td>0</td>\n    </tr>\n    <tr>\n      <th>678</th>\n      <td>0</td>\n      <td>0</td>\n      <td>0</td>\n      <td>1</td>\n      <td>5</td>\n      <td>235</td>\n      <td>43</td>\n      <td>38</td>\n      <td>0</td>\n      <td>1</td>\n      <td>0</td>\n    </tr>\n    <tr>\n      <th>679</th>\n      <td>1</td>\n      <td>0</td>\n      <td>0</td>\n      <td>0</td>\n      <td>5</td>\n      <td>179</td>\n      <td>30</td>\n      <td>19</td>\n      <td>1</td>\n      <td>0</td>\n      <td>0</td>\n    </tr>\n    <tr>\n      <th>680</th>\n      <td>0</td>\n      <td>0</td>\n      <td>0</td>\n      <td>1</td>\n      <td>5</td>\n      <td>291</td>\n      <td>40</td>\n      <td>25</td>\n      <td>0</td>\n      <td>1</td>\n      <td>1</td>\n    </tr>\n    <tr>\n      <th>681</th>\n      <td>1</td>\n      <td>0</td>\n      <td>0</td>\n      <td>0</td>\n      <td>5</td>\n      <td>225</td>\n      <td>41</td>\n      <td>28</td>\n      <td>1</td>\n      <td>2</td>\n      <td>2</td>\n    </tr>\n    <tr>\n      <th>682</th>\n      <td>0</td>\n      <td>0</td>\n      <td>1</td>\n      <td>0</td>\n      <td>5</td>\n      <td>300</td>\n      <td>43</td>\n      <td>25</td>\n      <td>0</td>\n      <td>2</td>\n      <td>1</td>\n    </tr>\n    <tr>\n      <th>683</th>\n      <td>0</td>\n      <td>0</td>\n      <td>0</td>\n      <td>1</td>\n      <td>5</td>\n      <td>225</td>\n      <td>41</td>\n      <td>28</td>\n      <td>1</td>\n      <td>2</td>\n      <td>2</td>\n    </tr>\n    <tr>\n      <th>684</th>\n      <td>0</td>\n      <td>0</td>\n      <td>0</td>\n      <td>1</td>\n      <td>5</td>\n      <td>179</td>\n      <td>30</td>\n      <td>19</td>\n      <td>1</td>\n      <td>0</td>\n      <td>0</td>\n    </tr>\n    <tr>\n      <th>685</th>\n      <td>0</td>\n      <td>0</td>\n      <td>0</td>\n      <td>1</td>\n      <td>5</td>\n      <td>118</td>\n      <td>50</td>\n      <td>31</td>\n      <td>0</td>\n      <td>1</td>\n      <td>0</td>\n    </tr>\n    <tr>\n      <th>686</th>\n      <td>1</td>\n      <td>0</td>\n      <td>0</td>\n      <td>0</td>\n      <td>5</td>\n      <td>118</td>\n      <td>50</td>\n      <td>31</td>\n      <td>0</td>\n      <td>1</td>\n      <td>0</td>\n    </tr>\n    <tr>\n      <th>687</th>\n      <td>0</td>\n      <td>0</td>\n      <td>0</td>\n      <td>1</td>\n      <td>5</td>\n      <td>118</td>\n      <td>37</td>\n      <td>28</td>\n      <td>0</td>\n      <td>0</td>\n      <td>0</td>\n    </tr>\n    <tr>\n      <th>688</th>\n      <td>0</td>\n      <td>0</td>\n      <td>0</td>\n      <td>0</td>\n      <td>5</td>\n      <td>118</td>\n      <td>50</td>\n      <td>31</td>\n      <td>0</td>\n      <td>1</td>\n      <td>0</td>\n    </tr>\n    <tr>\n      <th>689</th>\n      <td>0</td>\n      <td>0</td>\n      <td>0</td>\n      <td>1</td>\n      <td>5</td>\n      <td>179</td>\n      <td>30</td>\n      <td>19</td>\n      <td>1</td>\n      <td>0</td>\n      <td>0</td>\n    </tr>\n    <tr>\n      <th>690</th>\n      <td>0</td>\n      <td>0</td>\n      <td>0</td>\n      <td>0</td>\n      <td>5</td>\n      <td>378</td>\n      <td>36</td>\n      <td>21</td>\n      <td>0</td>\n      <td>2</td>\n      <td>4</td>\n    </tr>\n    <tr>\n      <th>691</th>\n      <td>0</td>\n      <td>1</td>\n      <td>0</td>\n      <td>0</td>\n      <td>5</td>\n      <td>179</td>\n      <td>40</td>\n      <td>22</td>\n      <td>1</td>\n      <td>2</td>\n      <td>0</td>\n    </tr>\n    <tr>\n      <th>692</th>\n      <td>1</td>\n      <td>0</td>\n      <td>0</td>\n      <td>0</td>\n      <td>5</td>\n      <td>155</td>\n      <td>34</td>\n      <td>25</td>\n      <td>0</td>\n      <td>2</td>\n      <td>0</td>\n    </tr>\n    <tr>\n      <th>693</th>\n      <td>1</td>\n      <td>0</td>\n      <td>0</td>\n      <td>0</td>\n      <td>5</td>\n      <td>235</td>\n      <td>32</td>\n      <td>25</td>\n      <td>1</td>\n      <td>0</td>\n      <td>0</td>\n    </tr>\n    <tr>\n      <th>694</th>\n      <td>0</td>\n      <td>0</td>\n      <td>0</td>\n      <td>1</td>\n      <td>5</td>\n      <td>291</td>\n      <td>40</td>\n      <td>25</td>\n      <td>0</td>\n      <td>1</td>\n      <td>1</td>\n    </tr>\n    <tr>\n      <th>695</th>\n      <td>1</td>\n      <td>0</td>\n      <td>0</td>\n      <td>0</td>\n      <td>5</td>\n      <td>179</td>\n      <td>40</td>\n      <td>22</td>\n      <td>1</td>\n      <td>2</td>\n      <td>0</td>\n    </tr>\n    <tr>\n      <th>696</th>\n      <td>1</td>\n      <td>0</td>\n      <td>0</td>\n      <td>0</td>\n      <td>5</td>\n      <td>225</td>\n      <td>28</td>\n      <td>24</td>\n      <td>0</td>\n      <td>1</td>\n      <td>2</td>\n    </tr>\n    <tr>\n      <th>697</th>\n      <td>1</td>\n      <td>0</td>\n      <td>0</td>\n      <td>0</td>\n      <td>5</td>\n      <td>330</td>\n      <td>28</td>\n      <td>25</td>\n      <td>1</td>\n      <td>0</td>\n      <td>0</td>\n    </tr>\n    <tr>\n      <th>698</th>\n      <td>0</td>\n      <td>0</td>\n      <td>0</td>\n      <td>1</td>\n      <td>5</td>\n      <td>235</td>\n      <td>32</td>\n      <td>25</td>\n      <td>1</td>\n      <td>0</td>\n      <td>0</td>\n    </tr>\n    <tr>\n      <th>699</th>\n      <td>0</td>\n      <td>0</td>\n      <td>0</td>\n      <td>1</td>\n      <td>5</td>\n      <td>291</td>\n      <td>40</td>\n      <td>25</td>\n      <td>0</td>\n      <td>1</td>\n      <td>1</td>\n    </tr>\n  </tbody>\n</table>\n<p>700 rows × 11 columns</p>\n</div>",
            "text/plain": "     Reason_1  Reason_2  Reason_3  Reason_4  Month Value  \\\n0           0         0         0         1            7   \n1           0         0         0         0            7   \n2           0         0         0         1            7   \n3           1         0         0         0            7   \n4           0         0         0         1            7   \n5           0         0         0         1            7   \n6           0         0         0         1            7   \n7           0         0         0         1            7   \n8           0         0         1         0            7   \n9           0         0         0         1            7   \n10          1         0         0         0            7   \n11          1         0         0         0            7   \n12          1         0         0         0            7   \n13          1         0         0         0            7   \n14          0         0         0         1            7   \n15          1         0         0         0            7   \n16          0         0         0         1            7   \n17          0         0         1         0            7   \n18          1         0         0         0            7   \n19          0         0         0         1            8   \n20          1         0         0         0            8   \n21          1         0         0         0            8   \n22          1         0         0         0            8   \n23          0         0         0         1            8   \n24          0         0         1         0            8   \n25          0         0         0         1            8   \n26          0         0         0         1            8   \n27          0         0         0         1            8   \n28          0         0         1         0            8   \n29          0         0         0         1            8   \n..        ...       ...       ...       ...          ...   \n670         0         0         0         1            4   \n671         0         0         1         0            4   \n672         1         0         0         0            4   \n673         0         0         0         1            4   \n674         0         0         0         1            5   \n675         0         0         1         0            5   \n676         0         0         0         1            5   \n677         1         0         0         0            5   \n678         0         0         0         1            5   \n679         1         0         0         0            5   \n680         0         0         0         1            5   \n681         1         0         0         0            5   \n682         0         0         1         0            5   \n683         0         0         0         1            5   \n684         0         0         0         1            5   \n685         0         0         0         1            5   \n686         1         0         0         0            5   \n687         0         0         0         1            5   \n688         0         0         0         0            5   \n689         0         0         0         1            5   \n690         0         0         0         0            5   \n691         0         1         0         0            5   \n692         1         0         0         0            5   \n693         1         0         0         0            5   \n694         0         0         0         1            5   \n695         1         0         0         0            5   \n696         1         0         0         0            5   \n697         1         0         0         0            5   \n698         0         0         0         1            5   \n699         0         0         0         1            5   \n\n     Transportation Expense  Age  Body Mass Index  Education  Children  Pets  \n0                       289   33               30          0         2     1  \n1                       118   50               31          0         1     0  \n2                       179   38               31          0         0     0  \n3                       279   39               24          0         2     0  \n4                       289   33               30          0         2     1  \n5                       179   38               31          0         0     0  \n6                       361   28               27          0         1     4  \n7                       260   36               23          0         4     0  \n8                       155   34               25          0         2     0  \n9                       235   37               29          1         1     1  \n10                      260   36               23          0         4     0  \n11                      260   36               23          0         4     0  \n12                      260   36               23          0         4     0  \n13                      179   38               31          0         0     0  \n14                      179   38               31          0         0     0  \n15                      246   41               23          0         0     0  \n16                      179   38               31          0         0     0  \n17                      179   38               31          0         0     0  \n18                      189   33               25          0         2     2  \n19                      248   47               32          0         2     1  \n20                      330   28               25          1         0     0  \n21                      179   38               31          0         0     0  \n22                      361   28               27          0         1     4  \n23                      260   36               23          0         4     0  \n24                      289   33               30          0         2     1  \n25                      361   28               27          0         1     4  \n26                      289   33               30          0         2     1  \n27                      157   29               22          0         0     0  \n28                      289   33               30          0         2     1  \n29                      179   38               31          0         0     0  \n..                      ...  ...              ...        ...       ...   ...  \n670                     155   34               25          0         2     0  \n671                     225   28               24          0         1     2  \n672                     118   50               31          0         1     0  \n673                     179   30               19          1         0     0  \n674                     235   37               29          1         1     1  \n675                     225   41               28          1         2     2  \n676                     235   32               25          1         0     0  \n677                     118   37               28          0         0     0  \n678                     235   43               38          0         1     0  \n679                     179   30               19          1         0     0  \n680                     291   40               25          0         1     1  \n681                     225   41               28          1         2     2  \n682                     300   43               25          0         2     1  \n683                     225   41               28          1         2     2  \n684                     179   30               19          1         0     0  \n685                     118   50               31          0         1     0  \n686                     118   50               31          0         1     0  \n687                     118   37               28          0         0     0  \n688                     118   50               31          0         1     0  \n689                     179   30               19          1         0     0  \n690                     378   36               21          0         2     4  \n691                     179   40               22          1         2     0  \n692                     155   34               25          0         2     0  \n693                     235   32               25          1         0     0  \n694                     291   40               25          0         1     1  \n695                     179   40               22          1         2     0  \n696                     225   28               24          0         1     2  \n697                     330   28               25          1         0     0  \n698                     235   32               25          1         0     0  \n699                     291   40               25          0         1     1  \n\n[700 rows x 11 columns]"
          },
          "metadata": {}
        }
      ]
    },
    {
      "metadata": {
        "trusted": true
      },
      "cell_type": "code",
      "source": "# Create a variable that will contain the inputs (everything without the targets)\nunscaled_inputs = data_with_targets.iloc[:,:-1]",
      "execution_count": 16,
      "outputs": []
    },
    {
      "metadata": {},
      "cell_type": "markdown",
      "source": "## Standardize the data"
    },
    {
      "metadata": {
        "trusted": true
      },
      "cell_type": "code",
      "source": "# standardize the inputs\n\n# standardization is one of the most common preprocessing tools\n# since data of different magnitude (scale) can be biased towards high values,\n# we want all inputs to be of similar magnitude\n# this is a peculiarity of machine learning in general - most (but not all) algorithms do badly with unscaled data\n\n# a very useful module we can use is StandardScaler \n# it has much more capabilities than the straightforward 'preprocessing' method\nfrom sklearn.preprocessing import StandardScaler\n\n\n# we will create a variable that will contain the scaling information for this particular dataset\n# here's the full documentation: http://scikit-learn.org/stable/modules/generated/sklearn.preprocessing.StandardScaler.html\n\n# define scaler as an object\nabsenteeism_scaler = StandardScaler()",
      "execution_count": 17,
      "outputs": []
    },
    {
      "metadata": {
        "trusted": true
      },
      "cell_type": "code",
      "source": "# import the libraries needed to create the Custom Scaler\n# note that all of them are a part of the sklearn package\n# moreover, one of them is actually the StandardScaler module, \n# so you can imagine that the Custom Scaler is build on it\n\nfrom sklearn.base import BaseEstimator, TransformerMixin\nfrom sklearn.preprocessing import StandardScaler\n\n# create the Custom Scaler class\n\nclass CustomScaler(BaseEstimator,TransformerMixin): \n    \n    # init or what information we need to declare a CustomScaler object\n    # and what is calculated/declared as we do\n    \n    def __init__(self,columns,copy=True,with_mean=True,with_std=True):\n        \n        # scaler is nothing but a Standard Scaler object\n        self.scaler = StandardScaler(copy,with_mean,with_std)\n        # with some columns 'twist'\n        self.columns = columns\n        self.mean_ = None\n        self.var_ = None\n        \n    \n    # the fit method, which, again based on StandardScale\n    \n    def fit(self, X, y=None):\n        self.scaler.fit(X[self.columns], y)\n        self.mean_ = np.mean(X[self.columns])\n        self.var_ = np.var(X[self.columns])\n        return self\n    \n    # the transform method which does the actual scaling\n\n    def transform(self, X, y=None, copy=None):\n        \n        # record the initial order of the columns\n        init_col_order = X.columns\n        \n        # scale all features that you chose when creating the instance of the class\n        X_scaled = pd.DataFrame(self.scaler.transform(X[self.columns]), columns=self.columns)\n        \n        # declare a variable containing all information that was not scaled\n        X_not_scaled = X.loc[:,~X.columns.isin(self.columns)]\n        \n        # return a data frame which contains all scaled features and all 'not scaled' features\n        # use the original order (that you recorded in the beginning)\n        return pd.concat([X_not_scaled, X_scaled], axis=1)[init_col_order]",
      "execution_count": 18,
      "outputs": []
    },
    {
      "metadata": {
        "trusted": true
      },
      "cell_type": "code",
      "source": "# check what are all columns that we've got\nunscaled_inputs.columns.values",
      "execution_count": 19,
      "outputs": [
        {
          "output_type": "execute_result",
          "execution_count": 19,
          "data": {
            "text/plain": "array(['Reason_1', 'Reason_2', 'Reason_3', 'Reason_4', 'Month Value',\n       'Transportation Expense', 'Age', 'Body Mass Index', 'Education',\n       'Children', 'Pets'], dtype=object)"
          },
          "metadata": {}
        }
      ]
    },
    {
      "metadata": {
        "trusted": true
      },
      "cell_type": "code",
      "source": "# choose the columns to scale\n# we later augmented this code and put it in comments\n# columns_to_scale = ['Month Value','Day of the Week', 'Transportation Expense', 'Distance to Work',\n       #'Age', 'Daily Work Load Average', 'Body Mass Index', 'Children', 'Pet']\n    \n# select the columns to omit\ncolumns_to_omit = ['Reason_1', 'Reason_2', 'Reason_3', 'Reason_4','Education']",
      "execution_count": 20,
      "outputs": []
    },
    {
      "metadata": {
        "trusted": true
      },
      "cell_type": "code",
      "source": "# create the columns to scale, based on the columns to omit\n# use list comprehension to iterate over the list\ncolumns_to_scale = [x for x in unscaled_inputs.columns.values if x not in columns_to_omit]",
      "execution_count": 21,
      "outputs": []
    },
    {
      "metadata": {
        "trusted": true
      },
      "cell_type": "code",
      "source": "# declare a scaler object, specifying the columns you want to scale\nabsenteeism_scaler = CustomScaler(columns_to_scale)",
      "execution_count": 22,
      "outputs": []
    },
    {
      "metadata": {
        "trusted": true
      },
      "cell_type": "code",
      "source": "# fit the data (calculate mean and standard deviation); they are automatically stored inside the object \nabsenteeism_scaler.fit(unscaled_inputs)",
      "execution_count": 23,
      "outputs": [
        {
          "output_type": "execute_result",
          "execution_count": 23,
          "data": {
            "text/plain": "CustomScaler(columns=['Month Value', 'Transportation Expense', 'Age', 'Body Mass Index', 'Children', 'Pets'],\n       copy=None, with_mean=None, with_std=None)"
          },
          "metadata": {}
        }
      ]
    },
    {
      "metadata": {
        "trusted": true
      },
      "cell_type": "code",
      "source": "# standardizes the data, using the transform method \n# in the last line, we fitted the data - in other words\n# we found the internal parameters of a model that will be used to transform data. \n# transforming applies these parameters to our data\n# note that when you get new data, you can just call 'scaler' again and transform it in the same way as now\nscaled_inputs = absenteeism_scaler.transform(unscaled_inputs)",
      "execution_count": 24,
      "outputs": []
    },
    {
      "metadata": {
        "scrolled": true,
        "trusted": true
      },
      "cell_type": "code",
      "source": "# the scaled_inputs are now an ndarray, because sklearn works with ndarrays\nscaled_inputs",
      "execution_count": 25,
      "outputs": [
        {
          "output_type": "execute_result",
          "execution_count": 25,
          "data": {
            "text/html": "<div>\n<table border=\"1\" class=\"dataframe\">\n  <thead>\n    <tr style=\"text-align: right;\">\n      <th></th>\n      <th>Reason_1</th>\n      <th>Reason_2</th>\n      <th>Reason_3</th>\n      <th>Reason_4</th>\n      <th>Month Value</th>\n      <th>Transportation Expense</th>\n      <th>Age</th>\n      <th>Body Mass Index</th>\n      <th>Education</th>\n      <th>Children</th>\n      <th>Pets</th>\n    </tr>\n  </thead>\n  <tbody>\n    <tr>\n      <th>0</th>\n      <td>0</td>\n      <td>0</td>\n      <td>0</td>\n      <td>1</td>\n      <td>0.182726</td>\n      <td>1.005844</td>\n      <td>-0.536062</td>\n      <td>0.767431</td>\n      <td>0</td>\n      <td>0.880469</td>\n      <td>0.268487</td>\n    </tr>\n    <tr>\n      <th>1</th>\n      <td>0</td>\n      <td>0</td>\n      <td>0</td>\n      <td>0</td>\n      <td>0.182726</td>\n      <td>-1.574681</td>\n      <td>2.130803</td>\n      <td>1.002633</td>\n      <td>0</td>\n      <td>-0.019280</td>\n      <td>-0.589690</td>\n    </tr>\n    <tr>\n      <th>2</th>\n      <td>0</td>\n      <td>0</td>\n      <td>0</td>\n      <td>1</td>\n      <td>0.182726</td>\n      <td>-0.654143</td>\n      <td>0.248310</td>\n      <td>1.002633</td>\n      <td>0</td>\n      <td>-0.919030</td>\n      <td>-0.589690</td>\n    </tr>\n    <tr>\n      <th>3</th>\n      <td>1</td>\n      <td>0</td>\n      <td>0</td>\n      <td>0</td>\n      <td>0.182726</td>\n      <td>0.854936</td>\n      <td>0.405184</td>\n      <td>-0.643782</td>\n      <td>0</td>\n      <td>0.880469</td>\n      <td>-0.589690</td>\n    </tr>\n    <tr>\n      <th>4</th>\n      <td>0</td>\n      <td>0</td>\n      <td>0</td>\n      <td>1</td>\n      <td>0.182726</td>\n      <td>1.005844</td>\n      <td>-0.536062</td>\n      <td>0.767431</td>\n      <td>0</td>\n      <td>0.880469</td>\n      <td>0.268487</td>\n    </tr>\n    <tr>\n      <th>5</th>\n      <td>0</td>\n      <td>0</td>\n      <td>0</td>\n      <td>1</td>\n      <td>0.182726</td>\n      <td>-0.654143</td>\n      <td>0.248310</td>\n      <td>1.002633</td>\n      <td>0</td>\n      <td>-0.919030</td>\n      <td>-0.589690</td>\n    </tr>\n    <tr>\n      <th>6</th>\n      <td>0</td>\n      <td>0</td>\n      <td>0</td>\n      <td>1</td>\n      <td>0.182726</td>\n      <td>2.092381</td>\n      <td>-1.320435</td>\n      <td>0.061825</td>\n      <td>0</td>\n      <td>-0.019280</td>\n      <td>2.843016</td>\n    </tr>\n    <tr>\n      <th>7</th>\n      <td>0</td>\n      <td>0</td>\n      <td>0</td>\n      <td>1</td>\n      <td>0.182726</td>\n      <td>0.568211</td>\n      <td>-0.065439</td>\n      <td>-0.878984</td>\n      <td>0</td>\n      <td>2.679969</td>\n      <td>-0.589690</td>\n    </tr>\n    <tr>\n      <th>8</th>\n      <td>0</td>\n      <td>0</td>\n      <td>1</td>\n      <td>0</td>\n      <td>0.182726</td>\n      <td>-1.016322</td>\n      <td>-0.379188</td>\n      <td>-0.408580</td>\n      <td>0</td>\n      <td>0.880469</td>\n      <td>-0.589690</td>\n    </tr>\n    <tr>\n      <th>9</th>\n      <td>0</td>\n      <td>0</td>\n      <td>0</td>\n      <td>1</td>\n      <td>0.182726</td>\n      <td>0.190942</td>\n      <td>0.091435</td>\n      <td>0.532229</td>\n      <td>1</td>\n      <td>-0.019280</td>\n      <td>0.268487</td>\n    </tr>\n    <tr>\n      <th>10</th>\n      <td>1</td>\n      <td>0</td>\n      <td>0</td>\n      <td>0</td>\n      <td>0.182726</td>\n      <td>0.568211</td>\n      <td>-0.065439</td>\n      <td>-0.878984</td>\n      <td>0</td>\n      <td>2.679969</td>\n      <td>-0.589690</td>\n    </tr>\n    <tr>\n      <th>11</th>\n      <td>1</td>\n      <td>0</td>\n      <td>0</td>\n      <td>0</td>\n      <td>0.182726</td>\n      <td>0.568211</td>\n      <td>-0.065439</td>\n      <td>-0.878984</td>\n      <td>0</td>\n      <td>2.679969</td>\n      <td>-0.589690</td>\n    </tr>\n    <tr>\n      <th>12</th>\n      <td>1</td>\n      <td>0</td>\n      <td>0</td>\n      <td>0</td>\n      <td>0.182726</td>\n      <td>0.568211</td>\n      <td>-0.065439</td>\n      <td>-0.878984</td>\n      <td>0</td>\n      <td>2.679969</td>\n      <td>-0.589690</td>\n    </tr>\n    <tr>\n      <th>13</th>\n      <td>1</td>\n      <td>0</td>\n      <td>0</td>\n      <td>0</td>\n      <td>0.182726</td>\n      <td>-0.654143</td>\n      <td>0.248310</td>\n      <td>1.002633</td>\n      <td>0</td>\n      <td>-0.919030</td>\n      <td>-0.589690</td>\n    </tr>\n    <tr>\n      <th>14</th>\n      <td>0</td>\n      <td>0</td>\n      <td>0</td>\n      <td>1</td>\n      <td>0.182726</td>\n      <td>-0.654143</td>\n      <td>0.248310</td>\n      <td>1.002633</td>\n      <td>0</td>\n      <td>-0.919030</td>\n      <td>-0.589690</td>\n    </tr>\n    <tr>\n      <th>15</th>\n      <td>1</td>\n      <td>0</td>\n      <td>0</td>\n      <td>0</td>\n      <td>0.182726</td>\n      <td>0.356940</td>\n      <td>0.718933</td>\n      <td>-0.878984</td>\n      <td>0</td>\n      <td>-0.919030</td>\n      <td>-0.589690</td>\n    </tr>\n    <tr>\n      <th>16</th>\n      <td>0</td>\n      <td>0</td>\n      <td>0</td>\n      <td>1</td>\n      <td>0.182726</td>\n      <td>-0.654143</td>\n      <td>0.248310</td>\n      <td>1.002633</td>\n      <td>0</td>\n      <td>-0.919030</td>\n      <td>-0.589690</td>\n    </tr>\n    <tr>\n      <th>17</th>\n      <td>0</td>\n      <td>0</td>\n      <td>1</td>\n      <td>0</td>\n      <td>0.182726</td>\n      <td>-0.654143</td>\n      <td>0.248310</td>\n      <td>1.002633</td>\n      <td>0</td>\n      <td>-0.919030</td>\n      <td>-0.589690</td>\n    </tr>\n    <tr>\n      <th>18</th>\n      <td>1</td>\n      <td>0</td>\n      <td>0</td>\n      <td>0</td>\n      <td>0.182726</td>\n      <td>-0.503235</td>\n      <td>-0.536062</td>\n      <td>-0.408580</td>\n      <td>0</td>\n      <td>0.880469</td>\n      <td>1.126663</td>\n    </tr>\n    <tr>\n      <th>19</th>\n      <td>0</td>\n      <td>0</td>\n      <td>0</td>\n      <td>1</td>\n      <td>0.468236</td>\n      <td>0.387122</td>\n      <td>1.660180</td>\n      <td>1.237836</td>\n      <td>0</td>\n      <td>0.880469</td>\n      <td>0.268487</td>\n    </tr>\n    <tr>\n      <th>20</th>\n      <td>1</td>\n      <td>0</td>\n      <td>0</td>\n      <td>0</td>\n      <td>0.468236</td>\n      <td>1.624567</td>\n      <td>-1.320435</td>\n      <td>-0.408580</td>\n      <td>1</td>\n      <td>-0.919030</td>\n      <td>-0.589690</td>\n    </tr>\n    <tr>\n      <th>21</th>\n      <td>1</td>\n      <td>0</td>\n      <td>0</td>\n      <td>0</td>\n      <td>0.468236</td>\n      <td>-0.654143</td>\n      <td>0.248310</td>\n      <td>1.002633</td>\n      <td>0</td>\n      <td>-0.919030</td>\n      <td>-0.589690</td>\n    </tr>\n    <tr>\n      <th>22</th>\n      <td>1</td>\n      <td>0</td>\n      <td>0</td>\n      <td>0</td>\n      <td>0.468236</td>\n      <td>2.092381</td>\n      <td>-1.320435</td>\n      <td>0.061825</td>\n      <td>0</td>\n      <td>-0.019280</td>\n      <td>2.843016</td>\n    </tr>\n    <tr>\n      <th>23</th>\n      <td>0</td>\n      <td>0</td>\n      <td>0</td>\n      <td>1</td>\n      <td>0.468236</td>\n      <td>0.568211</td>\n      <td>-0.065439</td>\n      <td>-0.878984</td>\n      <td>0</td>\n      <td>2.679969</td>\n      <td>-0.589690</td>\n    </tr>\n    <tr>\n      <th>24</th>\n      <td>0</td>\n      <td>0</td>\n      <td>1</td>\n      <td>0</td>\n      <td>0.468236</td>\n      <td>1.005844</td>\n      <td>-0.536062</td>\n      <td>0.767431</td>\n      <td>0</td>\n      <td>0.880469</td>\n      <td>0.268487</td>\n    </tr>\n    <tr>\n      <th>25</th>\n      <td>0</td>\n      <td>0</td>\n      <td>0</td>\n      <td>1</td>\n      <td>0.468236</td>\n      <td>2.092381</td>\n      <td>-1.320435</td>\n      <td>0.061825</td>\n      <td>0</td>\n      <td>-0.019280</td>\n      <td>2.843016</td>\n    </tr>\n    <tr>\n      <th>26</th>\n      <td>0</td>\n      <td>0</td>\n      <td>0</td>\n      <td>1</td>\n      <td>0.468236</td>\n      <td>1.005844</td>\n      <td>-0.536062</td>\n      <td>0.767431</td>\n      <td>0</td>\n      <td>0.880469</td>\n      <td>0.268487</td>\n    </tr>\n    <tr>\n      <th>27</th>\n      <td>0</td>\n      <td>0</td>\n      <td>0</td>\n      <td>1</td>\n      <td>0.468236</td>\n      <td>-0.986140</td>\n      <td>-1.163560</td>\n      <td>-1.114186</td>\n      <td>0</td>\n      <td>-0.919030</td>\n      <td>-0.589690</td>\n    </tr>\n    <tr>\n      <th>28</th>\n      <td>0</td>\n      <td>0</td>\n      <td>1</td>\n      <td>0</td>\n      <td>0.468236</td>\n      <td>1.005844</td>\n      <td>-0.536062</td>\n      <td>0.767431</td>\n      <td>0</td>\n      <td>0.880469</td>\n      <td>0.268487</td>\n    </tr>\n    <tr>\n      <th>29</th>\n      <td>0</td>\n      <td>0</td>\n      <td>0</td>\n      <td>1</td>\n      <td>0.468236</td>\n      <td>-0.654143</td>\n      <td>0.248310</td>\n      <td>1.002633</td>\n      <td>0</td>\n      <td>-0.919030</td>\n      <td>-0.589690</td>\n    </tr>\n    <tr>\n      <th>...</th>\n      <td>...</td>\n      <td>...</td>\n      <td>...</td>\n      <td>...</td>\n      <td>...</td>\n      <td>...</td>\n      <td>...</td>\n      <td>...</td>\n      <td>...</td>\n      <td>...</td>\n      <td>...</td>\n    </tr>\n    <tr>\n      <th>670</th>\n      <td>0</td>\n      <td>0</td>\n      <td>0</td>\n      <td>1</td>\n      <td>-0.673803</td>\n      <td>-1.016322</td>\n      <td>-0.379188</td>\n      <td>-0.408580</td>\n      <td>0</td>\n      <td>0.880469</td>\n      <td>-0.589690</td>\n    </tr>\n    <tr>\n      <th>671</th>\n      <td>0</td>\n      <td>0</td>\n      <td>1</td>\n      <td>0</td>\n      <td>-0.673803</td>\n      <td>0.040034</td>\n      <td>-1.320435</td>\n      <td>-0.643782</td>\n      <td>0</td>\n      <td>-0.019280</td>\n      <td>1.126663</td>\n    </tr>\n    <tr>\n      <th>672</th>\n      <td>1</td>\n      <td>0</td>\n      <td>0</td>\n      <td>0</td>\n      <td>-0.673803</td>\n      <td>-1.574681</td>\n      <td>2.130803</td>\n      <td>1.002633</td>\n      <td>0</td>\n      <td>-0.019280</td>\n      <td>-0.589690</td>\n    </tr>\n    <tr>\n      <th>673</th>\n      <td>0</td>\n      <td>0</td>\n      <td>0</td>\n      <td>1</td>\n      <td>-0.673803</td>\n      <td>-0.654143</td>\n      <td>-1.006686</td>\n      <td>-1.819793</td>\n      <td>1</td>\n      <td>-0.919030</td>\n      <td>-0.589690</td>\n    </tr>\n    <tr>\n      <th>674</th>\n      <td>0</td>\n      <td>0</td>\n      <td>0</td>\n      <td>1</td>\n      <td>-0.388293</td>\n      <td>0.190942</td>\n      <td>0.091435</td>\n      <td>0.532229</td>\n      <td>1</td>\n      <td>-0.019280</td>\n      <td>0.268487</td>\n    </tr>\n    <tr>\n      <th>675</th>\n      <td>0</td>\n      <td>0</td>\n      <td>1</td>\n      <td>0</td>\n      <td>-0.388293</td>\n      <td>0.040034</td>\n      <td>0.718933</td>\n      <td>0.297027</td>\n      <td>1</td>\n      <td>0.880469</td>\n      <td>1.126663</td>\n    </tr>\n    <tr>\n      <th>676</th>\n      <td>0</td>\n      <td>0</td>\n      <td>0</td>\n      <td>1</td>\n      <td>-0.388293</td>\n      <td>0.190942</td>\n      <td>-0.692937</td>\n      <td>-0.408580</td>\n      <td>1</td>\n      <td>-0.919030</td>\n      <td>-0.589690</td>\n    </tr>\n    <tr>\n      <th>677</th>\n      <td>1</td>\n      <td>0</td>\n      <td>0</td>\n      <td>0</td>\n      <td>-0.388293</td>\n      <td>-1.574681</td>\n      <td>0.091435</td>\n      <td>0.297027</td>\n      <td>0</td>\n      <td>-0.919030</td>\n      <td>-0.589690</td>\n    </tr>\n    <tr>\n      <th>678</th>\n      <td>0</td>\n      <td>0</td>\n      <td>0</td>\n      <td>1</td>\n      <td>-0.388293</td>\n      <td>0.190942</td>\n      <td>1.032682</td>\n      <td>2.649049</td>\n      <td>0</td>\n      <td>-0.019280</td>\n      <td>-0.589690</td>\n    </tr>\n    <tr>\n      <th>679</th>\n      <td>1</td>\n      <td>0</td>\n      <td>0</td>\n      <td>0</td>\n      <td>-0.388293</td>\n      <td>-0.654143</td>\n      <td>-1.006686</td>\n      <td>-1.819793</td>\n      <td>1</td>\n      <td>-0.919030</td>\n      <td>-0.589690</td>\n    </tr>\n    <tr>\n      <th>680</th>\n      <td>0</td>\n      <td>0</td>\n      <td>0</td>\n      <td>1</td>\n      <td>-0.388293</td>\n      <td>1.036026</td>\n      <td>0.562059</td>\n      <td>-0.408580</td>\n      <td>0</td>\n      <td>-0.019280</td>\n      <td>0.268487</td>\n    </tr>\n    <tr>\n      <th>681</th>\n      <td>1</td>\n      <td>0</td>\n      <td>0</td>\n      <td>0</td>\n      <td>-0.388293</td>\n      <td>0.040034</td>\n      <td>0.718933</td>\n      <td>0.297027</td>\n      <td>1</td>\n      <td>0.880469</td>\n      <td>1.126663</td>\n    </tr>\n    <tr>\n      <th>682</th>\n      <td>0</td>\n      <td>0</td>\n      <td>1</td>\n      <td>0</td>\n      <td>-0.388293</td>\n      <td>1.171843</td>\n      <td>1.032682</td>\n      <td>-0.408580</td>\n      <td>0</td>\n      <td>0.880469</td>\n      <td>0.268487</td>\n    </tr>\n    <tr>\n      <th>683</th>\n      <td>0</td>\n      <td>0</td>\n      <td>0</td>\n      <td>1</td>\n      <td>-0.388293</td>\n      <td>0.040034</td>\n      <td>0.718933</td>\n      <td>0.297027</td>\n      <td>1</td>\n      <td>0.880469</td>\n      <td>1.126663</td>\n    </tr>\n    <tr>\n      <th>684</th>\n      <td>0</td>\n      <td>0</td>\n      <td>0</td>\n      <td>1</td>\n      <td>-0.388293</td>\n      <td>-0.654143</td>\n      <td>-1.006686</td>\n      <td>-1.819793</td>\n      <td>1</td>\n      <td>-0.919030</td>\n      <td>-0.589690</td>\n    </tr>\n    <tr>\n      <th>685</th>\n      <td>0</td>\n      <td>0</td>\n      <td>0</td>\n      <td>1</td>\n      <td>-0.388293</td>\n      <td>-1.574681</td>\n      <td>2.130803</td>\n      <td>1.002633</td>\n      <td>0</td>\n      <td>-0.019280</td>\n      <td>-0.589690</td>\n    </tr>\n    <tr>\n      <th>686</th>\n      <td>1</td>\n      <td>0</td>\n      <td>0</td>\n      <td>0</td>\n      <td>-0.388293</td>\n      <td>-1.574681</td>\n      <td>2.130803</td>\n      <td>1.002633</td>\n      <td>0</td>\n      <td>-0.019280</td>\n      <td>-0.589690</td>\n    </tr>\n    <tr>\n      <th>687</th>\n      <td>0</td>\n      <td>0</td>\n      <td>0</td>\n      <td>1</td>\n      <td>-0.388293</td>\n      <td>-1.574681</td>\n      <td>0.091435</td>\n      <td>0.297027</td>\n      <td>0</td>\n      <td>-0.919030</td>\n      <td>-0.589690</td>\n    </tr>\n    <tr>\n      <th>688</th>\n      <td>0</td>\n      <td>0</td>\n      <td>0</td>\n      <td>0</td>\n      <td>-0.388293</td>\n      <td>-1.574681</td>\n      <td>2.130803</td>\n      <td>1.002633</td>\n      <td>0</td>\n      <td>-0.019280</td>\n      <td>-0.589690</td>\n    </tr>\n    <tr>\n      <th>689</th>\n      <td>0</td>\n      <td>0</td>\n      <td>0</td>\n      <td>1</td>\n      <td>-0.388293</td>\n      <td>-0.654143</td>\n      <td>-1.006686</td>\n      <td>-1.819793</td>\n      <td>1</td>\n      <td>-0.919030</td>\n      <td>-0.589690</td>\n    </tr>\n    <tr>\n      <th>690</th>\n      <td>0</td>\n      <td>0</td>\n      <td>0</td>\n      <td>0</td>\n      <td>-0.388293</td>\n      <td>2.348925</td>\n      <td>-0.065439</td>\n      <td>-1.349389</td>\n      <td>0</td>\n      <td>0.880469</td>\n      <td>2.843016</td>\n    </tr>\n    <tr>\n      <th>691</th>\n      <td>0</td>\n      <td>1</td>\n      <td>0</td>\n      <td>0</td>\n      <td>-0.388293</td>\n      <td>-0.654143</td>\n      <td>0.562059</td>\n      <td>-1.114186</td>\n      <td>1</td>\n      <td>0.880469</td>\n      <td>-0.589690</td>\n    </tr>\n    <tr>\n      <th>692</th>\n      <td>1</td>\n      <td>0</td>\n      <td>0</td>\n      <td>0</td>\n      <td>-0.388293</td>\n      <td>-1.016322</td>\n      <td>-0.379188</td>\n      <td>-0.408580</td>\n      <td>0</td>\n      <td>0.880469</td>\n      <td>-0.589690</td>\n    </tr>\n    <tr>\n      <th>693</th>\n      <td>1</td>\n      <td>0</td>\n      <td>0</td>\n      <td>0</td>\n      <td>-0.388293</td>\n      <td>0.190942</td>\n      <td>-0.692937</td>\n      <td>-0.408580</td>\n      <td>1</td>\n      <td>-0.919030</td>\n      <td>-0.589690</td>\n    </tr>\n    <tr>\n      <th>694</th>\n      <td>0</td>\n      <td>0</td>\n      <td>0</td>\n      <td>1</td>\n      <td>-0.388293</td>\n      <td>1.036026</td>\n      <td>0.562059</td>\n      <td>-0.408580</td>\n      <td>0</td>\n      <td>-0.019280</td>\n      <td>0.268487</td>\n    </tr>\n    <tr>\n      <th>695</th>\n      <td>1</td>\n      <td>0</td>\n      <td>0</td>\n      <td>0</td>\n      <td>-0.388293</td>\n      <td>-0.654143</td>\n      <td>0.562059</td>\n      <td>-1.114186</td>\n      <td>1</td>\n      <td>0.880469</td>\n      <td>-0.589690</td>\n    </tr>\n    <tr>\n      <th>696</th>\n      <td>1</td>\n      <td>0</td>\n      <td>0</td>\n      <td>0</td>\n      <td>-0.388293</td>\n      <td>0.040034</td>\n      <td>-1.320435</td>\n      <td>-0.643782</td>\n      <td>0</td>\n      <td>-0.019280</td>\n      <td>1.126663</td>\n    </tr>\n    <tr>\n      <th>697</th>\n      <td>1</td>\n      <td>0</td>\n      <td>0</td>\n      <td>0</td>\n      <td>-0.388293</td>\n      <td>1.624567</td>\n      <td>-1.320435</td>\n      <td>-0.408580</td>\n      <td>1</td>\n      <td>-0.919030</td>\n      <td>-0.589690</td>\n    </tr>\n    <tr>\n      <th>698</th>\n      <td>0</td>\n      <td>0</td>\n      <td>0</td>\n      <td>1</td>\n      <td>-0.388293</td>\n      <td>0.190942</td>\n      <td>-0.692937</td>\n      <td>-0.408580</td>\n      <td>1</td>\n      <td>-0.919030</td>\n      <td>-0.589690</td>\n    </tr>\n    <tr>\n      <th>699</th>\n      <td>0</td>\n      <td>0</td>\n      <td>0</td>\n      <td>1</td>\n      <td>-0.388293</td>\n      <td>1.036026</td>\n      <td>0.562059</td>\n      <td>-0.408580</td>\n      <td>0</td>\n      <td>-0.019280</td>\n      <td>0.268487</td>\n    </tr>\n  </tbody>\n</table>\n<p>700 rows × 11 columns</p>\n</div>",
            "text/plain": "     Reason_1  Reason_2  Reason_3  Reason_4  Month Value  \\\n0           0         0         0         1     0.182726   \n1           0         0         0         0     0.182726   \n2           0         0         0         1     0.182726   \n3           1         0         0         0     0.182726   \n4           0         0         0         1     0.182726   \n5           0         0         0         1     0.182726   \n6           0         0         0         1     0.182726   \n7           0         0         0         1     0.182726   \n8           0         0         1         0     0.182726   \n9           0         0         0         1     0.182726   \n10          1         0         0         0     0.182726   \n11          1         0         0         0     0.182726   \n12          1         0         0         0     0.182726   \n13          1         0         0         0     0.182726   \n14          0         0         0         1     0.182726   \n15          1         0         0         0     0.182726   \n16          0         0         0         1     0.182726   \n17          0         0         1         0     0.182726   \n18          1         0         0         0     0.182726   \n19          0         0         0         1     0.468236   \n20          1         0         0         0     0.468236   \n21          1         0         0         0     0.468236   \n22          1         0         0         0     0.468236   \n23          0         0         0         1     0.468236   \n24          0         0         1         0     0.468236   \n25          0         0         0         1     0.468236   \n26          0         0         0         1     0.468236   \n27          0         0         0         1     0.468236   \n28          0         0         1         0     0.468236   \n29          0         0         0         1     0.468236   \n..        ...       ...       ...       ...          ...   \n670         0         0         0         1    -0.673803   \n671         0         0         1         0    -0.673803   \n672         1         0         0         0    -0.673803   \n673         0         0         0         1    -0.673803   \n674         0         0         0         1    -0.388293   \n675         0         0         1         0    -0.388293   \n676         0         0         0         1    -0.388293   \n677         1         0         0         0    -0.388293   \n678         0         0         0         1    -0.388293   \n679         1         0         0         0    -0.388293   \n680         0         0         0         1    -0.388293   \n681         1         0         0         0    -0.388293   \n682         0         0         1         0    -0.388293   \n683         0         0         0         1    -0.388293   \n684         0         0         0         1    -0.388293   \n685         0         0         0         1    -0.388293   \n686         1         0         0         0    -0.388293   \n687         0         0         0         1    -0.388293   \n688         0         0         0         0    -0.388293   \n689         0         0         0         1    -0.388293   \n690         0         0         0         0    -0.388293   \n691         0         1         0         0    -0.388293   \n692         1         0         0         0    -0.388293   \n693         1         0         0         0    -0.388293   \n694         0         0         0         1    -0.388293   \n695         1         0         0         0    -0.388293   \n696         1         0         0         0    -0.388293   \n697         1         0         0         0    -0.388293   \n698         0         0         0         1    -0.388293   \n699         0         0         0         1    -0.388293   \n\n     Transportation Expense       Age  Body Mass Index  Education  Children  \\\n0                  1.005844 -0.536062         0.767431          0  0.880469   \n1                 -1.574681  2.130803         1.002633          0 -0.019280   \n2                 -0.654143  0.248310         1.002633          0 -0.919030   \n3                  0.854936  0.405184        -0.643782          0  0.880469   \n4                  1.005844 -0.536062         0.767431          0  0.880469   \n5                 -0.654143  0.248310         1.002633          0 -0.919030   \n6                  2.092381 -1.320435         0.061825          0 -0.019280   \n7                  0.568211 -0.065439        -0.878984          0  2.679969   \n8                 -1.016322 -0.379188        -0.408580          0  0.880469   \n9                  0.190942  0.091435         0.532229          1 -0.019280   \n10                 0.568211 -0.065439        -0.878984          0  2.679969   \n11                 0.568211 -0.065439        -0.878984          0  2.679969   \n12                 0.568211 -0.065439        -0.878984          0  2.679969   \n13                -0.654143  0.248310         1.002633          0 -0.919030   \n14                -0.654143  0.248310         1.002633          0 -0.919030   \n15                 0.356940  0.718933        -0.878984          0 -0.919030   \n16                -0.654143  0.248310         1.002633          0 -0.919030   \n17                -0.654143  0.248310         1.002633          0 -0.919030   \n18                -0.503235 -0.536062        -0.408580          0  0.880469   \n19                 0.387122  1.660180         1.237836          0  0.880469   \n20                 1.624567 -1.320435        -0.408580          1 -0.919030   \n21                -0.654143  0.248310         1.002633          0 -0.919030   \n22                 2.092381 -1.320435         0.061825          0 -0.019280   \n23                 0.568211 -0.065439        -0.878984          0  2.679969   \n24                 1.005844 -0.536062         0.767431          0  0.880469   \n25                 2.092381 -1.320435         0.061825          0 -0.019280   \n26                 1.005844 -0.536062         0.767431          0  0.880469   \n27                -0.986140 -1.163560        -1.114186          0 -0.919030   \n28                 1.005844 -0.536062         0.767431          0  0.880469   \n29                -0.654143  0.248310         1.002633          0 -0.919030   \n..                      ...       ...              ...        ...       ...   \n670               -1.016322 -0.379188        -0.408580          0  0.880469   \n671                0.040034 -1.320435        -0.643782          0 -0.019280   \n672               -1.574681  2.130803         1.002633          0 -0.019280   \n673               -0.654143 -1.006686        -1.819793          1 -0.919030   \n674                0.190942  0.091435         0.532229          1 -0.019280   \n675                0.040034  0.718933         0.297027          1  0.880469   \n676                0.190942 -0.692937        -0.408580          1 -0.919030   \n677               -1.574681  0.091435         0.297027          0 -0.919030   \n678                0.190942  1.032682         2.649049          0 -0.019280   \n679               -0.654143 -1.006686        -1.819793          1 -0.919030   \n680                1.036026  0.562059        -0.408580          0 -0.019280   \n681                0.040034  0.718933         0.297027          1  0.880469   \n682                1.171843  1.032682        -0.408580          0  0.880469   \n683                0.040034  0.718933         0.297027          1  0.880469   \n684               -0.654143 -1.006686        -1.819793          1 -0.919030   \n685               -1.574681  2.130803         1.002633          0 -0.019280   \n686               -1.574681  2.130803         1.002633          0 -0.019280   \n687               -1.574681  0.091435         0.297027          0 -0.919030   \n688               -1.574681  2.130803         1.002633          0 -0.019280   \n689               -0.654143 -1.006686        -1.819793          1 -0.919030   \n690                2.348925 -0.065439        -1.349389          0  0.880469   \n691               -0.654143  0.562059        -1.114186          1  0.880469   \n692               -1.016322 -0.379188        -0.408580          0  0.880469   \n693                0.190942 -0.692937        -0.408580          1 -0.919030   \n694                1.036026  0.562059        -0.408580          0 -0.019280   \n695               -0.654143  0.562059        -1.114186          1  0.880469   \n696                0.040034 -1.320435        -0.643782          0 -0.019280   \n697                1.624567 -1.320435        -0.408580          1 -0.919030   \n698                0.190942 -0.692937        -0.408580          1 -0.919030   \n699                1.036026  0.562059        -0.408580          0 -0.019280   \n\n         Pets  \n0    0.268487  \n1   -0.589690  \n2   -0.589690  \n3   -0.589690  \n4    0.268487  \n5   -0.589690  \n6    2.843016  \n7   -0.589690  \n8   -0.589690  \n9    0.268487  \n10  -0.589690  \n11  -0.589690  \n12  -0.589690  \n13  -0.589690  \n14  -0.589690  \n15  -0.589690  \n16  -0.589690  \n17  -0.589690  \n18   1.126663  \n19   0.268487  \n20  -0.589690  \n21  -0.589690  \n22   2.843016  \n23  -0.589690  \n24   0.268487  \n25   2.843016  \n26   0.268487  \n27  -0.589690  \n28   0.268487  \n29  -0.589690  \n..        ...  \n670 -0.589690  \n671  1.126663  \n672 -0.589690  \n673 -0.589690  \n674  0.268487  \n675  1.126663  \n676 -0.589690  \n677 -0.589690  \n678 -0.589690  \n679 -0.589690  \n680  0.268487  \n681  1.126663  \n682  0.268487  \n683  1.126663  \n684 -0.589690  \n685 -0.589690  \n686 -0.589690  \n687 -0.589690  \n688 -0.589690  \n689 -0.589690  \n690  2.843016  \n691 -0.589690  \n692 -0.589690  \n693 -0.589690  \n694  0.268487  \n695 -0.589690  \n696  1.126663  \n697 -0.589690  \n698 -0.589690  \n699  0.268487  \n\n[700 rows x 11 columns]"
          },
          "metadata": {}
        }
      ]
    },
    {
      "metadata": {
        "trusted": true
      },
      "cell_type": "code",
      "source": "# check the shape of the inputs\nscaled_inputs.shape",
      "execution_count": 26,
      "outputs": [
        {
          "output_type": "execute_result",
          "execution_count": 26,
          "data": {
            "text/plain": "(700, 11)"
          },
          "metadata": {}
        }
      ]
    },
    {
      "metadata": {},
      "cell_type": "markdown",
      "source": "## Split the data into train & test and shuffle"
    },
    {
      "metadata": {},
      "cell_type": "markdown",
      "source": "### Import the relevant module"
    },
    {
      "metadata": {
        "trusted": true
      },
      "cell_type": "code",
      "source": "# import train_test_split so we can split our data into train and test\nfrom sklearn.model_selection import train_test_split",
      "execution_count": 27,
      "outputs": []
    },
    {
      "metadata": {},
      "cell_type": "markdown",
      "source": "### Split"
    },
    {
      "metadata": {
        "scrolled": true,
        "trusted": true
      },
      "cell_type": "code",
      "source": "# check how this method works\ntrain_test_split(scaled_inputs, targets)",
      "execution_count": 28,
      "outputs": [
        {
          "output_type": "execute_result",
          "execution_count": 28,
          "data": {
            "text/plain": "[     Reason_1  Reason_2  Reason_3  Reason_4  Month Value  \\\n 445         0         0         0         1    -0.102784   \n 628         0         0         0         1    -0.959313   \n 495         0         0         0         1     0.753746   \n 142         0         0         0         1    -1.244823   \n 617         0         0         0         1    -1.244823   \n 231         1         0         0         0    -0.102784   \n 48          0         0         0         1     0.753746   \n 414         0         0         0         1    -0.673803   \n 653         0         0         0         1    -0.959313   \n 561         1         0         0         0     1.610276   \n 612         0         0         0         1    -1.244823   \n 678         0         0         0         1    -0.388293   \n 371         1         0         0         0    -1.244823   \n 647         0         0         0         1    -0.959313   \n 461         0         0         0         1     0.182726   \n 366         0         0         0         1    -1.530333   \n 397         0         0         0         1    -0.959313   \n 682         0         0         1         0    -0.388293   \n 87          1         0         0         0     1.324766   \n 418         0         0         0         1    -0.673803   \n 462         1         0         0         0     0.182726   \n 650         0         0         0         1    -0.959313   \n 332         1         0         0         0     1.324766   \n 39          0         0         0         1     0.468236   \n 534         1         0         0         0     1.324766   \n 527         0         0         0         1     1.039256   \n 493         0         0         0         1     0.468236   \n 517         0         0         0         1     1.039256   \n 542         1         0         0         0     1.324766   \n 97          0         0         0         1     1.324766   \n ..        ...       ...       ...       ...          ...   \n 11          1         0         0         0     0.182726   \n 180         1         0         0         0    -0.959313   \n 127         0         0         0         1    -1.530333   \n 310         1         0         0         0     1.039256   \n 65          0         0         0         1     1.039256   \n 198         0         0         1         0    -0.673803   \n 595         0         0         0         1    -1.244823   \n 529         1         0         0         0     1.039256   \n 524         1         0         0         0     1.039256   \n 226         0         0         0         1    -0.102784   \n 182         1         0         0         0    -0.959313   \n 373         0         0         0         1    -1.244823   \n 90          0         0         0         1     1.324766   \n 587         1         0         0         0    -1.244823   \n 471         1         0         0         0     0.182726   \n 646         0         0         0         1    -0.959313   \n 196         0         0         0         1    -0.673803   \n 340         0         0         0         1     1.610276   \n 117         0         0         0         1    -1.530333   \n 317         1         0         0         0     1.324766   \n 676         0         0         0         1    -0.388293   \n 686         1         0         0         0    -0.388293   \n 578         0         0         0         1    -1.530333   \n 597         0         0         0         1    -1.244823   \n 19          0         0         0         1     0.468236   \n 307         0         0         0         1     1.039256   \n 278         1         0         0         0     0.753746   \n 103         0         0         0         1     1.610276   \n 124         0         0         0         1    -1.530333   \n 497         0         0         0         1     0.753746   \n \n      Transportation Expense       Age  Body Mass Index  Education  Children  \\\n 445                0.568211 -0.065439        -0.878984          0  2.679969   \n 628                0.190942 -0.692937        -0.408580          1 -0.919030   \n 495                0.356940  0.718933        -0.878984          0 -0.919030   \n 142                0.568211 -0.065439        -0.878984          0  2.679969   \n 617                0.190942 -0.692937        -0.408580          1 -0.919030   \n 231               -1.574681  2.130803         1.002633          0 -0.019280   \n 48                 0.568211 -0.065439        -0.878984          0  2.679969   \n 414                1.624567 -1.320435        -0.408580          1 -0.919030   \n 653                2.213108 -0.849811        -0.408580          0  1.780219   \n 561                2.092381 -1.320435         0.061825          0 -0.019280   \n 612               -0.654143  0.248310         1.002633          0 -0.919030   \n 678                0.190942  1.032682         2.649049          0 -0.019280   \n 371                0.040034 -1.320435        -0.643782          0 -0.019280   \n 647               -1.574681  1.503305        -0.408580          0  0.880469   \n 461                0.040034 -1.320435        -0.643782          0 -0.019280   \n 366               -1.574681  2.130803         1.002633          0 -0.019280   \n 397                2.348925 -0.065439        -1.349389          0  0.880469   \n 682                1.171843  1.032682        -0.408580          0  0.880469   \n 87                 1.036026  0.562059        -0.408580          0 -0.019280   \n 418               -0.654143  0.248310         1.002633          0 -0.919030   \n 462                0.568211 -0.065439        -0.878984          0  2.679969   \n 650               -0.654143  0.248310         1.002633          0 -0.919030   \n 332                0.356940  0.718933        -0.878984          0 -0.919030   \n 39                 0.568211 -0.065439        -0.878984          0  2.679969   \n 534                1.624567 -1.320435        -0.408580          1 -0.919030   \n 527               -0.503235 -0.536062        -0.408580          0  0.880469   \n 493                1.036026  0.562059        -0.408580          0 -0.019280   \n 517                2.213108 -0.849811        -0.408580          0  1.780219   \n 542               -1.574681  0.091435         0.297027          0 -0.919030   \n 97                 1.036026  0.562059        -0.408580          0 -0.019280   \n ..                      ...       ...              ...        ...       ...   \n 11                 0.568211 -0.065439        -0.878984          0  2.679969   \n 180                0.854936  0.405184        -0.643782          0  0.880469   \n 127               -1.574681  0.091435         0.297027          0 -0.919030   \n 310                2.092381 -1.320435         0.061825          0 -0.019280   \n 65                -0.654143 -1.006686        -1.819793          1 -0.919030   \n 198                1.005844 -0.536062         0.767431          0  0.880469   \n 595               -0.654143  0.248310         1.002633          0 -0.919030   \n 529                0.387122  1.660180         1.237836          0  0.880469   \n 524                0.040034 -1.320435        -0.643782          0 -0.019280   \n 226               -1.016322 -0.379188        -0.408580          0  0.880469   \n 182                0.387122  1.660180         1.237836          0  0.880469   \n 373                0.568211 -0.065439        -0.878984          0  2.679969   \n 90                 0.040034 -1.320435        -0.643782          0 -0.019280   \n 587                0.387122  1.660180         1.237836          0  0.880469   \n 471                0.040034 -1.320435        -0.643782          0 -0.019280   \n 646               -0.654143  0.248310         1.002633          0 -0.919030   \n 196                0.387122  1.660180         1.237836          0  0.880469   \n 340               -0.654143  0.248310         1.002633          0 -0.919030   \n 117                0.040034 -1.320435        -0.643782          0 -0.019280   \n 317               -1.574681  0.091435         0.297027          0 -0.919030   \n 676                0.190942 -0.692937        -0.408580          1 -0.919030   \n 686               -1.574681  2.130803         1.002633          0 -0.019280   \n 578               -0.654143 -1.006686        -1.819793          1 -0.919030   \n 597               -0.654143  0.248310         1.002633          0 -0.919030   \n 19                 0.387122  1.660180         1.237836          0  0.880469   \n 307                1.036026  0.562059        -0.408580          0 -0.019280   \n 278               -0.654143  0.248310         1.002633          0 -0.919030   \n 103                0.568211 -0.065439        -0.878984          0  2.679969   \n 124               -1.574681  0.091435         0.297027          0 -0.919030   \n 497               -1.574681  0.091435         0.297027          0 -0.919030   \n \n          Pets  \n 445 -0.589690  \n 628 -0.589690  \n 495 -0.589690  \n 142 -0.589690  \n 617 -0.589690  \n 231 -0.589690  \n 48  -0.589690  \n 414 -0.589690  \n 653 -0.589690  \n 561  2.843016  \n 612 -0.589690  \n 678 -0.589690  \n 371  1.126663  \n 647 -0.589690  \n 461  1.126663  \n 366 -0.589690  \n 397  2.843016  \n 682  0.268487  \n 87   0.268487  \n 418 -0.589690  \n 462 -0.589690  \n 650 -0.589690  \n 332 -0.589690  \n 39  -0.589690  \n 534 -0.589690  \n 527  1.126663  \n 493  0.268487  \n 517 -0.589690  \n 542 -0.589690  \n 97   0.268487  \n ..        ...  \n 11  -0.589690  \n 180 -0.589690  \n 127 -0.589690  \n 310  2.843016  \n 65  -0.589690  \n 198  0.268487  \n 595 -0.589690  \n 529  0.268487  \n 524  1.126663  \n 226 -0.589690  \n 182  0.268487  \n 373 -0.589690  \n 90   1.126663  \n 587  0.268487  \n 471  1.126663  \n 646 -0.589690  \n 196  0.268487  \n 340 -0.589690  \n 117  1.126663  \n 317 -0.589690  \n 676 -0.589690  \n 686 -0.589690  \n 578 -0.589690  \n 597 -0.589690  \n 19   0.268487  \n 307  0.268487  \n 278 -0.589690  \n 103 -0.589690  \n 124 -0.589690  \n 497 -0.589690  \n \n [525 rows x 11 columns],\n      Reason_1  Reason_2  Reason_3  Reason_4  Month Value  \\\n 6           0         0         0         1     0.182726   \n 505         0         0         0         1     0.753746   \n 473         0         0         0         1     0.182726   \n 336         0         0         0         0     1.324766   \n 631         0         0         0         1    -0.959313   \n 220         0         0         1         0    -0.102784   \n 660         1         0         0         0    -0.673803   \n 16          0         0         0         1     0.182726   \n 622         1         0         0         0    -0.959313   \n 186         0         0         0         1    -0.673803   \n 118         0         0         0         1    -1.530333   \n 215         0         0         0         0    -0.388293   \n 518         0         0         0         1     1.039256   \n 158         0         1         0         0    -0.959313   \n 632         0         0         0         1    -0.959313   \n 72          0         0         0         1     1.039256   \n 132         0         0         0         1    -1.530333   \n 24          0         0         1         0     0.468236   \n 299         1         0         0         0     1.039256   \n 591         0         0         0         1    -1.244823   \n 126         0         0         0         1    -1.530333   \n 458         1         0         0         0    -0.102784   \n 386         0         0         0         1    -1.244823   \n 627         0         0         0         1    -0.959313   \n 367         0         0         0         1    -1.530333   \n 388         0         0         0         1    -1.244823   \n 358         0         0         0         1    -1.530333   \n 352         1         0         0         0     1.610276   \n 580         0         0         0         1    -1.530333   \n 609         0         0         0         1    -1.244823   \n ..        ...       ...       ...       ...          ...   \n 381         0         0         0         1    -1.244823   \n 99          0         0         1         0     1.610276   \n 593         0         0         0         1    -1.244823   \n 277         0         0         0         0     0.753746   \n 577         0         0         1         0    -1.530333   \n 509         0         0         0         1     1.039256   \n 5           0         0         0         1     0.182726   \n 469         0         0         0         1     0.182726   \n 456         0         0         1         0    -0.102784   \n 306         0         0         0         1     1.039256   \n 119         0         0         0         1    -1.530333   \n 38          0         0         0         1     0.468236   \n 47          0         0         0         1     0.753746   \n 619         0         0         0         1    -0.959313   \n 620         0         0         0         1    -0.959313   \n 303         0         0         0         0     1.039256   \n 113         0         0         0         1    -1.530333   \n 394         0         0         0         1    -0.959313   \n 393         0         0         0         1    -0.959313   \n 95          0         0         0         1     1.324766   \n 293         0         0         0         0     1.039256   \n 89          1         0         0         0     1.324766   \n 438         0         0         0         1    -0.388293   \n 519         0         0         0         1     1.039256   \n 212         1         0         0         0    -0.388293   \n 651         1         0         0         0    -0.959313   \n 108         0         0         0         1     1.610276   \n 363         0         0         0         1    -1.530333   \n 109         0         0         0         1     1.610276   \n 544         0         0         0         1     1.324766   \n \n      Transportation Expense       Age  Body Mass Index  Education  Children  \\\n 6                  2.092381 -1.320435         0.061825          0 -0.019280   \n 505                2.213108 -0.849811        -0.408580          0  1.780219   \n 473               -1.574681  2.130803         1.002633          0 -0.019280   \n 336                2.348925 -0.065439        -1.349389          0  0.880469   \n 631               -0.654143  0.248310         1.002633          0 -0.919030   \n 220                0.356940  0.718933        -0.878984          0 -0.919030   \n 660                2.213108 -0.849811        -0.408580          0  1.780219   \n 16                -0.654143  0.248310         1.002633          0 -0.919030   \n 622                0.085306  3.385799        -1.114186          0  0.880469   \n 186               -1.016322 -0.379188        -0.408580          0  0.880469   \n 118               -0.578689 -1.477309        -1.349389          0 -0.919030   \n 215                2.348925 -0.065439        -1.349389          0  0.880469   \n 518                0.040034 -1.320435        -0.643782          0 -0.019280   \n 158               -0.654143  0.562059        -1.114186          1  0.880469   \n 632               -0.654143  0.248310         1.002633          0 -0.919030   \n 72                -0.654143  0.248310         1.002633          0 -0.919030   \n 132               -0.578689 -1.477309        -1.349389          0 -0.919030   \n 24                 1.005844 -0.536062         0.767431          0  0.880469   \n 299               -0.654143 -1.006686        -1.819793          1 -0.919030   \n 591               -0.654143 -1.006686        -1.819793          1 -0.919030   \n 126               -1.574681  0.091435         0.297027          0 -0.919030   \n 458                1.624567 -1.320435        -0.408580          1 -0.919030   \n 386               -0.654143  0.248310         1.002633          0 -0.919030   \n 627               -0.654143 -1.006686        -1.819793          1 -0.919030   \n 367               -0.654143  0.248310         1.002633          0 -0.919030   \n 388               -0.654143  0.248310         1.002633          0 -0.919030   \n 358                0.040034 -1.320435        -0.643782          0 -0.019280   \n 352                0.190942  1.032682         2.649049          0 -0.019280   \n 580               -0.654143 -1.006686        -1.819793          1 -0.919030   \n 609                0.190942 -0.692937        -0.408580          1 -0.919030   \n ..                      ...       ...              ...        ...       ...   \n 381               -0.654143  0.248310         1.002633          0 -0.919030   \n 99                -1.574681  0.091435         0.297027          0 -0.919030   \n 593               -0.654143  0.248310         1.002633          0 -0.919030   \n 277                1.036026 -0.692937        -0.878984          0 -0.919030   \n 577               -0.654143  0.562059        -1.114186          1  0.880469   \n 509                0.356940  0.718933        -0.878984          0 -0.919030   \n 5                 -0.654143  0.248310         1.002633          0 -0.919030   \n 469                0.190942  1.817054         1.473038          0 -0.019280   \n 456               -0.654143 -1.006686        -1.819793          1 -0.919030   \n 306               -1.574681  2.130803         1.002633          0 -0.019280   \n 119                0.040034 -1.320435        -0.643782          0 -0.019280   \n 38                 0.190942  1.817054         1.473038          0 -0.019280   \n 47                 1.036026  0.562059        -0.408580          0 -0.019280   \n 619                0.387122  1.660180         1.237836          0  0.880469   \n 620                0.085306  3.385799        -1.114186          0  0.880469   \n 303                0.190942  1.032682         2.649049          0 -0.019280   \n 113                0.040034 -1.320435        -0.643782          0 -0.019280   \n 394               -0.654143  0.248310         1.002633          0 -0.919030   \n 393                0.568211 -0.065439        -0.878984          0  2.679969   \n 95                 0.040034 -1.320435        -0.643782          0 -0.019280   \n 293               -1.574681  2.130803         1.002633          0 -0.019280   \n 89                -1.016322 -0.379188        -0.408580          0  0.880469   \n 438               -1.574681  0.091435         0.297027          0 -0.919030   \n 519                2.213108 -0.849811        -0.408580          0  1.780219   \n 212                1.005844 -0.536062         0.767431          0  0.880469   \n 651               -0.654143 -1.006686        -1.819793          1 -0.919030   \n 108                0.040034 -1.320435        -0.643782          0 -0.019280   \n 363                1.005844 -0.536062         0.767431          0  0.880469   \n 109                2.092381 -1.320435         0.061825          0 -0.019280   \n 544               -0.654143  0.248310         1.002633          0 -0.919030   \n \n          Pets  \n 6    2.843016  \n 505 -0.589690  \n 473 -0.589690  \n 336  2.843016  \n 631 -0.589690  \n 220 -0.589690  \n 660 -0.589690  \n 16  -0.589690  \n 622  0.268487  \n 186 -0.589690  \n 118 -0.589690  \n 215  2.843016  \n 518  1.126663  \n 158 -0.589690  \n 632 -0.589690  \n 72  -0.589690  \n 132 -0.589690  \n 24   0.268487  \n 299 -0.589690  \n 591 -0.589690  \n 126 -0.589690  \n 458 -0.589690  \n 386 -0.589690  \n 627 -0.589690  \n 367 -0.589690  \n 388 -0.589690  \n 358  1.126663  \n 352 -0.589690  \n 580 -0.589690  \n 609 -0.589690  \n ..        ...  \n 381 -0.589690  \n 99  -0.589690  \n 593 -0.589690  \n 277 -0.589690  \n 577 -0.589690  \n 509 -0.589690  \n 5   -0.589690  \n 469  3.701192  \n 456 -0.589690  \n 306 -0.589690  \n 119  1.126663  \n 38   3.701192  \n 47   0.268487  \n 619  0.268487  \n 620  0.268487  \n 303 -0.589690  \n 113  1.126663  \n 394 -0.589690  \n 393 -0.589690  \n 95   1.126663  \n 293 -0.589690  \n 89  -0.589690  \n 438 -0.589690  \n 519 -0.589690  \n 212  0.268487  \n 651 -0.589690  \n 108  1.126663  \n 363  0.268487  \n 109  2.843016  \n 544 -0.589690  \n \n [175 rows x 11 columns],\n array([1, 0, 0, 0, 0, 1, 1, 1, 1, 1, 0, 1, 0, 1, 1, 1, 1, 1, 1, 1, 1, 0,\n        1, 1, 1, 1, 0, 0, 0, 0, 0, 0, 0, 0, 0, 0, 0, 0, 0, 0, 0, 1, 1, 1,\n        0, 0, 0, 0, 1, 1, 1, 1, 1, 1, 1, 0, 0, 0, 1, 0, 1, 1, 1, 1, 0, 0,\n        1, 0, 1, 0, 1, 0, 0, 0, 1, 1, 1, 1, 0, 1, 1, 1, 1, 0, 0, 0, 1, 1,\n        1, 1, 0, 1, 0, 0, 0, 1, 0, 1, 0, 1, 1, 1, 0, 1, 1, 1, 0, 1, 0, 1,\n        0, 0, 0, 0, 0, 1, 0, 1, 0, 1, 1, 0, 0, 1, 1, 1, 1, 0, 0, 0, 1, 0,\n        0, 1, 0, 0, 1, 0, 1, 0, 1, 1, 0, 0, 1, 1, 0, 0, 1, 0, 0, 1, 1, 0,\n        1, 0, 1, 0, 0, 1, 0, 1, 0, 1, 0, 1, 0, 1, 1, 1, 0, 0, 1, 0, 0, 0,\n        0, 0, 0, 1, 0, 1, 1, 0, 0, 0, 0, 1, 1, 1, 1, 1, 1, 0, 0, 1, 1, 1,\n        1, 0, 0, 0, 1, 0, 1, 1, 1, 0, 0, 1, 1, 1, 1, 0, 0, 1, 1, 0, 1, 0,\n        0, 0, 0, 1, 1, 0, 0, 1, 0, 0, 0, 1, 1, 0, 1, 0, 1, 1, 1, 0, 0, 1,\n        0, 0, 0, 1, 1, 1, 0, 0, 0, 1, 1, 1, 0, 1, 0, 0, 1, 0, 0, 1, 0, 0,\n        0, 1, 0, 1, 1, 1, 0, 1, 1, 1, 0, 0, 1, 1, 0, 1, 0, 0, 0, 0, 1, 0,\n        1, 1, 0, 0, 1, 1, 1, 0, 0, 1, 0, 1, 0, 1, 1, 0, 0, 1, 0, 0, 0, 0,\n        1, 0, 1, 1, 1, 0, 0, 0, 1, 1, 1, 0, 0, 0, 0, 1, 0, 1, 0, 1, 0, 0,\n        0, 0, 0, 0, 1, 1, 0, 1, 0, 0, 1, 0, 0, 0, 0, 0, 0, 1, 0, 0, 1, 0,\n        0, 1, 0, 1, 0, 1, 1, 1, 0, 1, 0, 1, 1, 1, 0, 0, 1, 0, 1, 1, 0, 1,\n        1, 0, 0, 0, 0, 0, 1, 0, 1, 0, 1, 1, 1, 0, 0, 1, 0, 1, 0, 1, 0, 1,\n        0, 0, 0, 0, 1, 1, 0, 1, 1, 0, 1, 0, 1, 0, 0, 0, 1, 0, 0, 0, 0, 1,\n        0, 1, 0, 0, 0, 1, 1, 0, 0, 1, 1, 1, 1, 1, 1, 1, 0, 0, 0, 0, 0, 1,\n        1, 0, 0, 1, 0, 1, 0, 0, 0, 0, 1, 1, 0, 1, 0, 1, 1, 1, 1, 0, 1, 1,\n        0, 1, 1, 1, 0, 1, 0, 0, 1, 0, 0, 0, 0, 1, 1, 0, 0, 0, 0, 1, 0, 0,\n        1, 1, 1, 1, 0, 1, 0, 0, 1, 0, 0, 1, 1, 0, 1, 0, 1, 0, 1, 0, 1, 0,\n        0, 0, 1, 1, 0, 1, 0, 0, 1, 0, 0, 0, 0, 0, 1, 1, 1, 0, 0]),\n array([1, 1, 0, 0, 0, 1, 1, 0, 1, 0, 0, 0, 1, 1, 0, 1, 0, 1, 1, 0, 0, 0,\n        0, 0, 0, 0, 1, 1, 0, 0, 0, 1, 0, 0, 0, 1, 0, 1, 1, 1, 0, 0, 0, 1,\n        0, 1, 1, 0, 0, 1, 0, 0, 1, 1, 0, 0, 0, 0, 1, 0, 0, 1, 0, 0, 1, 0,\n        0, 0, 1, 1, 0, 0, 1, 0, 0, 0, 0, 0, 1, 0, 1, 0, 1, 1, 0, 1, 0, 0,\n        0, 0, 0, 0, 1, 1, 0, 0, 0, 1, 0, 1, 0, 0, 1, 0, 0, 1, 1, 0, 0, 0,\n        1, 0, 0, 1, 0, 0, 1, 0, 1, 1, 1, 1, 1, 0, 1, 0, 1, 0, 1, 1, 0, 0,\n        0, 0, 1, 0, 1, 1, 0, 1, 1, 0, 0, 0, 1, 0, 1, 0, 0, 0, 1, 0, 0, 0,\n        0, 0, 1, 1, 0, 0, 0, 0, 0, 1, 0, 0, 1, 0, 1, 1, 0, 0, 1, 1, 0])]"
          },
          "metadata": {}
        }
      ]
    },
    {
      "metadata": {
        "trusted": true
      },
      "cell_type": "code",
      "source": "# declare 4 variables for the split\nx_train, x_test, y_train, y_test = train_test_split(scaled_inputs, targets, #train_size = 0.8, \n                                                                            test_size = 0.2, random_state = 20)",
      "execution_count": 29,
      "outputs": []
    },
    {
      "metadata": {
        "trusted": true
      },
      "cell_type": "code",
      "source": "# check the shape of the train inputs and targets\nprint (x_train.shape, y_train.shape)",
      "execution_count": 30,
      "outputs": [
        {
          "output_type": "stream",
          "text": "(560, 11) (560,)\n",
          "name": "stdout"
        }
      ]
    },
    {
      "metadata": {
        "trusted": true
      },
      "cell_type": "code",
      "source": "# check the shape of the test inputs and targets\nprint (x_test.shape, y_test.shape)",
      "execution_count": 31,
      "outputs": [
        {
          "output_type": "stream",
          "text": "(140, 11) (140,)\n",
          "name": "stdout"
        }
      ]
    },
    {
      "metadata": {},
      "cell_type": "markdown",
      "source": "## Logistic regression with sklearn"
    },
    {
      "metadata": {
        "trusted": true
      },
      "cell_type": "code",
      "source": "# import the LogReg model from sklearn\nfrom sklearn.linear_model import LogisticRegression\n\n# import the 'metrics' module, which includes important metrics we may want to use\nfrom sklearn import metrics",
      "execution_count": 32,
      "outputs": []
    },
    {
      "metadata": {},
      "cell_type": "markdown",
      "source": "### Training the model"
    },
    {
      "metadata": {
        "trusted": true
      },
      "cell_type": "code",
      "source": "# create a logistic regression object\nreg = LogisticRegression()",
      "execution_count": 33,
      "outputs": []
    },
    {
      "metadata": {
        "trusted": true
      },
      "cell_type": "code",
      "source": "# fit our train inputs\n# that is basically the whole training part of the machine learning\nreg.fit(x_train,y_train)",
      "execution_count": 34,
      "outputs": [
        {
          "output_type": "execute_result",
          "execution_count": 34,
          "data": {
            "text/plain": "LogisticRegression(C=1.0, class_weight=None, dual=False, fit_intercept=True,\n          intercept_scaling=1, max_iter=100, multi_class='ovr', n_jobs=1,\n          penalty='l2', random_state=None, solver='liblinear', tol=0.0001,\n          verbose=0, warm_start=False)"
          },
          "metadata": {}
        }
      ]
    },
    {
      "metadata": {
        "trusted": true
      },
      "cell_type": "code",
      "source": "# assess the train accuracy of the model\nreg.score(x_train,y_train)",
      "execution_count": 35,
      "outputs": [
        {
          "output_type": "execute_result",
          "execution_count": 35,
          "data": {
            "text/plain": "0.775"
          },
          "metadata": {}
        }
      ]
    },
    {
      "metadata": {},
      "cell_type": "markdown",
      "source": "### Manually check the accuracy"
    },
    {
      "metadata": {
        "scrolled": true,
        "trusted": true
      },
      "cell_type": "code",
      "source": "# find the model outputs according to our model\nmodel_outputs = reg.predict(x_train)\nmodel_outputs",
      "execution_count": 36,
      "outputs": [
        {
          "output_type": "execute_result",
          "execution_count": 36,
          "data": {
            "text/plain": "array([0, 1, 1, 1, 1, 0, 0, 1, 0, 1, 1, 1, 0, 1, 0, 0, 0, 0, 0, 1, 1, 0,\n       0, 0, 0, 0, 0, 1, 1, 0, 0, 1, 0, 1, 0, 0, 1, 0, 0, 0, 1, 0, 1, 1,\n       1, 0, 0, 0, 1, 1, 0, 1, 0, 0, 0, 1, 1, 0, 0, 0, 0, 0, 1, 0, 0, 0,\n       0, 0, 0, 0, 0, 1, 1, 0, 0, 0, 1, 0, 0, 1, 1, 1, 0, 0, 0, 1, 1, 0,\n       0, 1, 0, 0, 1, 0, 0, 0, 0, 1, 0, 1, 1, 1, 1, 0, 1, 1, 0, 0, 1, 0,\n       0, 1, 0, 1, 1, 0, 0, 0, 1, 1, 1, 1, 1, 0, 0, 1, 0, 1, 0, 0, 1, 0,\n       0, 0, 0, 0, 1, 0, 0, 0, 0, 0, 1, 1, 1, 0, 0, 1, 0, 1, 0, 0, 1, 0,\n       1, 1, 0, 1, 0, 0, 1, 0, 1, 0, 0, 1, 1, 0, 1, 1, 0, 0, 0, 0, 1, 0,\n       0, 0, 0, 0, 1, 0, 0, 1, 1, 0, 0, 1, 0, 0, 1, 1, 1, 0, 0, 0, 0, 1,\n       1, 0, 0, 1, 1, 1, 1, 0, 1, 0, 0, 0, 1, 1, 1, 0, 0, 0, 0, 0, 0, 1,\n       1, 0, 0, 0, 1, 0, 0, 1, 1, 0, 0, 1, 1, 0, 0, 1, 1, 0, 0, 0, 0, 1,\n       0, 0, 1, 0, 1, 1, 1, 0, 1, 0, 1, 0, 1, 0, 1, 1, 0, 1, 1, 1, 1, 1,\n       0, 0, 0, 0, 0, 0, 1, 1, 0, 0, 1, 0, 1, 1, 0, 1, 0, 0, 1, 0, 1, 0,\n       0, 0, 1, 0, 0, 0, 0, 1, 1, 1, 1, 1, 1, 1, 0, 0, 0, 0, 0, 1, 0, 0,\n       1, 0, 0, 0, 1, 0, 1, 0, 1, 1, 0, 0, 0, 0, 1, 1, 1, 1, 0, 0, 1, 1,\n       0, 0, 1, 0, 0, 1, 0, 0, 0, 0, 0, 0, 0, 0, 0, 1, 1, 1, 0, 0, 0, 1,\n       0, 0, 1, 0, 1, 1, 0, 0, 1, 0, 1, 1, 1, 0, 0, 0, 0, 1, 1, 1, 0, 0,\n       1, 1, 1, 1, 0, 0, 1, 1, 0, 1, 0, 1, 1, 1, 0, 1, 0, 1, 1, 0, 0, 0,\n       0, 0, 0, 0, 0, 1, 1, 0, 1, 1, 0, 1, 0, 0, 0, 1, 1, 0, 1, 1, 1, 0,\n       0, 0, 0, 1, 0, 0, 1, 0, 0, 1, 0, 0, 1, 0, 1, 1, 1, 0, 0, 1, 1, 0,\n       0, 0, 0, 1, 0, 0, 0, 0, 1, 1, 1, 1, 1, 0, 1, 1, 0, 0, 0, 0, 0, 0,\n       1, 1, 0, 0, 0, 0, 1, 0, 0, 0, 1, 0, 1, 1, 0, 0, 1, 0, 0, 1, 0, 0,\n       0, 0, 0, 0, 0, 1, 0, 0, 1, 0, 0, 0, 0, 1, 0, 0, 1, 0, 1, 0, 0, 0,\n       0, 1, 1, 1, 1, 0, 0, 0, 1, 1, 1, 1, 0, 0, 1, 1, 0, 0, 1, 0, 1, 1,\n       0, 1, 1, 0, 1, 1, 1, 0, 0, 0, 1, 1, 1, 0, 1, 1, 0, 1, 1, 0, 0, 0,\n       0, 1, 0, 1, 1, 1, 0, 0, 0, 0])"
          },
          "metadata": {}
        }
      ]
    },
    {
      "metadata": {
        "trusted": true
      },
      "cell_type": "code",
      "source": "# compare them with the targets\ny_train",
      "execution_count": 37,
      "outputs": [
        {
          "output_type": "execute_result",
          "execution_count": 37,
          "data": {
            "text/plain": "array([0, 1, 1, 1, 1, 0, 0, 1, 0, 1, 0, 1, 1, 0, 0, 0, 0, 0, 1, 1, 0, 0,\n       1, 1, 0, 0, 0, 0, 1, 0, 0, 1, 0, 1, 0, 0, 0, 1, 1, 1, 1, 0, 1, 1,\n       1, 0, 0, 0, 1, 1, 1, 1, 0, 0, 0, 1, 1, 0, 0, 1, 0, 0, 1, 0, 0, 0,\n       0, 0, 0, 1, 0, 1, 1, 0, 0, 1, 1, 0, 0, 1, 1, 0, 0, 1, 0, 1, 0, 1,\n       1, 1, 0, 0, 1, 0, 0, 0, 0, 0, 0, 1, 1, 1, 1, 0, 1, 1, 0, 0, 1, 0,\n       0, 1, 1, 1, 1, 0, 0, 1, 1, 1, 1, 1, 0, 0, 0, 1, 0, 1, 0, 0, 1, 1,\n       0, 0, 0, 0, 0, 0, 0, 0, 0, 0, 1, 0, 1, 1, 0, 0, 0, 1, 0, 0, 0, 1,\n       0, 1, 0, 0, 0, 1, 1, 0, 1, 1, 0, 0, 1, 1, 1, 0, 0, 0, 0, 0, 1, 0,\n       0, 0, 0, 0, 1, 0, 0, 1, 1, 1, 0, 1, 0, 0, 0, 1, 1, 0, 0, 0, 0, 1,\n       1, 0, 0, 1, 1, 1, 0, 0, 0, 1, 0, 0, 1, 1, 1, 0, 0, 1, 0, 1, 0, 0,\n       1, 0, 0, 0, 0, 0, 1, 0, 1, 0, 0, 1, 1, 1, 1, 0, 1, 1, 0, 0, 0, 0,\n       0, 0, 1, 0, 1, 1, 1, 1, 1, 0, 1, 0, 1, 0, 1, 1, 1, 1, 1, 1, 0, 0,\n       0, 0, 0, 0, 0, 0, 0, 1, 0, 0, 1, 0, 1, 0, 1, 0, 0, 0, 1, 0, 0, 0,\n       1, 0, 1, 0, 0, 0, 0, 1, 0, 1, 0, 0, 1, 1, 0, 0, 0, 1, 0, 1, 0, 0,\n       0, 1, 0, 1, 1, 0, 1, 0, 1, 1, 0, 0, 1, 0, 1, 0, 0, 1, 0, 0, 1, 1,\n       1, 0, 0, 0, 0, 1, 1, 1, 0, 0, 0, 1, 0, 1, 0, 1, 1, 1, 0, 0, 0, 1,\n       0, 0, 1, 0, 1, 1, 0, 0, 0, 0, 1, 0, 1, 1, 0, 0, 0, 1, 1, 1, 0, 0,\n       1, 1, 1, 1, 0, 0, 1, 0, 0, 1, 0, 0, 1, 1, 1, 1, 1, 1, 1, 0, 1, 0,\n       0, 0, 0, 0, 0, 0, 1, 0, 1, 1, 0, 1, 0, 0, 0, 1, 1, 0, 0, 1, 1, 1,\n       0, 1, 0, 1, 0, 0, 1, 0, 1, 1, 0, 1, 1, 1, 1, 1, 1, 0, 0, 0, 0, 0,\n       0, 0, 0, 1, 0, 0, 0, 0, 0, 1, 0, 1, 1, 0, 0, 0, 0, 0, 0, 0, 1, 0,\n       1, 1, 0, 0, 0, 0, 1, 0, 1, 0, 1, 1, 0, 1, 0, 1, 1, 0, 0, 1, 0, 0,\n       1, 1, 0, 0, 1, 1, 0, 0, 1, 1, 0, 0, 0, 1, 0, 1, 1, 0, 1, 0, 0, 1,\n       0, 1, 0, 0, 1, 0, 0, 1, 1, 1, 1, 1, 0, 1, 1, 1, 1, 1, 0, 0, 1, 0,\n       0, 1, 1, 1, 1, 1, 1, 0, 0, 0, 1, 1, 1, 1, 1, 1, 0, 1, 1, 0, 0, 0,\n       0, 0, 0, 1, 1, 1, 1, 0, 1, 0])"
          },
          "metadata": {}
        }
      ]
    },
    {
      "metadata": {
        "scrolled": true,
        "trusted": true
      },
      "cell_type": "code",
      "source": "# ACTUALLY compare the two variables\nmodel_outputs == y_train",
      "execution_count": 38,
      "outputs": [
        {
          "output_type": "execute_result",
          "execution_count": 38,
          "data": {
            "text/plain": "array([ True,  True,  True,  True,  True,  True,  True,  True,  True,\n        True, False,  True, False, False,  True,  True,  True,  True,\n       False,  True, False,  True, False, False,  True,  True,  True,\n       False,  True,  True,  True,  True,  True,  True,  True,  True,\n       False, False, False, False,  True,  True,  True,  True,  True,\n        True,  True,  True,  True,  True, False,  True,  True,  True,\n        True,  True,  True,  True,  True, False,  True,  True,  True,\n        True,  True,  True,  True,  True,  True, False,  True,  True,\n        True,  True,  True, False,  True,  True,  True,  True,  True,\n       False,  True, False,  True,  True, False, False, False,  True,\n        True,  True,  True,  True,  True,  True,  True, False,  True,\n        True,  True,  True,  True,  True,  True,  True,  True,  True,\n        True,  True,  True,  True, False,  True,  True,  True,  True,\n       False,  True,  True,  True,  True, False,  True,  True,  True,\n        True,  True,  True,  True,  True, False,  True,  True,  True,\n        True, False,  True,  True,  True,  True,  True,  True, False,\n        True, False,  True, False,  True,  True,  True,  True, False,\n       False, False,  True,  True, False,  True, False,  True,  True,\n        True, False,  True, False,  True, False,  True, False,  True,\n        True,  True,  True,  True,  True,  True,  True,  True,  True,\n        True,  True,  True,  True,  True, False,  True,  True,  True,\n        True, False,  True,  True,  True,  True,  True,  True,  True,\n        True,  True,  True,  True,  True,  True, False,  True, False,\n       False,  True,  True,  True,  True,  True,  True,  True, False,\n        True, False,  True, False,  True,  True,  True,  True, False,\n        True, False, False,  True,  True,  True,  True,  True, False,\n       False, False,  True, False,  True,  True,  True, False,  True,\n        True,  True,  True,  True,  True,  True, False,  True,  True,\n        True,  True,  True,  True,  True,  True, False,  True,  True,\n        True, False, False,  True,  True,  True,  True,  True,  True,\n       False,  True,  True,  True,  True,  True,  True, False, False,\n       False,  True,  True,  True,  True, False,  True, False,  True,\n        True,  True,  True,  True,  True,  True, False,  True, False,\n       False,  True,  True,  True,  True,  True, False,  True,  True,\n        True,  True, False, False,  True, False,  True,  True,  True,\n        True,  True,  True,  True,  True, False,  True,  True, False,\n       False,  True,  True,  True,  True,  True, False,  True, False,\n        True,  True,  True, False, False,  True,  True,  True, False,\n        True, False,  True,  True,  True,  True,  True,  True,  True,\n        True,  True,  True,  True,  True,  True,  True,  True,  True,\n       False,  True,  True, False,  True, False,  True,  True,  True,\n        True,  True,  True,  True,  True,  True,  True,  True,  True,\n        True,  True,  True, False,  True,  True,  True, False,  True,\n        True, False,  True, False,  True,  True,  True, False,  True,\n        True,  True,  True,  True,  True, False,  True,  True,  True,\n        True,  True,  True,  True,  True,  True,  True,  True,  True,\n       False,  True,  True, False,  True, False,  True,  True,  True,\n        True,  True,  True, False,  True,  True, False,  True, False,\n        True,  True,  True,  True,  True, False, False,  True,  True,\n        True,  True,  True,  True,  True,  True,  True, False,  True,\n       False,  True,  True,  True, False, False,  True,  True,  True,\n        True, False,  True,  True,  True,  True,  True,  True,  True,\n        True,  True, False,  True,  True, False, False,  True,  True,\n       False,  True,  True,  True,  True,  True,  True, False, False,\n        True,  True, False,  True,  True,  True,  True, False,  True,\n        True,  True,  True,  True, False,  True,  True,  True,  True,\n        True, False,  True,  True, False, False,  True,  True,  True,\n       False,  True,  True,  True,  True,  True, False,  True,  True,\n       False, False, False,  True,  True, False,  True,  True,  True,\n       False,  True,  True,  True,  True,  True,  True,  True,  True,\n        True, False,  True,  True,  True,  True,  True,  True,  True,\n        True,  True, False,  True,  True,  True,  True, False,  True,\n       False,  True])"
          },
          "metadata": {}
        }
      ]
    },
    {
      "metadata": {
        "trusted": true
      },
      "cell_type": "code",
      "source": "# find out in how many instances we predicted correctly\nnp.sum((model_outputs==y_train))",
      "execution_count": 39,
      "outputs": [
        {
          "output_type": "execute_result",
          "execution_count": 39,
          "data": {
            "text/plain": "434"
          },
          "metadata": {}
        }
      ]
    },
    {
      "metadata": {
        "trusted": true
      },
      "cell_type": "code",
      "source": "# get the total number of instances\nmodel_outputs.shape[0]",
      "execution_count": 40,
      "outputs": [
        {
          "output_type": "execute_result",
          "execution_count": 40,
          "data": {
            "text/plain": "560"
          },
          "metadata": {}
        }
      ]
    },
    {
      "metadata": {
        "trusted": true
      },
      "cell_type": "code",
      "source": "# calculate the accuracy of the model\nnp.sum((model_outputs==y_train)) / model_outputs.shape[0]",
      "execution_count": 41,
      "outputs": [
        {
          "output_type": "execute_result",
          "execution_count": 41,
          "data": {
            "text/plain": "0.775"
          },
          "metadata": {}
        }
      ]
    },
    {
      "metadata": {},
      "cell_type": "markdown",
      "source": "### Finding the intercept and coefficients"
    },
    {
      "metadata": {
        "trusted": true
      },
      "cell_type": "code",
      "source": "# get the intercept (bias) of our model\nreg.intercept_",
      "execution_count": 42,
      "outputs": [
        {
          "output_type": "execute_result",
          "execution_count": 42,
          "data": {
            "text/plain": "array([-1.46547112])"
          },
          "metadata": {}
        }
      ]
    },
    {
      "metadata": {
        "trusted": true
      },
      "cell_type": "code",
      "source": "# get the coefficients (weights) of our model\nreg.coef_",
      "execution_count": 43,
      "outputs": [
        {
          "output_type": "execute_result",
          "execution_count": 43,
          "data": {
            "text/plain": "array([[ 2.62749942,  0.86338637,  2.96050661,  0.66390745,  0.15493732,\n         0.59979822, -0.17245127,  0.27568526, -0.23452541,  0.34249662,\n        -0.2775137 ]])"
          },
          "metadata": {}
        }
      ]
    },
    {
      "metadata": {
        "trusted": true
      },
      "cell_type": "code",
      "source": "# check what were the names of our columns\nunscaled_inputs.columns.values",
      "execution_count": 44,
      "outputs": [
        {
          "output_type": "execute_result",
          "execution_count": 44,
          "data": {
            "text/plain": "array(['Reason_1', 'Reason_2', 'Reason_3', 'Reason_4', 'Month Value',\n       'Transportation Expense', 'Age', 'Body Mass Index', 'Education',\n       'Children', 'Pets'], dtype=object)"
          },
          "metadata": {}
        }
      ]
    },
    {
      "metadata": {
        "trusted": true
      },
      "cell_type": "code",
      "source": "# save the names of the columns in an ad-hoc variable\nfeature_name = unscaled_inputs.columns.values",
      "execution_count": 45,
      "outputs": []
    },
    {
      "metadata": {
        "trusted": true
      },
      "cell_type": "code",
      "source": "# use the coefficients from this table (they will be exported later and will be used in Tableau)\n# transpose the model coefficients (model.coef_) and throws them into a df (a vertical organization, so that they can be\n# multiplied by certain matrices later) \nsummary_table = pd.DataFrame (columns=['Feature name'], data = feature_name)\n\n# add the coefficient values to the summary table\nsummary_table['Coefficient'] = np.transpose(reg.coef_)\n\n# display the summary table\nsummary_table",
      "execution_count": 46,
      "outputs": [
        {
          "output_type": "execute_result",
          "execution_count": 46,
          "data": {
            "text/html": "<div>\n<table border=\"1\" class=\"dataframe\">\n  <thead>\n    <tr style=\"text-align: right;\">\n      <th></th>\n      <th>Feature name</th>\n      <th>Coefficient</th>\n    </tr>\n  </thead>\n  <tbody>\n    <tr>\n      <th>0</th>\n      <td>Reason_1</td>\n      <td>2.627499</td>\n    </tr>\n    <tr>\n      <th>1</th>\n      <td>Reason_2</td>\n      <td>0.863386</td>\n    </tr>\n    <tr>\n      <th>2</th>\n      <td>Reason_3</td>\n      <td>2.960507</td>\n    </tr>\n    <tr>\n      <th>3</th>\n      <td>Reason_4</td>\n      <td>0.663907</td>\n    </tr>\n    <tr>\n      <th>4</th>\n      <td>Month Value</td>\n      <td>0.154937</td>\n    </tr>\n    <tr>\n      <th>5</th>\n      <td>Transportation Expense</td>\n      <td>0.599798</td>\n    </tr>\n    <tr>\n      <th>6</th>\n      <td>Age</td>\n      <td>-0.172451</td>\n    </tr>\n    <tr>\n      <th>7</th>\n      <td>Body Mass Index</td>\n      <td>0.275685</td>\n    </tr>\n    <tr>\n      <th>8</th>\n      <td>Education</td>\n      <td>-0.234525</td>\n    </tr>\n    <tr>\n      <th>9</th>\n      <td>Children</td>\n      <td>0.342497</td>\n    </tr>\n    <tr>\n      <th>10</th>\n      <td>Pets</td>\n      <td>-0.277514</td>\n    </tr>\n  </tbody>\n</table>\n</div>",
            "text/plain": "              Feature name  Coefficient\n0                 Reason_1     2.627499\n1                 Reason_2     0.863386\n2                 Reason_3     2.960507\n3                 Reason_4     0.663907\n4              Month Value     0.154937\n5   Transportation Expense     0.599798\n6                      Age    -0.172451\n7          Body Mass Index     0.275685\n8                Education    -0.234525\n9                 Children     0.342497\n10                    Pets    -0.277514"
          },
          "metadata": {}
        }
      ]
    },
    {
      "metadata": {
        "scrolled": true,
        "trusted": true
      },
      "cell_type": "code",
      "source": "# do a little Python trick to move the intercept to the top of the summary table\n# move all indices by 1\nsummary_table.index = summary_table.index + 1\n\n# add the intercept at index 0\nsummary_table.loc[0] = ['Intercept', reg.intercept_[0]]\n\n# sort the df by index\nsummary_table = summary_table.sort_index()\nsummary_table",
      "execution_count": 47,
      "outputs": [
        {
          "output_type": "execute_result",
          "execution_count": 47,
          "data": {
            "text/html": "<div>\n<table border=\"1\" class=\"dataframe\">\n  <thead>\n    <tr style=\"text-align: right;\">\n      <th></th>\n      <th>Feature name</th>\n      <th>Coefficient</th>\n    </tr>\n  </thead>\n  <tbody>\n    <tr>\n      <th>0</th>\n      <td>Intercept</td>\n      <td>-1.465471</td>\n    </tr>\n    <tr>\n      <th>1</th>\n      <td>Reason_1</td>\n      <td>2.627499</td>\n    </tr>\n    <tr>\n      <th>2</th>\n      <td>Reason_2</td>\n      <td>0.863386</td>\n    </tr>\n    <tr>\n      <th>3</th>\n      <td>Reason_3</td>\n      <td>2.960507</td>\n    </tr>\n    <tr>\n      <th>4</th>\n      <td>Reason_4</td>\n      <td>0.663907</td>\n    </tr>\n    <tr>\n      <th>5</th>\n      <td>Month Value</td>\n      <td>0.154937</td>\n    </tr>\n    <tr>\n      <th>6</th>\n      <td>Transportation Expense</td>\n      <td>0.599798</td>\n    </tr>\n    <tr>\n      <th>7</th>\n      <td>Age</td>\n      <td>-0.172451</td>\n    </tr>\n    <tr>\n      <th>8</th>\n      <td>Body Mass Index</td>\n      <td>0.275685</td>\n    </tr>\n    <tr>\n      <th>9</th>\n      <td>Education</td>\n      <td>-0.234525</td>\n    </tr>\n    <tr>\n      <th>10</th>\n      <td>Children</td>\n      <td>0.342497</td>\n    </tr>\n    <tr>\n      <th>11</th>\n      <td>Pets</td>\n      <td>-0.277514</td>\n    </tr>\n  </tbody>\n</table>\n</div>",
            "text/plain": "              Feature name  Coefficient\n0                Intercept    -1.465471\n1                 Reason_1     2.627499\n2                 Reason_2     0.863386\n3                 Reason_3     2.960507\n4                 Reason_4     0.663907\n5              Month Value     0.154937\n6   Transportation Expense     0.599798\n7                      Age    -0.172451\n8          Body Mass Index     0.275685\n9                Education    -0.234525\n10                Children     0.342497\n11                    Pets    -0.277514"
          },
          "metadata": {}
        }
      ]
    },
    {
      "metadata": {},
      "cell_type": "markdown",
      "source": "## Interpreting the coefficients"
    },
    {
      "metadata": {
        "trusted": true
      },
      "cell_type": "code",
      "source": "# create a new Series called: 'Odds ratio' which will show the.. odds ratio of each feature\nsummary_table['Odds_ratio'] = np.exp(summary_table.Coefficient)",
      "execution_count": 48,
      "outputs": []
    },
    {
      "metadata": {
        "trusted": true
      },
      "cell_type": "code",
      "source": "# display the df\nsummary_table",
      "execution_count": 49,
      "outputs": [
        {
          "output_type": "execute_result",
          "execution_count": 49,
          "data": {
            "text/html": "<div>\n<table border=\"1\" class=\"dataframe\">\n  <thead>\n    <tr style=\"text-align: right;\">\n      <th></th>\n      <th>Feature name</th>\n      <th>Coefficient</th>\n      <th>Odds_ratio</th>\n    </tr>\n  </thead>\n  <tbody>\n    <tr>\n      <th>0</th>\n      <td>Intercept</td>\n      <td>-1.465471</td>\n      <td>0.230969</td>\n    </tr>\n    <tr>\n      <th>1</th>\n      <td>Reason_1</td>\n      <td>2.627499</td>\n      <td>13.839121</td>\n    </tr>\n    <tr>\n      <th>2</th>\n      <td>Reason_2</td>\n      <td>0.863386</td>\n      <td>2.371177</td>\n    </tr>\n    <tr>\n      <th>3</th>\n      <td>Reason_3</td>\n      <td>2.960507</td>\n      <td>19.307751</td>\n    </tr>\n    <tr>\n      <th>4</th>\n      <td>Reason_4</td>\n      <td>0.663907</td>\n      <td>1.942367</td>\n    </tr>\n    <tr>\n      <th>5</th>\n      <td>Month Value</td>\n      <td>0.154937</td>\n      <td>1.167585</td>\n    </tr>\n    <tr>\n      <th>6</th>\n      <td>Transportation Expense</td>\n      <td>0.599798</td>\n      <td>1.821751</td>\n    </tr>\n    <tr>\n      <th>7</th>\n      <td>Age</td>\n      <td>-0.172451</td>\n      <td>0.841599</td>\n    </tr>\n    <tr>\n      <th>8</th>\n      <td>Body Mass Index</td>\n      <td>0.275685</td>\n      <td>1.317433</td>\n    </tr>\n    <tr>\n      <th>9</th>\n      <td>Education</td>\n      <td>-0.234525</td>\n      <td>0.790946</td>\n    </tr>\n    <tr>\n      <th>10</th>\n      <td>Children</td>\n      <td>0.342497</td>\n      <td>1.408460</td>\n    </tr>\n    <tr>\n      <th>11</th>\n      <td>Pets</td>\n      <td>-0.277514</td>\n      <td>0.757665</td>\n    </tr>\n  </tbody>\n</table>\n</div>",
            "text/plain": "              Feature name  Coefficient  Odds_ratio\n0                Intercept    -1.465471    0.230969\n1                 Reason_1     2.627499   13.839121\n2                 Reason_2     0.863386    2.371177\n3                 Reason_3     2.960507   19.307751\n4                 Reason_4     0.663907    1.942367\n5              Month Value     0.154937    1.167585\n6   Transportation Expense     0.599798    1.821751\n7                      Age    -0.172451    0.841599\n8          Body Mass Index     0.275685    1.317433\n9                Education    -0.234525    0.790946\n10                Children     0.342497    1.408460\n11                    Pets    -0.277514    0.757665"
          },
          "metadata": {}
        }
      ]
    },
    {
      "metadata": {
        "trusted": true
      },
      "cell_type": "code",
      "source": "# sort the table according to odds ratio\n# note that by default, the sort_values method sorts values by 'ascending'\nsummary_table.sort_values('Odds_ratio', ascending=False)",
      "execution_count": 50,
      "outputs": [
        {
          "output_type": "execute_result",
          "execution_count": 50,
          "data": {
            "text/html": "<div>\n<table border=\"1\" class=\"dataframe\">\n  <thead>\n    <tr style=\"text-align: right;\">\n      <th></th>\n      <th>Feature name</th>\n      <th>Coefficient</th>\n      <th>Odds_ratio</th>\n    </tr>\n  </thead>\n  <tbody>\n    <tr>\n      <th>3</th>\n      <td>Reason_3</td>\n      <td>2.960507</td>\n      <td>19.307751</td>\n    </tr>\n    <tr>\n      <th>1</th>\n      <td>Reason_1</td>\n      <td>2.627499</td>\n      <td>13.839121</td>\n    </tr>\n    <tr>\n      <th>2</th>\n      <td>Reason_2</td>\n      <td>0.863386</td>\n      <td>2.371177</td>\n    </tr>\n    <tr>\n      <th>4</th>\n      <td>Reason_4</td>\n      <td>0.663907</td>\n      <td>1.942367</td>\n    </tr>\n    <tr>\n      <th>6</th>\n      <td>Transportation Expense</td>\n      <td>0.599798</td>\n      <td>1.821751</td>\n    </tr>\n    <tr>\n      <th>10</th>\n      <td>Children</td>\n      <td>0.342497</td>\n      <td>1.408460</td>\n    </tr>\n    <tr>\n      <th>8</th>\n      <td>Body Mass Index</td>\n      <td>0.275685</td>\n      <td>1.317433</td>\n    </tr>\n    <tr>\n      <th>5</th>\n      <td>Month Value</td>\n      <td>0.154937</td>\n      <td>1.167585</td>\n    </tr>\n    <tr>\n      <th>7</th>\n      <td>Age</td>\n      <td>-0.172451</td>\n      <td>0.841599</td>\n    </tr>\n    <tr>\n      <th>9</th>\n      <td>Education</td>\n      <td>-0.234525</td>\n      <td>0.790946</td>\n    </tr>\n    <tr>\n      <th>11</th>\n      <td>Pets</td>\n      <td>-0.277514</td>\n      <td>0.757665</td>\n    </tr>\n    <tr>\n      <th>0</th>\n      <td>Intercept</td>\n      <td>-1.465471</td>\n      <td>0.230969</td>\n    </tr>\n  </tbody>\n</table>\n</div>",
            "text/plain": "              Feature name  Coefficient  Odds_ratio\n3                 Reason_3     2.960507   19.307751\n1                 Reason_1     2.627499   13.839121\n2                 Reason_2     0.863386    2.371177\n4                 Reason_4     0.663907    1.942367\n6   Transportation Expense     0.599798    1.821751\n10                Children     0.342497    1.408460\n8          Body Mass Index     0.275685    1.317433\n5              Month Value     0.154937    1.167585\n7                      Age    -0.172451    0.841599\n9                Education    -0.234525    0.790946\n11                    Pets    -0.277514    0.757665\n0                Intercept    -1.465471    0.230969"
          },
          "metadata": {}
        }
      ]
    },
    {
      "metadata": {},
      "cell_type": "markdown",
      "source": "## Testing the model"
    },
    {
      "metadata": {
        "trusted": true
      },
      "cell_type": "code",
      "source": "# assess the test accuracy of the model\nreg.score(x_test,y_test)",
      "execution_count": 51,
      "outputs": [
        {
          "output_type": "execute_result",
          "execution_count": 51,
          "data": {
            "text/plain": "0.75"
          },
          "metadata": {}
        }
      ]
    },
    {
      "metadata": {
        "trusted": true
      },
      "cell_type": "code",
      "source": "# find the predicted probabilities of each class\n# the first column shows the probability of a particular observation to be 0, while the second one - to be 1\npredicted_proba = reg.predict_proba(x_test)\n\n# let's check that out\npredicted_proba",
      "execution_count": 52,
      "outputs": [
        {
          "output_type": "execute_result",
          "execution_count": 52,
          "data": {
            "text/plain": "array([[0.71221976, 0.28778024],\n       [0.58760009, 0.41239991],\n       [0.44337438, 0.55662562],\n       [0.77903962, 0.22096038],\n       [0.08458343, 0.91541657],\n       [0.33103371, 0.66896629],\n       [0.29792496, 0.70207504],\n       [0.12956221, 0.87043779],\n       [0.78307821, 0.21692179],\n       [0.74708659, 0.25291341],\n       [0.49514969, 0.50485031],\n       [0.22640297, 0.77359703],\n       [0.07030984, 0.92969016],\n       [0.73504052, 0.26495948],\n       [0.30533085, 0.69466915],\n       [0.55035881, 0.44964119],\n       [0.55027426, 0.44972574],\n       [0.53930442, 0.46069558],\n       [0.40117774, 0.59882226],\n       [0.05320682, 0.94679318],\n       [0.69874615, 0.30125385],\n       [0.77903962, 0.22096038],\n       [0.41634563, 0.58365437],\n       [0.41634563, 0.58365437],\n       [0.2412915 , 0.7587085 ],\n       [0.74317087, 0.25682913],\n       [0.51065194, 0.48934806],\n       [0.85703303, 0.14296697],\n       [0.19934235, 0.80065765],\n       [0.77903962, 0.22096038],\n       [0.62971577, 0.37028423],\n       [0.31683213, 0.68316787],\n       [0.31174245, 0.68825755],\n       [0.47305759, 0.52694241],\n       [0.77903962, 0.22096038],\n       [0.46507358, 0.53492642],\n       [0.77546993, 0.22453007],\n       [0.25610763, 0.74389237],\n       [0.59670727, 0.40329273],\n       [0.39698373, 0.60301627],\n       [0.78656024, 0.21343976],\n       [0.54516654, 0.45483346],\n       [0.7596912 , 0.2403088 ],\n       [0.5611569 , 0.4388431 ],\n       [0.17377065, 0.82622935],\n       [0.42142868, 0.57857132],\n       [0.30538941, 0.69461059],\n       [0.71221976, 0.28778024],\n       [0.77790972, 0.22209028],\n       [0.7938926 , 0.2061074 ],\n       [0.42422877, 0.57577123],\n       [0.63561337, 0.36438663],\n       [0.33103371, 0.66896629],\n       [0.72871439, 0.27128561],\n       [0.16665264, 0.83334736],\n       [0.56600768, 0.43399232],\n       [0.11399337, 0.88600663],\n       [0.76603645, 0.23396355],\n       [0.62829315, 0.37170685],\n       [0.61790495, 0.38209505],\n       [0.30203861, 0.69796139],\n       [0.34090197, 0.65909803],\n       [0.70607803, 0.29392197],\n       [0.20313854, 0.79686146],\n       [0.79043907, 0.20956093],\n       [0.7300077 , 0.2699923 ],\n       [0.89600113, 0.10399887],\n       [0.77546993, 0.22453007],\n       [0.26055756, 0.73944244],\n       [0.69918168, 0.30081832],\n       [0.77546993, 0.22453007],\n       [0.67311234, 0.32688766],\n       [0.09662446, 0.90337554],\n       [0.54254271, 0.45745729],\n       [0.40002753, 0.59997247],\n       [0.77903962, 0.22096038],\n       [0.22136985, 0.77863015],\n       [0.27141023, 0.72858977],\n       [0.25655446, 0.74344554],\n       [0.32955172, 0.67044828],\n       [0.75152292, 0.24847708],\n       [0.91016537, 0.08983463],\n       [0.76603645, 0.23396355],\n       [0.24559275, 0.75440725],\n       [0.5662996 , 0.4337004 ],\n       [0.87737541, 0.12262459],\n       [0.29308287, 0.70691713],\n       [0.41634563, 0.58365437],\n       [0.72586122, 0.27413878],\n       [0.31683213, 0.68316787],\n       [0.82638206, 0.17361794],\n       [0.84738944, 0.15261056],\n       [0.77133106, 0.22866894],\n       [0.7300077 , 0.2699923 ],\n       [0.74708659, 0.25291341],\n       [0.14880137, 0.85119863],\n       [0.70306858, 0.29693142],\n       [0.23583473, 0.76416527],\n       [0.75414044, 0.24585956],\n       [0.7849557 , 0.2150443 ],\n       [0.37899345, 0.62100655],\n       [0.31683213, 0.68316787],\n       [0.3009509 , 0.6990491 ],\n       [0.25754083, 0.74245917],\n       [0.55349928, 0.44650072],\n       [0.52051622, 0.47948378],\n       [0.72120075, 0.27879925],\n       [0.14880137, 0.85119863],\n       [0.22409477, 0.77590523],\n       [0.85302259, 0.14697741],\n       [0.91714155, 0.08285845],\n       [0.09654353, 0.90345647],\n       [0.3277294 , 0.6722706 ],\n       [0.66009241, 0.33990759],\n       [0.47609389, 0.52390611],\n       [0.44001423, 0.55998577],\n       [0.20887576, 0.79112424],\n       [0.1783463 , 0.8216537 ],\n       [0.45533557, 0.54466443],\n       [0.6893534 , 0.3106466 ],\n       [0.73863728, 0.26136272],\n       [0.8399901 , 0.1600099 ],\n       [0.19001459, 0.80998541],\n       [0.54516654, 0.45483346],\n       [0.77903962, 0.22096038],\n       [0.65072406, 0.34927594],\n       [0.78656024, 0.21343976],\n       [0.88776978, 0.11223022],\n       [0.25780614, 0.74219386],\n       [0.69874615, 0.30125385],\n       [0.3864439 , 0.6135561 ],\n       [0.78656024, 0.21343976],\n       [0.70306858, 0.29693142],\n       [0.65072406, 0.34927594],\n       [0.73284787, 0.26715213],\n       [0.47609389, 0.52390611],\n       [0.53930442, 0.46069558],\n       [0.68979648, 0.31020352],\n       [0.75414044, 0.24585956],\n       [0.54254271, 0.45745729]])"
          },
          "metadata": {}
        }
      ]
    },
    {
      "metadata": {
        "trusted": true
      },
      "cell_type": "code",
      "source": "predicted_proba.shape",
      "execution_count": 53,
      "outputs": [
        {
          "output_type": "execute_result",
          "execution_count": 53,
          "data": {
            "text/plain": "(140, 2)"
          },
          "metadata": {}
        }
      ]
    },
    {
      "metadata": {
        "trusted": true
      },
      "cell_type": "code",
      "source": "# select ONLY the probabilities referring to 1s\npredicted_proba[:,1]",
      "execution_count": 54,
      "outputs": [
        {
          "output_type": "execute_result",
          "execution_count": 54,
          "data": {
            "text/plain": "array([0.28778024, 0.41239991, 0.55662562, 0.22096038, 0.91541657,\n       0.66896629, 0.70207504, 0.87043779, 0.21692179, 0.25291341,\n       0.50485031, 0.77359703, 0.92969016, 0.26495948, 0.69466915,\n       0.44964119, 0.44972574, 0.46069558, 0.59882226, 0.94679318,\n       0.30125385, 0.22096038, 0.58365437, 0.58365437, 0.7587085 ,\n       0.25682913, 0.48934806, 0.14296697, 0.80065765, 0.22096038,\n       0.37028423, 0.68316787, 0.68825755, 0.52694241, 0.22096038,\n       0.53492642, 0.22453007, 0.74389237, 0.40329273, 0.60301627,\n       0.21343976, 0.45483346, 0.2403088 , 0.4388431 , 0.82622935,\n       0.57857132, 0.69461059, 0.28778024, 0.22209028, 0.2061074 ,\n       0.57577123, 0.36438663, 0.66896629, 0.27128561, 0.83334736,\n       0.43399232, 0.88600663, 0.23396355, 0.37170685, 0.38209505,\n       0.69796139, 0.65909803, 0.29392197, 0.79686146, 0.20956093,\n       0.2699923 , 0.10399887, 0.22453007, 0.73944244, 0.30081832,\n       0.22453007, 0.32688766, 0.90337554, 0.45745729, 0.59997247,\n       0.22096038, 0.77863015, 0.72858977, 0.74344554, 0.67044828,\n       0.24847708, 0.08983463, 0.23396355, 0.75440725, 0.4337004 ,\n       0.12262459, 0.70691713, 0.58365437, 0.27413878, 0.68316787,\n       0.17361794, 0.15261056, 0.22866894, 0.2699923 , 0.25291341,\n       0.85119863, 0.29693142, 0.76416527, 0.24585956, 0.2150443 ,\n       0.62100655, 0.68316787, 0.6990491 , 0.74245917, 0.44650072,\n       0.47948378, 0.27879925, 0.85119863, 0.77590523, 0.14697741,\n       0.08285845, 0.90345647, 0.6722706 , 0.33990759, 0.52390611,\n       0.55998577, 0.79112424, 0.8216537 , 0.54466443, 0.3106466 ,\n       0.26136272, 0.1600099 , 0.80998541, 0.45483346, 0.22096038,\n       0.34927594, 0.21343976, 0.11223022, 0.74219386, 0.30125385,\n       0.6135561 , 0.21343976, 0.29693142, 0.34927594, 0.26715213,\n       0.52390611, 0.46069558, 0.31020352, 0.24585956, 0.45745729])"
          },
          "metadata": {}
        }
      ]
    },
    {
      "metadata": {},
      "cell_type": "markdown",
      "source": "## Save the model"
    },
    {
      "metadata": {
        "trusted": true
      },
      "cell_type": "code",
      "source": "# import the relevant module\nimport pickle",
      "execution_count": 55,
      "outputs": []
    },
    {
      "metadata": {
        "trusted": true
      },
      "cell_type": "code",
      "source": "# pickle the model file\nwith open('model', 'wb') as file:\n    pickle.dump(reg, file)",
      "execution_count": 56,
      "outputs": []
    },
    {
      "metadata": {
        "trusted": true
      },
      "cell_type": "code",
      "source": "# pickle the scaler file\nwith open('scaler','wb') as file:\n    pickle.dump(absenteeism_scaler, file)",
      "execution_count": 57,
      "outputs": []
    }
  ],
  "metadata": {
    "kernelspec": {
      "name": "python3",
      "display_name": "Python 3",
      "language": "python"
    },
    "language_info": {
      "mimetype": "text/x-python",
      "nbconvert_exporter": "python",
      "name": "python",
      "pygments_lexer": "ipython3",
      "version": "3.5.4",
      "file_extension": ".py",
      "codemirror_mode": {
        "version": 3,
        "name": "ipython"
      }
    }
  },
  "nbformat": 4,
  "nbformat_minor": 2
}