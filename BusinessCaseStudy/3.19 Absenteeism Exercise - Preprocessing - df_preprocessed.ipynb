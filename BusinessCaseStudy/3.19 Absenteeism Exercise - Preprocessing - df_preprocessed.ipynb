{
  "cells": [
    {
      "metadata": {
        "trusted": true
      },
      "cell_type": "code",
      "source": "# Below you can find the code that builds up to the ‘df_reason_mod’ checkpoint.\n# Additionally, in the comments you can see the code that we ran in the lectures to check \n# the current state of a specific object while explaining various programming or data analytics concepts. \n\n\nimport pandas as pd\nraw_csv_data = pd.read_csv(\"Absenteeism_data.csv\")\n\n# type(raw_csv_data)\n# raw_csv_data\n\ndf = raw_csv_data.copy()\n# df\n\n# pd.options.display.max_columns = None\n# pd.options.display.max_rows = None\n# display(df)\n# df.info()\n\n\n\n########## Drop 'ID': ############################\n##################################################\n\n\n# df.drop(['ID'])\n# df.drop(['ID'], axis = 1)\ndf = df.drop(['ID'], axis = 1)\n\n# df\n# raw_csv_data\n\n\n\n########## 'Reason for Absence' ##################\n##################################################\n\n\n# df['Reason for Absence'].min()\n# df['Reason for Absence'].max()\n# pd.unique(df['Reason for Absence'])\n# df['Reason for Absence'].unique()\n# len(df['Reason for Absence'].unique())\n# sorted(df['Reason for Absence'].unique())\n\n\n\n########## '.get_dummies()' ######################\n##################################################\n\n\nreason_columns = pd.get_dummies(df['Reason for Absence'])\n# reason_columns\n\nreason_columns['check'] = reason_columns.sum(axis=1)\n# reason_columns\n\n# reason_columns['check'].sum(axis=0)\n# reason_columns['check'].unique()\n\nreason_columns = reason_columns.drop(['check'], axis = 1)\n# reason_columns\n\nreason_columns = pd.get_dummies(df['Reason for Absence'], drop_first = True)\n# reason_columns\n\n\n\n########## Group the Reasons for Absence##########\n##################################################\n\n\n# df.columns.values\n# reason_columns.columns.values\ndf = df.drop(['Reason for Absence'], axis = 1)\n# df\n\n# reason_columns.loc[:, 1:14].max(axis=1)\nreason_type_1 = reason_columns.loc[:, 1:14].max(axis=1)\nreason_type_2 = reason_columns.loc[:, 15:17].max(axis=1)\nreason_type_3 = reason_columns.loc[:, 18:21].max(axis=1)\nreason_type_4 = reason_columns.loc[:, 22:].max(axis=1)\n\n# reason_type_1\n# reason_type_2\n# reason_type_3\n# reason_type_4\n\n\n\n########## Concatenate Column Values #############\n##################################################\n\n\n# df\n\ndf = pd.concat([df, reason_type_1, reason_type_2, reason_type_3, reason_type_4], axis = 1)\n# df\n\n# df.columns.values\ncolumn_names = ['Date', 'Transportation Expense', 'Distance to Work', 'Age',\n       'Daily Work Load Average', 'Body Mass Index', 'Education',\n       'Children', 'Pets', 'Absenteeism Time in Hours', 'Reason_1', 'Reason_2', 'Reason_3', 'Reason_4']\n\ndf.columns = column_names\n# df.head()\n\n\n\n########## Reorder Columns #######################\n##################################################\n\n\ncolumn_names_reordered = ['Reason_1', 'Reason_2', 'Reason_3', 'Reason_4', \n                          'Date', 'Transportation Expense', 'Distance to Work', 'Age',\n       'Daily Work Load Average', 'Body Mass Index', 'Education',\n       'Children', 'Pets', 'Absenteeism Time in Hours']\n\ndf = df[column_names_reordered]\n# df.head()\n\n\n\n########## Create a Checkpoint ###################\n##################################################\n\n\ndf_reason_mod = df.copy()\n# df_reason_mod\n\n\n\n########## 'Date' ################################\n##################################################\n\n\n# df_reason_mod['Date']\n# df_reason_mod['Date'][0]\n# type(df_reason_mod['Date'][0])\n\n# df_reason_mod['Date'] = pd.to_datetime(df_reason_mod['Date'])\n# df_reason_mod['Date']\n\ndf_reason_mod['Date'] = pd.to_datetime(df_reason_mod['Date'], format = '%d/%m/%Y')\n# df_reason_mod['Date']\n# type(df_reason_mod['Date'])\n# df_reason_mod.info()\n\n\n\n########## Extract the Month Value ###############\n##################################################\n\n\n# df_reason_mod['Date'][0]\n# df_reason_mod['Date'][0].month\n\nlist_months = []\n# list_months\n\n# df_reason_mod.shape\n\nfor i in range(df_reason_mod.shape[0]):\n    list_months.append(df_reason_mod['Date'][i].month)\n    \n# list_months\n# len(list_months)\ndf_reason_mod['Month Value'] = list_months\n# df_reason_mod.head(20)\n\n\n\n########## Extract the Month Value ###############\n##################################################\n\n\n# df_reason_mod['Date'][699].weekday()\n# df_reason_mod['Date'][699]\n\ndef date_to_weekday(date_value):\n    return date_value.weekday()\n\ndf_reason_mod['Day of the Week'] = df_reason_mod['Date'].apply(date_to_weekday)\n\n# df_reason_mod.head()\n\n\n\n########## Exercise ##############################\n##################################################\n\n\ndf_reason_mod = df_reason_mod.drop(['Date'], axis = 1)\n# df_reason_mod.head()\n# df_reason_mod.columns.values\ncolumn_names_upd = ['Reason_1', 'Reason_2', 'Reason_3', 'Reason_4', 'Month Value', 'Day of the Week',\n       'Transportation Expense', 'Distance to Work', 'Age',\n       'Daily Work Load Average', 'Body Mass Index', 'Education', 'Children',\n       'Pets', 'Absenteeism Time in Hours']\ndf_reason_mod = df_reason_mod[column_names_upd]\n# df_reason_mod.head()\n\n\n\n########## Create a Checkpoint ###################\n##################################################\n\n\ndf_reason_date_mod = df_reason_mod.copy()\n# df_reason_date_mod\n\n\n# type(df_reason_date_mod['Transportation Expense'][0])\n# type(df_reason_date_mod['Distance to Work'][0])\n# type(df_reason_date_mod['Age'][0])\n# type(df_reason_date_mod['Daily Work Load Average'][0])\n# type(df_reason_date_mod['Body Mass Index'][0])\n\n\n\n########## 'Education', 'Children', 'Pets' #######\n##################################################\n\n\n# display(df_reason_date_mod)\n# df_reason_date_mod['Education'].unique()\n# df_reason_date_mod['Education'].value_counts()\ndf_reason_date_mod['Education'] = df_reason_date_mod['Education'].map({1:0, 2:1, 3:1, 4:1})\n# df_reason_date_mod['Education'].unique()\n# df_reason_date_mod['Education'].value_counts()\n\n\n\n########## Final Checkpoint ######################\n##################################################\n\n\ndf_preprocessed = df_reason_date_mod.copy()\ndf_preprocessed.head(10)\n\ndf_preprocessed.to_csv('Absenteeism_preprocessed.csv', index=False)",
      "execution_count": 2,
      "outputs": []
    },
    {
      "metadata": {
        "trusted": true
      },
      "cell_type": "code",
      "source": "",
      "execution_count": null,
      "outputs": []
    }
  ],
  "metadata": {
    "kernelspec": {
      "name": "python3",
      "display_name": "Python 3",
      "language": "python"
    },
    "language_info": {
      "mimetype": "text/x-python",
      "nbconvert_exporter": "python",
      "name": "python",
      "file_extension": ".py",
      "version": "3.5.4",
      "pygments_lexer": "ipython3",
      "codemirror_mode": {
        "version": 3,
        "name": "ipython"
      }
    }
  },
  "nbformat": 4,
  "nbformat_minor": 2
}