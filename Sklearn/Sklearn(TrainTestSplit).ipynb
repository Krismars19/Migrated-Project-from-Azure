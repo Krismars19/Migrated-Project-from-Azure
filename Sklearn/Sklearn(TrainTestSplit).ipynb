{
  "cells": [
    {
      "metadata": {},
      "cell_type": "markdown",
      "source": "# Train Test Split"
    },
    {
      "metadata": {},
      "cell_type": "markdown",
      "source": "## Import the relevant libraries"
    },
    {
      "metadata": {
        "trusted": true
      },
      "cell_type": "code",
      "source": "# In this lesson we will explore the train_test_split module\n# Therefore we need no more than the module itself and NumPy\nimport numpy as np\nfrom sklearn.model_selection import train_test_split",
      "execution_count": null,
      "outputs": []
    },
    {
      "metadata": {},
      "cell_type": "markdown",
      "source": "## Generate some data we are going to split"
    },
    {
      "metadata": {
        "trusted": true
      },
      "cell_type": "code",
      "source": "# Let's generate a new data frame 'a' which will contain all integers from 1 to 100\n# The method np.arange works like the built-in method 'range' with the difference it creates an array\na = np.arange(1,101)",
      "execution_count": null,
      "outputs": []
    },
    {
      "metadata": {
        "trusted": true
      },
      "cell_type": "code",
      "source": "# Let's check it out\na",
      "execution_count": null,
      "outputs": []
    },
    {
      "metadata": {
        "trusted": true
      },
      "cell_type": "code",
      "source": "# Similarly, let's create another ndarray 'b', which will contain integers from 501 to 600\n# We have intentionally picked these numbers so we can easily compare the two\n# Obviously, the difference between the elements of the two arrays is 500 for any two corresponding elements\nb = np.arange(501,601)\nb",
      "execution_count": null,
      "outputs": []
    },
    {
      "metadata": {},
      "cell_type": "markdown",
      "source": "## Split the data\nFull documentation: https://scikit-learn.org/stable/modules/generated/sklearn.model_selection.train_test_split.html"
    },
    {
      "metadata": {
        "trusted": true
      },
      "cell_type": "code",
      "source": "# Let's check out how this works\ntrain_test_split(a)",
      "execution_count": null,
      "outputs": []
    },
    {
      "metadata": {
        "trusted": true
      },
      "cell_type": "code",
      "source": "# There are several different arguments we can set when we employ this method\n# Most often, we have inputs and targets, so we have to split 2 different arrays\n# we are simulating this situation by splitting 'a' and 'b'\n\n# You can specify the 'test_size' or the 'train_size' (but the latter is deprecated and will be removed)\n# essentially the two have the same meaning \n# Common splits are 75-25, 80-20, 85-15, 90-10\n\n# Finally, you should always employ a 'random_state'\n# In this way you ensure that when you are splitting the data you will always get the SAME random shuffle\n\n# Note 2 arrays will be split into 4\n# The order is train1, test1, train2, test2 \n# It is very useful to store them in 4 variables, so we can later use them\na_train, a_test, b_train, b_test = train_test_split(a, b, test_size=0.2, random_state=365)",
      "execution_count": null,
      "outputs": []
    },
    {
      "metadata": {},
      "cell_type": "markdown",
      "source": "## Explore the result"
    },
    {
      "metadata": {
        "trusted": true
      },
      "cell_type": "code",
      "source": "# Let's check the shapes\n# Basically, we are checking how does the 'test_size' work\na_train.shape, a_test.shape",
      "execution_count": null,
      "outputs": []
    },
    {
      "metadata": {
        "trusted": true
      },
      "cell_type": "code",
      "source": "# Explore manually\na_train",
      "execution_count": null,
      "outputs": []
    },
    {
      "metadata": {
        "trusted": true
      },
      "cell_type": "code",
      "source": "# Explore manually\na_test",
      "execution_count": null,
      "outputs": []
    },
    {
      "metadata": {
        "trusted": true
      },
      "cell_type": "code",
      "source": "b_train.shape, b_test.shape",
      "execution_count": null,
      "outputs": []
    },
    {
      "metadata": {
        "trusted": true
      },
      "cell_type": "code",
      "source": "b_train",
      "execution_count": null,
      "outputs": []
    },
    {
      "metadata": {
        "trusted": true
      },
      "cell_type": "code",
      "source": "b_test",
      "execution_count": null,
      "outputs": []
    }
  ],
  "metadata": {
    "kernelspec": {
      "name": "python3",
      "display_name": "Python 3",
      "language": "python"
    },
    "language_info": {
      "mimetype": "text/x-python",
      "nbconvert_exporter": "python",
      "name": "python",
      "file_extension": ".py",
      "version": "3.5.4",
      "pygments_lexer": "ipython3",
      "codemirror_mode": {
        "version": 3,
        "name": "ipython"
      }
    }
  },
  "nbformat": 4,
  "nbformat_minor": 2
}