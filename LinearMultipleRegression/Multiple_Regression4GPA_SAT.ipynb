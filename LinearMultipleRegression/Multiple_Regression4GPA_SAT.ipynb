{
  "cells": [
    {
      "metadata": {},
      "cell_type": "markdown",
      "source": "# Multiple linear regression and adjusted R-squared"
    },
    {
      "metadata": {},
      "cell_type": "markdown",
      "source": "## Import the relevant libraries"
    },
    {
      "metadata": {
        "trusted": true
      },
      "cell_type": "code",
      "source": "import numpy as np\nimport pandas as pd\nimport matplotlib.pyplot as plt\nimport statsmodels.api as sm\nimport seaborn\nseaborn.set()",
      "execution_count": 1,
      "outputs": []
    },
    {
      "metadata": {},
      "cell_type": "markdown",
      "source": "## Load the data"
    },
    {
      "metadata": {
        "trusted": true
      },
      "cell_type": "code",
      "source": "# Load the data from a .csv in the same folder\ndata = pd.read_csv('1.02. Multiple linear regression.csv')",
      "execution_count": 2,
      "outputs": []
    },
    {
      "metadata": {
        "scrolled": true,
        "trusted": true
      },
      "cell_type": "code",
      "source": "# Let's check what's inside this data frame\ndata",
      "execution_count": 3,
      "outputs": [
        {
          "output_type": "execute_result",
          "execution_count": 3,
          "data": {
            "text/html": "<div>\n<table border=\"1\" class=\"dataframe\">\n  <thead>\n    <tr style=\"text-align: right;\">\n      <th></th>\n      <th>SAT</th>\n      <th>GPA</th>\n      <th>Rand 1,2,3</th>\n    </tr>\n  </thead>\n  <tbody>\n    <tr>\n      <th>0</th>\n      <td>1714</td>\n      <td>2.40</td>\n      <td>1</td>\n    </tr>\n    <tr>\n      <th>1</th>\n      <td>1664</td>\n      <td>2.52</td>\n      <td>3</td>\n    </tr>\n    <tr>\n      <th>2</th>\n      <td>1760</td>\n      <td>2.54</td>\n      <td>3</td>\n    </tr>\n    <tr>\n      <th>3</th>\n      <td>1685</td>\n      <td>2.74</td>\n      <td>3</td>\n    </tr>\n    <tr>\n      <th>4</th>\n      <td>1693</td>\n      <td>2.83</td>\n      <td>2</td>\n    </tr>\n    <tr>\n      <th>5</th>\n      <td>1670</td>\n      <td>2.91</td>\n      <td>1</td>\n    </tr>\n    <tr>\n      <th>6</th>\n      <td>1764</td>\n      <td>3.00</td>\n      <td>2</td>\n    </tr>\n    <tr>\n      <th>7</th>\n      <td>1764</td>\n      <td>3.00</td>\n      <td>1</td>\n    </tr>\n    <tr>\n      <th>8</th>\n      <td>1792</td>\n      <td>3.01</td>\n      <td>2</td>\n    </tr>\n    <tr>\n      <th>9</th>\n      <td>1850</td>\n      <td>3.01</td>\n      <td>3</td>\n    </tr>\n    <tr>\n      <th>10</th>\n      <td>1735</td>\n      <td>3.02</td>\n      <td>3</td>\n    </tr>\n    <tr>\n      <th>11</th>\n      <td>1775</td>\n      <td>3.07</td>\n      <td>2</td>\n    </tr>\n    <tr>\n      <th>12</th>\n      <td>1735</td>\n      <td>3.08</td>\n      <td>1</td>\n    </tr>\n    <tr>\n      <th>13</th>\n      <td>1712</td>\n      <td>3.08</td>\n      <td>3</td>\n    </tr>\n    <tr>\n      <th>14</th>\n      <td>1773</td>\n      <td>3.12</td>\n      <td>2</td>\n    </tr>\n    <tr>\n      <th>15</th>\n      <td>1872</td>\n      <td>3.17</td>\n      <td>2</td>\n    </tr>\n    <tr>\n      <th>16</th>\n      <td>1755</td>\n      <td>3.17</td>\n      <td>3</td>\n    </tr>\n    <tr>\n      <th>17</th>\n      <td>1674</td>\n      <td>3.17</td>\n      <td>2</td>\n    </tr>\n    <tr>\n      <th>18</th>\n      <td>1842</td>\n      <td>3.17</td>\n      <td>3</td>\n    </tr>\n    <tr>\n      <th>19</th>\n      <td>1786</td>\n      <td>3.19</td>\n      <td>3</td>\n    </tr>\n    <tr>\n      <th>20</th>\n      <td>1761</td>\n      <td>3.19</td>\n      <td>3</td>\n    </tr>\n    <tr>\n      <th>21</th>\n      <td>1722</td>\n      <td>3.19</td>\n      <td>3</td>\n    </tr>\n    <tr>\n      <th>22</th>\n      <td>1663</td>\n      <td>3.20</td>\n      <td>3</td>\n    </tr>\n    <tr>\n      <th>23</th>\n      <td>1687</td>\n      <td>3.21</td>\n      <td>1</td>\n    </tr>\n    <tr>\n      <th>24</th>\n      <td>1974</td>\n      <td>3.24</td>\n      <td>1</td>\n    </tr>\n    <tr>\n      <th>25</th>\n      <td>1826</td>\n      <td>3.28</td>\n      <td>1</td>\n    </tr>\n    <tr>\n      <th>26</th>\n      <td>1787</td>\n      <td>3.28</td>\n      <td>1</td>\n    </tr>\n    <tr>\n      <th>27</th>\n      <td>1821</td>\n      <td>3.28</td>\n      <td>3</td>\n    </tr>\n    <tr>\n      <th>28</th>\n      <td>2020</td>\n      <td>3.28</td>\n      <td>1</td>\n    </tr>\n    <tr>\n      <th>29</th>\n      <td>1794</td>\n      <td>3.28</td>\n      <td>2</td>\n    </tr>\n    <tr>\n      <th>...</th>\n      <td>...</td>\n      <td>...</td>\n      <td>...</td>\n    </tr>\n    <tr>\n      <th>54</th>\n      <td>1879</td>\n      <td>3.44</td>\n      <td>1</td>\n    </tr>\n    <tr>\n      <th>55</th>\n      <td>1887</td>\n      <td>3.47</td>\n      <td>1</td>\n    </tr>\n    <tr>\n      <th>56</th>\n      <td>1730</td>\n      <td>3.47</td>\n      <td>2</td>\n    </tr>\n    <tr>\n      <th>57</th>\n      <td>1953</td>\n      <td>3.47</td>\n      <td>1</td>\n    </tr>\n    <tr>\n      <th>58</th>\n      <td>1781</td>\n      <td>3.47</td>\n      <td>2</td>\n    </tr>\n    <tr>\n      <th>59</th>\n      <td>1891</td>\n      <td>3.48</td>\n      <td>2</td>\n    </tr>\n    <tr>\n      <th>60</th>\n      <td>1964</td>\n      <td>3.49</td>\n      <td>1</td>\n    </tr>\n    <tr>\n      <th>61</th>\n      <td>1808</td>\n      <td>3.49</td>\n      <td>3</td>\n    </tr>\n    <tr>\n      <th>62</th>\n      <td>1893</td>\n      <td>3.50</td>\n      <td>3</td>\n    </tr>\n    <tr>\n      <th>63</th>\n      <td>2041</td>\n      <td>3.51</td>\n      <td>3</td>\n    </tr>\n    <tr>\n      <th>64</th>\n      <td>1893</td>\n      <td>3.51</td>\n      <td>1</td>\n    </tr>\n    <tr>\n      <th>65</th>\n      <td>1832</td>\n      <td>3.52</td>\n      <td>2</td>\n    </tr>\n    <tr>\n      <th>66</th>\n      <td>1850</td>\n      <td>3.52</td>\n      <td>3</td>\n    </tr>\n    <tr>\n      <th>67</th>\n      <td>1934</td>\n      <td>3.54</td>\n      <td>2</td>\n    </tr>\n    <tr>\n      <th>68</th>\n      <td>1861</td>\n      <td>3.58</td>\n      <td>2</td>\n    </tr>\n    <tr>\n      <th>69</th>\n      <td>1931</td>\n      <td>3.58</td>\n      <td>3</td>\n    </tr>\n    <tr>\n      <th>70</th>\n      <td>1933</td>\n      <td>3.59</td>\n      <td>3</td>\n    </tr>\n    <tr>\n      <th>71</th>\n      <td>1778</td>\n      <td>3.59</td>\n      <td>1</td>\n    </tr>\n    <tr>\n      <th>72</th>\n      <td>1975</td>\n      <td>3.60</td>\n      <td>1</td>\n    </tr>\n    <tr>\n      <th>73</th>\n      <td>1934</td>\n      <td>3.60</td>\n      <td>3</td>\n    </tr>\n    <tr>\n      <th>74</th>\n      <td>2021</td>\n      <td>3.61</td>\n      <td>3</td>\n    </tr>\n    <tr>\n      <th>75</th>\n      <td>2015</td>\n      <td>3.62</td>\n      <td>3</td>\n    </tr>\n    <tr>\n      <th>76</th>\n      <td>1997</td>\n      <td>3.64</td>\n      <td>1</td>\n    </tr>\n    <tr>\n      <th>77</th>\n      <td>2020</td>\n      <td>3.65</td>\n      <td>2</td>\n    </tr>\n    <tr>\n      <th>78</th>\n      <td>1843</td>\n      <td>3.71</td>\n      <td>3</td>\n    </tr>\n    <tr>\n      <th>79</th>\n      <td>1936</td>\n      <td>3.71</td>\n      <td>3</td>\n    </tr>\n    <tr>\n      <th>80</th>\n      <td>1810</td>\n      <td>3.71</td>\n      <td>1</td>\n    </tr>\n    <tr>\n      <th>81</th>\n      <td>1987</td>\n      <td>3.73</td>\n      <td>3</td>\n    </tr>\n    <tr>\n      <th>82</th>\n      <td>1962</td>\n      <td>3.76</td>\n      <td>1</td>\n    </tr>\n    <tr>\n      <th>83</th>\n      <td>2050</td>\n      <td>3.81</td>\n      <td>2</td>\n    </tr>\n  </tbody>\n</table>\n<p>84 rows × 3 columns</p>\n</div>",
            "text/plain": "     SAT   GPA  Rand 1,2,3\n0   1714  2.40           1\n1   1664  2.52           3\n2   1760  2.54           3\n3   1685  2.74           3\n4   1693  2.83           2\n5   1670  2.91           1\n6   1764  3.00           2\n7   1764  3.00           1\n8   1792  3.01           2\n9   1850  3.01           3\n10  1735  3.02           3\n11  1775  3.07           2\n12  1735  3.08           1\n13  1712  3.08           3\n14  1773  3.12           2\n15  1872  3.17           2\n16  1755  3.17           3\n17  1674  3.17           2\n18  1842  3.17           3\n19  1786  3.19           3\n20  1761  3.19           3\n21  1722  3.19           3\n22  1663  3.20           3\n23  1687  3.21           1\n24  1974  3.24           1\n25  1826  3.28           1\n26  1787  3.28           1\n27  1821  3.28           3\n28  2020  3.28           1\n29  1794  3.28           2\n..   ...   ...         ...\n54  1879  3.44           1\n55  1887  3.47           1\n56  1730  3.47           2\n57  1953  3.47           1\n58  1781  3.47           2\n59  1891  3.48           2\n60  1964  3.49           1\n61  1808  3.49           3\n62  1893  3.50           3\n63  2041  3.51           3\n64  1893  3.51           1\n65  1832  3.52           2\n66  1850  3.52           3\n67  1934  3.54           2\n68  1861  3.58           2\n69  1931  3.58           3\n70  1933  3.59           3\n71  1778  3.59           1\n72  1975  3.60           1\n73  1934  3.60           3\n74  2021  3.61           3\n75  2015  3.62           3\n76  1997  3.64           1\n77  2020  3.65           2\n78  1843  3.71           3\n79  1936  3.71           3\n80  1810  3.71           1\n81  1987  3.73           3\n82  1962  3.76           1\n83  2050  3.81           2\n\n[84 rows x 3 columns]"
          },
          "metadata": {}
        }
      ]
    },
    {
      "metadata": {
        "trusted": true
      },
      "cell_type": "code",
      "source": "# This method gives us very nice descriptive statistics. We don't need this as of now, but will later on!\ndata.describe()",
      "execution_count": 4,
      "outputs": [
        {
          "output_type": "execute_result",
          "execution_count": 4,
          "data": {
            "text/html": "<div>\n<table border=\"1\" class=\"dataframe\">\n  <thead>\n    <tr style=\"text-align: right;\">\n      <th></th>\n      <th>SAT</th>\n      <th>GPA</th>\n      <th>Rand 1,2,3</th>\n    </tr>\n  </thead>\n  <tbody>\n    <tr>\n      <th>count</th>\n      <td>84.000000</td>\n      <td>84.000000</td>\n      <td>84.000000</td>\n    </tr>\n    <tr>\n      <th>mean</th>\n      <td>1845.273810</td>\n      <td>3.330238</td>\n      <td>2.059524</td>\n    </tr>\n    <tr>\n      <th>std</th>\n      <td>104.530661</td>\n      <td>0.271617</td>\n      <td>0.855192</td>\n    </tr>\n    <tr>\n      <th>min</th>\n      <td>1634.000000</td>\n      <td>2.400000</td>\n      <td>1.000000</td>\n    </tr>\n    <tr>\n      <th>25%</th>\n      <td>1772.000000</td>\n      <td>3.190000</td>\n      <td>1.000000</td>\n    </tr>\n    <tr>\n      <th>50%</th>\n      <td>1846.000000</td>\n      <td>3.380000</td>\n      <td>2.000000</td>\n    </tr>\n    <tr>\n      <th>75%</th>\n      <td>1934.000000</td>\n      <td>3.502500</td>\n      <td>3.000000</td>\n    </tr>\n    <tr>\n      <th>max</th>\n      <td>2050.000000</td>\n      <td>3.810000</td>\n      <td>3.000000</td>\n    </tr>\n  </tbody>\n</table>\n</div>",
            "text/plain": "               SAT        GPA  Rand 1,2,3\ncount    84.000000  84.000000   84.000000\nmean   1845.273810   3.330238    2.059524\nstd     104.530661   0.271617    0.855192\nmin    1634.000000   2.400000    1.000000\n25%    1772.000000   3.190000    1.000000\n50%    1846.000000   3.380000    2.000000\n75%    1934.000000   3.502500    3.000000\nmax    2050.000000   3.810000    3.000000"
          },
          "metadata": {}
        }
      ]
    },
    {
      "metadata": {},
      "cell_type": "markdown",
      "source": "## Create your first multiple regression"
    },
    {
      "metadata": {
        "trusted": true
      },
      "cell_type": "code",
      "source": "# Following the regression equation, our dependent variable (y) is the GPA\ny = data ['GPA']\n# Similarly, our independent variable (x) is the SAT score\nx1 = data [['SAT','Rand 1,2,3']]",
      "execution_count": 5,
      "outputs": []
    },
    {
      "metadata": {
        "trusted": true
      },
      "cell_type": "code",
      "source": "# Add a constant. Esentially, we are adding a new column (equal in lenght to x), which consists only of 1s\nx = sm.add_constant(x1)\n# Fit the model, according to the OLS (ordinary least squares) method with a dependent variable y and an idependent x\nresults = sm.OLS(y,x).fit()",
      "execution_count": 6,
      "outputs": []
    },
    {
      "metadata": {
        "trusted": true
      },
      "cell_type": "code",
      "source": "# Print a nice summary of the regression.\nresults.summary()",
      "execution_count": 7,
      "outputs": [
        {
          "output_type": "execute_result",
          "execution_count": 7,
          "data": {
            "text/html": "<table class=\"simpletable\">\n<caption>OLS Regression Results</caption>\n<tr>\n  <th>Dep. Variable:</th>           <td>GPA</td>       <th>  R-squared:         </th> <td>   0.407</td>\n</tr>\n<tr>\n  <th>Model:</th>                   <td>OLS</td>       <th>  Adj. R-squared:    </th> <td>   0.392</td>\n</tr>\n<tr>\n  <th>Method:</th>             <td>Least Squares</td>  <th>  F-statistic:       </th> <td>   27.76</td>\n</tr>\n<tr>\n  <th>Date:</th>             <td>Sat, 16 May 2020</td> <th>  Prob (F-statistic):</th> <td>6.58e-10</td>\n</tr>\n<tr>\n  <th>Time:</th>                 <td>00:28:40</td>     <th>  Log-Likelihood:    </th> <td>  12.720</td>\n</tr>\n<tr>\n  <th>No. Observations:</th>      <td>    84</td>      <th>  AIC:               </th> <td>  -19.44</td>\n</tr>\n<tr>\n  <th>Df Residuals:</th>          <td>    81</td>      <th>  BIC:               </th> <td>  -12.15</td>\n</tr>\n<tr>\n  <th>Df Model:</th>              <td>     2</td>      <th>                     </th>     <td> </td>   \n</tr>\n<tr>\n  <th>Covariance Type:</th>      <td>nonrobust</td>    <th>                     </th>     <td> </td>   \n</tr>\n</table>\n<table class=\"simpletable\">\n<tr>\n       <td></td>         <th>coef</th>     <th>std err</th>      <th>t</th>      <th>P>|t|</th>  <th>[0.025</th>    <th>0.975]</th>  \n</tr>\n<tr>\n  <th>const</th>      <td>    0.2960</td> <td>    0.417</td> <td>    0.710</td> <td> 0.480</td> <td>   -0.533</td> <td>    1.125</td>\n</tr>\n<tr>\n  <th>SAT</th>        <td>    0.0017</td> <td>    0.000</td> <td>    7.432</td> <td> 0.000</td> <td>    0.001</td> <td>    0.002</td>\n</tr>\n<tr>\n  <th>Rand 1,2,3</th> <td>   -0.0083</td> <td>    0.027</td> <td>   -0.304</td> <td> 0.762</td> <td>   -0.062</td> <td>    0.046</td>\n</tr>\n</table>\n<table class=\"simpletable\">\n<tr>\n  <th>Omnibus:</th>       <td>12.992</td> <th>  Durbin-Watson:     </th> <td>   0.948</td>\n</tr>\n<tr>\n  <th>Prob(Omnibus):</th> <td> 0.002</td> <th>  Jarque-Bera (JB):  </th> <td>  16.364</td>\n</tr>\n<tr>\n  <th>Skew:</th>          <td>-0.731</td> <th>  Prob(JB):          </th> <td>0.000280</td>\n</tr>\n<tr>\n  <th>Kurtosis:</th>      <td> 4.594</td> <th>  Cond. No.          </th> <td>3.33e+04</td>\n</tr>\n</table>",
            "text/plain": "<class 'statsmodels.iolib.summary.Summary'>\n\"\"\"\n                            OLS Regression Results                            \n==============================================================================\nDep. Variable:                    GPA   R-squared:                       0.407\nModel:                            OLS   Adj. R-squared:                  0.392\nMethod:                 Least Squares   F-statistic:                     27.76\nDate:                Sat, 16 May 2020   Prob (F-statistic):           6.58e-10\nTime:                        00:28:40   Log-Likelihood:                 12.720\nNo. Observations:                  84   AIC:                            -19.44\nDf Residuals:                      81   BIC:                            -12.15\nDf Model:                           2                                         \nCovariance Type:            nonrobust                                         \n==============================================================================\n                 coef    std err          t      P>|t|      [0.025      0.975]\n------------------------------------------------------------------------------\nconst          0.2960      0.417      0.710      0.480      -0.533       1.125\nSAT            0.0017      0.000      7.432      0.000       0.001       0.002\nRand 1,2,3    -0.0083      0.027     -0.304      0.762      -0.062       0.046\n==============================================================================\nOmnibus:                       12.992   Durbin-Watson:                   0.948\nProb(Omnibus):                  0.002   Jarque-Bera (JB):               16.364\nSkew:                          -0.731   Prob(JB):                     0.000280\nKurtosis:                       4.594   Cond. No.                     3.33e+04\n==============================================================================\n\nWarnings:\n[1] Standard Errors assume that the covariance matrix of the errors is correctly specified.\n[2] The condition number is large, 3.33e+04. This might indicate that there are\nstrong multicollinearity or other numerical problems.\n\"\"\""
          },
          "metadata": {}
        }
      ]
    }
  ],
  "metadata": {
    "kernelspec": {
      "name": "python3",
      "display_name": "Python 3",
      "language": "python"
    },
    "language_info": {
      "mimetype": "text/x-python",
      "nbconvert_exporter": "python",
      "name": "python",
      "file_extension": ".py",
      "version": "3.5.4",
      "pygments_lexer": "ipython3",
      "codemirror_mode": {
        "version": 3,
        "name": "ipython"
      }
    }
  },
  "nbformat": 4,
  "nbformat_minor": 2
}